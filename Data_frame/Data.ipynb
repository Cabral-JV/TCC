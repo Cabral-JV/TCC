{
 "cells": [
  {
   "cell_type": "code",
   "execution_count": null,
   "metadata": {},
   "outputs": [],
   "source": [
    "%pip install selenium\n",
    "%pip install webdriver-manager\n",
    "%pip install pandas\n",
    "%pip install lxml\n",
    "%pip install openpyxl\n",
    "%pip install xlrd"
   ]
  },
  {
   "cell_type": "code",
   "execution_count": 1,
   "metadata": {},
   "outputs": [],
   "source": [
    "# Célula 1: Importações e Configurações Iniciais\n",
    "import os\n",
    "import zipfile\n",
    "import pandas as pd\n",
    "import logging\n",
    "import yfinance as yf\n",
    "import math\n",
    "import time\n",
    "from selenium import webdriver\n",
    "from selenium.webdriver.common.by import By\n",
    "from selenium.webdriver.support.ui import WebDriverWait\n",
    "from selenium.webdriver.support import expected_conditions as EC\n",
    "from selenium.common.exceptions import NoSuchElementException, TimeoutException\n",
    "from io import StringIO\n",
    "from datetime import datetime\n",
    "\n",
    "\n",
    "# Configuração de logging\n",
    "logging.basicConfig(level=logging.INFO, format=\"%(asctime)s - %(levelname)s - %(message)s\")\n",
    "\n",
    "# Configuração das pastas\n",
    "DOWNLOADS_FOLDER = \"downloads\"\n",
    "BALANCOS_FOLDER = \"balancos\"\n",
    "BALANCOS_XLSX_FOLDER = \"balancos_xlsx\"\n",
    "BALANCOS_CONCATENADOS_FOLDER = \"balancos_concatenados\"\n",
    "BALANCOS_DEFINITIVO_FOLDER = \"balancos_definitivos\"\n",
    "\n",
    "# Criar pastas se não existirem\n",
    "for folder in [DOWNLOADS_FOLDER, BALANCOS_FOLDER, BALANCOS_XLSX_FOLDER, BALANCOS_CONCATENADOS_FOLDER, BALANCOS_DEFINITIVO_FOLDER]:\n",
    "    os.makedirs(folder, exist_ok=True)"
   ]
  },
  {
   "cell_type": "code",
   "execution_count": 14,
   "metadata": {},
   "outputs": [
    {
     "name": "stdout",
     "output_type": "stream",
     "text": [
      "Tabela com os dados financeiros:\n"
     ]
    },
    {
     "data": {
      "text/html": [
       "<div>\n",
       "<style scoped>\n",
       "    .dataframe tbody tr th:only-of-type {\n",
       "        vertical-align: middle;\n",
       "    }\n",
       "\n",
       "    .dataframe tbody tr th {\n",
       "        vertical-align: top;\n",
       "    }\n",
       "\n",
       "    .dataframe thead th {\n",
       "        text-align: right;\n",
       "    }\n",
       "</style>\n",
       "<table border=\"1\" class=\"dataframe\">\n",
       "  <thead>\n",
       "    <tr style=\"text-align: right;\">\n",
       "      <th></th>\n",
       "      <th>Papel</th>\n",
       "      <th>Cotação</th>\n",
       "      <th>P/L</th>\n",
       "      <th>P/VP</th>\n",
       "      <th>PSR</th>\n",
       "      <th>Div.Yield</th>\n",
       "      <th>P/Ativo</th>\n",
       "      <th>P/Cap.Giro</th>\n",
       "      <th>P/EBIT</th>\n",
       "      <th>P/Ativ Circ.Liq</th>\n",
       "      <th>...</th>\n",
       "      <th>EV/EBITDA</th>\n",
       "      <th>Mrg Ebit</th>\n",
       "      <th>Mrg. Líq.</th>\n",
       "      <th>Liq. Corr.</th>\n",
       "      <th>ROIC</th>\n",
       "      <th>ROE</th>\n",
       "      <th>Liq.2meses</th>\n",
       "      <th>Patrim. Líq</th>\n",
       "      <th>Dív.Brut/ Patrim.</th>\n",
       "      <th>Cresc. Rec.5a</th>\n",
       "    </tr>\n",
       "  </thead>\n",
       "  <tbody>\n",
       "    <tr>\n",
       "      <th>0</th>\n",
       "      <td>AALR3</td>\n",
       "      <td>15.44</td>\n",
       "      <td>-8.36</td>\n",
       "      <td>1.68</td>\n",
       "      <td>1.536</td>\n",
       "      <td>0,00%</td>\n",
       "      <td>0.678</td>\n",
       "      <td>-11.75</td>\n",
       "      <td>35.93</td>\n",
       "      <td>-1.81</td>\n",
       "      <td>...</td>\n",
       "      <td>15.05</td>\n",
       "      <td>4,28%</td>\n",
       "      <td>-17,52%</td>\n",
       "      <td>0.78</td>\n",
       "      <td>2,21%</td>\n",
       "      <td>-20,06%</td>\n",
       "      <td>576854.0</td>\n",
       "      <td>1.089040e+09</td>\n",
       "      <td>0.77</td>\n",
       "      <td>5,49%</td>\n",
       "    </tr>\n",
       "    <tr>\n",
       "      <th>1</th>\n",
       "      <td>ABCB3</td>\n",
       "      <td>0.00</td>\n",
       "      <td>0.00</td>\n",
       "      <td>0.00</td>\n",
       "      <td>0.000</td>\n",
       "      <td>0,00%</td>\n",
       "      <td>0.000</td>\n",
       "      <td>0.00</td>\n",
       "      <td>0.00</td>\n",
       "      <td>0.00</td>\n",
       "      <td>...</td>\n",
       "      <td>0.00</td>\n",
       "      <td>0,00%</td>\n",
       "      <td>0,00%</td>\n",
       "      <td>0.00</td>\n",
       "      <td>0,00%</td>\n",
       "      <td>14,96%</td>\n",
       "      <td>0.0</td>\n",
       "      <td>6.235070e+09</td>\n",
       "      <td>0.00</td>\n",
       "      <td>13,50%</td>\n",
       "    </tr>\n",
       "    <tr>\n",
       "      <th>2</th>\n",
       "      <td>ABCB4</td>\n",
       "      <td>22.65</td>\n",
       "      <td>5.94</td>\n",
       "      <td>0.89</td>\n",
       "      <td>0.000</td>\n",
       "      <td>6,63%</td>\n",
       "      <td>0.000</td>\n",
       "      <td>0.00</td>\n",
       "      <td>0.00</td>\n",
       "      <td>0.00</td>\n",
       "      <td>...</td>\n",
       "      <td>0.00</td>\n",
       "      <td>0,00%</td>\n",
       "      <td>0,00%</td>\n",
       "      <td>0.00</td>\n",
       "      <td>0,00%</td>\n",
       "      <td>14,96%</td>\n",
       "      <td>15793300.0</td>\n",
       "      <td>6.235070e+09</td>\n",
       "      <td>0.00</td>\n",
       "      <td>13,50%</td>\n",
       "    </tr>\n",
       "    <tr>\n",
       "      <th>3</th>\n",
       "      <td>ABEV3</td>\n",
       "      <td>12.76</td>\n",
       "      <td>13.97</td>\n",
       "      <td>2.11</td>\n",
       "      <td>2.494</td>\n",
       "      <td>5,72%</td>\n",
       "      <td>1.402</td>\n",
       "      <td>54.37</td>\n",
       "      <td>11.64</td>\n",
       "      <td>-22.13</td>\n",
       "      <td>...</td>\n",
       "      <td>8.07</td>\n",
       "      <td>21,43%</td>\n",
       "      <td>18,36%</td>\n",
       "      <td>1.11</td>\n",
       "      <td>15,82%</td>\n",
       "      <td>15,11%</td>\n",
       "      <td>356056000.0</td>\n",
       "      <td>9.526280e+10</td>\n",
       "      <td>0.04</td>\n",
       "      <td>11,56%</td>\n",
       "    </tr>\n",
       "    <tr>\n",
       "      <th>4</th>\n",
       "      <td>ABYA3</td>\n",
       "      <td>4.91</td>\n",
       "      <td>-214.80</td>\n",
       "      <td>1.76</td>\n",
       "      <td>2.055</td>\n",
       "      <td>0,00%</td>\n",
       "      <td>0.527</td>\n",
       "      <td>1.98</td>\n",
       "      <td>19.96</td>\n",
       "      <td>-2.75</td>\n",
       "      <td>...</td>\n",
       "      <td>33.67</td>\n",
       "      <td>10,29%</td>\n",
       "      <td>-0,96%</td>\n",
       "      <td>2.09</td>\n",
       "      <td>2,78%</td>\n",
       "      <td>-0,82%</td>\n",
       "      <td>0.0</td>\n",
       "      <td>2.920600e+08</td>\n",
       "      <td>1.31</td>\n",
       "      <td>16,41%</td>\n",
       "    </tr>\n",
       "    <tr>\n",
       "      <th>...</th>\n",
       "      <td>...</td>\n",
       "      <td>...</td>\n",
       "      <td>...</td>\n",
       "      <td>...</td>\n",
       "      <td>...</td>\n",
       "      <td>...</td>\n",
       "      <td>...</td>\n",
       "      <td>...</td>\n",
       "      <td>...</td>\n",
       "      <td>...</td>\n",
       "      <td>...</td>\n",
       "      <td>...</td>\n",
       "      <td>...</td>\n",
       "      <td>...</td>\n",
       "      <td>...</td>\n",
       "      <td>...</td>\n",
       "      <td>...</td>\n",
       "      <td>...</td>\n",
       "      <td>...</td>\n",
       "      <td>...</td>\n",
       "      <td>...</td>\n",
       "    </tr>\n",
       "    <tr>\n",
       "      <th>982</th>\n",
       "      <td>WLMM4</td>\n",
       "      <td>31.42</td>\n",
       "      <td>8.51</td>\n",
       "      <td>1.55</td>\n",
       "      <td>0.375</td>\n",
       "      <td>4,51%</td>\n",
       "      <td>1.060</td>\n",
       "      <td>2.83</td>\n",
       "      <td>6.43</td>\n",
       "      <td>3.53</td>\n",
       "      <td>...</td>\n",
       "      <td>6.53</td>\n",
       "      <td>5,83%</td>\n",
       "      <td>4,40%</td>\n",
       "      <td>2.56</td>\n",
       "      <td>19,69%</td>\n",
       "      <td>18,21%</td>\n",
       "      <td>22679.2</td>\n",
       "      <td>7.385320e+08</td>\n",
       "      <td>0.25</td>\n",
       "      <td>28,41%</td>\n",
       "    </tr>\n",
       "    <tr>\n",
       "      <th>983</th>\n",
       "      <td>WMBY3</td>\n",
       "      <td>25.39</td>\n",
       "      <td>-19.30</td>\n",
       "      <td>2.87</td>\n",
       "      <td>0.836</td>\n",
       "      <td>0,00%</td>\n",
       "      <td>0.182</td>\n",
       "      <td>1.20</td>\n",
       "      <td>8.62</td>\n",
       "      <td>-1.50</td>\n",
       "      <td>...</td>\n",
       "      <td>25.02</td>\n",
       "      <td>9,70%</td>\n",
       "      <td>-7,05%</td>\n",
       "      <td>1.44</td>\n",
       "      <td>2,39%</td>\n",
       "      <td>-14,86%</td>\n",
       "      <td>0.0</td>\n",
       "      <td>2.124390e+08</td>\n",
       "      <td>6.51</td>\n",
       "      <td>-14,48%</td>\n",
       "    </tr>\n",
       "    <tr>\n",
       "      <th>984</th>\n",
       "      <td>WSON33</td>\n",
       "      <td>67.00</td>\n",
       "      <td>8.07</td>\n",
       "      <td>0.98</td>\n",
       "      <td>1.067</td>\n",
       "      <td>0,00%</td>\n",
       "      <td>0.400</td>\n",
       "      <td>13.41</td>\n",
       "      <td>2.42</td>\n",
       "      <td>-0.89</td>\n",
       "      <td>...</td>\n",
       "      <td>5.08</td>\n",
       "      <td>44,14%</td>\n",
       "      <td>13,58%</td>\n",
       "      <td>1.26</td>\n",
       "      <td>18,36%</td>\n",
       "      <td>12,17%</td>\n",
       "      <td>0.0</td>\n",
       "      <td>2.148530e+09</td>\n",
       "      <td>1.21</td>\n",
       "      <td>5,23%</td>\n",
       "    </tr>\n",
       "    <tr>\n",
       "      <th>985</th>\n",
       "      <td>YDUQ3</td>\n",
       "      <td>9.93</td>\n",
       "      <td>20.97</td>\n",
       "      <td>0.98</td>\n",
       "      <td>0.578</td>\n",
       "      <td>2,76%</td>\n",
       "      <td>0.327</td>\n",
       "      <td>3.49</td>\n",
       "      <td>3.88</td>\n",
       "      <td>-0.76</td>\n",
       "      <td>...</td>\n",
       "      <td>4.74</td>\n",
       "      <td>14,91%</td>\n",
       "      <td>2,80%</td>\n",
       "      <td>1.68</td>\n",
       "      <td>9,27%</td>\n",
       "      <td>4,66%</td>\n",
       "      <td>50864200.0</td>\n",
       "      <td>3.142670e+09</td>\n",
       "      <td>1.66</td>\n",
       "      <td>9,76%</td>\n",
       "    </tr>\n",
       "    <tr>\n",
       "      <th>986</th>\n",
       "      <td>ZAMP3</td>\n",
       "      <td>2.65</td>\n",
       "      <td>-7.49</td>\n",
       "      <td>0.58</td>\n",
       "      <td>0.175</td>\n",
       "      <td>0,00%</td>\n",
       "      <td>0.168</td>\n",
       "      <td>23.12</td>\n",
       "      <td>8.06</td>\n",
       "      <td>-0.39</td>\n",
       "      <td>...</td>\n",
       "      <td>2.96</td>\n",
       "      <td>2,18%</td>\n",
       "      <td>-2,34%</td>\n",
       "      <td>1.03</td>\n",
       "      <td>2,71%</td>\n",
       "      <td>-7,79%</td>\n",
       "      <td>2362910.0</td>\n",
       "      <td>1.250910e+09</td>\n",
       "      <td>1.25</td>\n",
       "      <td>16,03%</td>\n",
       "    </tr>\n",
       "  </tbody>\n",
       "</table>\n",
       "<p>987 rows × 21 columns</p>\n",
       "</div>"
      ],
      "text/plain": [
       "      Papel  Cotação     P/L  P/VP    PSR Div.Yield  P/Ativo  P/Cap.Giro  \\\n",
       "0     AALR3    15.44   -8.36  1.68  1.536     0,00%    0.678      -11.75   \n",
       "1     ABCB3     0.00    0.00  0.00  0.000     0,00%    0.000        0.00   \n",
       "2     ABCB4    22.65    5.94  0.89  0.000     6,63%    0.000        0.00   \n",
       "3     ABEV3    12.76   13.97  2.11  2.494     5,72%    1.402       54.37   \n",
       "4     ABYA3     4.91 -214.80  1.76  2.055     0,00%    0.527        1.98   \n",
       "..      ...      ...     ...   ...    ...       ...      ...         ...   \n",
       "982   WLMM4    31.42    8.51  1.55  0.375     4,51%    1.060        2.83   \n",
       "983   WMBY3    25.39  -19.30  2.87  0.836     0,00%    0.182        1.20   \n",
       "984  WSON33    67.00    8.07  0.98  1.067     0,00%    0.400       13.41   \n",
       "985   YDUQ3     9.93   20.97  0.98  0.578     2,76%    0.327        3.49   \n",
       "986   ZAMP3     2.65   -7.49  0.58  0.175     0,00%    0.168       23.12   \n",
       "\n",
       "     P/EBIT  P/Ativ Circ.Liq  ...  EV/EBITDA  Mrg Ebit Mrg. Líq. Liq. Corr.  \\\n",
       "0     35.93            -1.81  ...      15.05     4,28%   -17,52%       0.78   \n",
       "1      0.00             0.00  ...       0.00     0,00%     0,00%       0.00   \n",
       "2      0.00             0.00  ...       0.00     0,00%     0,00%       0.00   \n",
       "3     11.64           -22.13  ...       8.07    21,43%    18,36%       1.11   \n",
       "4     19.96            -2.75  ...      33.67    10,29%    -0,96%       2.09   \n",
       "..      ...              ...  ...        ...       ...       ...        ...   \n",
       "982    6.43             3.53  ...       6.53     5,83%     4,40%       2.56   \n",
       "983    8.62            -1.50  ...      25.02     9,70%    -7,05%       1.44   \n",
       "984    2.42            -0.89  ...       5.08    44,14%    13,58%       1.26   \n",
       "985    3.88            -0.76  ...       4.74    14,91%     2,80%       1.68   \n",
       "986    8.06            -0.39  ...       2.96     2,18%    -2,34%       1.03   \n",
       "\n",
       "       ROIC      ROE   Liq.2meses   Patrim. Líq  Dív.Brut/ Patrim.  \\\n",
       "0     2,21%  -20,06%     576854.0  1.089040e+09               0.77   \n",
       "1     0,00%   14,96%          0.0  6.235070e+09               0.00   \n",
       "2     0,00%   14,96%   15793300.0  6.235070e+09               0.00   \n",
       "3    15,82%   15,11%  356056000.0  9.526280e+10               0.04   \n",
       "4     2,78%   -0,82%          0.0  2.920600e+08               1.31   \n",
       "..      ...      ...          ...           ...                ...   \n",
       "982  19,69%   18,21%      22679.2  7.385320e+08               0.25   \n",
       "983   2,39%  -14,86%          0.0  2.124390e+08               6.51   \n",
       "984  18,36%   12,17%          0.0  2.148530e+09               1.21   \n",
       "985   9,27%    4,66%   50864200.0  3.142670e+09               1.66   \n",
       "986   2,71%   -7,79%    2362910.0  1.250910e+09               1.25   \n",
       "\n",
       "     Cresc. Rec.5a  \n",
       "0            5,49%  \n",
       "1           13,50%  \n",
       "2           13,50%  \n",
       "3           11,56%  \n",
       "4           16,41%  \n",
       "..             ...  \n",
       "982         28,41%  \n",
       "983        -14,48%  \n",
       "984          5,23%  \n",
       "985          9,76%  \n",
       "986         16,03%  \n",
       "\n",
       "[987 rows x 21 columns]"
      ]
     },
     "metadata": {},
     "output_type": "display_data"
    },
    {
     "name": "stdout",
     "output_type": "stream",
     "text": [
      "Quantidade de empresas: 987\n"
     ]
    }
   ],
   "source": [
    "# Célula 2: Configuração do WebDriver e Extração da Tabela de Resultados\n",
    "# Configuração do WebDriver em modo headless\n",
    "options = webdriver.ChromeOptions()\n",
    "options.add_argument(\"--headless\")\n",
    "options.add_argument(\"--disable-gpu\")\n",
    "options.add_argument(\"--window-size=1920,1080\")\n",
    "driver = webdriver.Chrome(options=options)\n",
    "\n",
    "# URL da página de resultados\n",
    "url_resultado = \"https://www.fundamentus.com.br/resultado.php\"\n",
    "\n",
    "# Função para obter a tabela HTML\n",
    "def obter_tabela_html(url, xpath):\n",
    "    driver.get(url)\n",
    "    WebDriverWait(driver, 10).until(EC.presence_of_element_located((By.XPATH, xpath)))\n",
    "    elemento = driver.find_element(\"xpath\", xpath)\n",
    "    return elemento.get_attribute(\"outerHTML\")\n",
    "\n",
    "# Obter a tabela HTML\n",
    "html_tabela = obter_tabela_html(url_resultado, \"/html/body/div[1]/div[2]/table\")\n",
    "\n",
    "# Converter a tabela HTML em DataFrame\n",
    "df_dados_financeiros = pd.read_html(StringIO(html_tabela), decimal=\",\", thousands=\".\")[0]\n",
    "df_dados_financeiros = df_dados_financeiros.sort_values(by=\"Papel\", ascending=True).reset_index(drop=True)\n",
    "\n",
    "# Exibir o DataFrame\n",
    "print(\"Tabela com os dados financeiros:\")\n",
    "display(df_dados_financeiros)\n",
    "\n",
    "# Lista de empresas\n",
    "lista_de_empresas = df_dados_financeiros[\"Papel\"].tolist()\n",
    "print(\"Quantidade de empresas:\", len(lista_de_empresas))\n",
    "\n",
    "# Fechar o WebDriver\n",
    "driver.quit()"
   ]
  },
  {
   "cell_type": "code",
   "execution_count": 16,
   "metadata": {},
   "outputs": [],
   "source": [
    "df_dados_financeiros.to_excel(\"dados_financeiros.xlsx\", index=False)"
   ]
  },
  {
   "cell_type": "code",
   "execution_count": 4,
   "metadata": {},
   "outputs": [],
   "source": [
    "# Célula 3: Funções Auxiliares\n",
    "def obter_trimestre_anterior():\n",
    "    mes_atual = datetime.now().month\n",
    "    ano_atual = datetime.now().year\n",
    "    if mes_atual <= 3:\n",
    "        return f\"Q4-{ano_atual-1}\"\n",
    "    elif mes_atual <= 6:\n",
    "        return f\"Q1-{ano_atual}\"\n",
    "    elif mes_atual <= 9:\n",
    "        return f\"Q2-{ano_atual}\"\n",
    "    else:\n",
    "        return f\"Q3-{ano_atual}\"\n",
    "\n",
    "trimestre_anterior = obter_trimestre_anterior()\n",
    "pasta_trimestre = os.path.join(DOWNLOADS_FOLDER, trimestre_anterior)\n",
    "os.makedirs(pasta_trimestre, exist_ok=True)"
   ]
  },
  {
   "cell_type": "code",
   "execution_count": null,
   "metadata": {},
   "outputs": [],
   "source": [
    "# Célula 4: Download dos Arquivos\n",
    "options = webdriver.ChromeOptions()\n",
    "prefs = {\n",
    "    \"download.default_directory\": os.path.join(os.getcwd(), pasta_trimestre),\n",
    "    \"download.prompt_for_download\": False,\n",
    "    \"download.directory_upgrade\": True,\n",
    "    \"safebrowsing.enabled\": True,   \n",
    "}\n",
    "options.add_experimental_option(\"prefs\", prefs)\n",
    "driver = webdriver.Chrome(options=options)\n",
    "\n",
    "def baixar_e_renomear_arquivo(papel):\n",
    "    arquivo_destino = os.path.join(pasta_trimestre, f\"{papel}.zip\")\n",
    "    if os.path.isfile(arquivo_destino):\n",
    "        logging.info(f\"Arquivo {arquivo_destino} já existe. Pulando o papel {papel}.\")\n",
    "        return\n",
    "\n",
    "    url_papeis = f\"https://www.fundamentus.com.br/balancos.php?papel={papel}&interface=mobile\"\n",
    "    driver.get(url_papeis)\n",
    "\n",
    "    try:\n",
    "        time.sleep(2)\n",
    "        botao_download = WebDriverWait(driver, 10).until(\n",
    "            EC.visibility_of_element_located((By.CSS_SELECTOR, \"a.bt-baixar\"))\n",
    "        )\n",
    "        botao_download.click()\n",
    "\n",
    "        # Esperar o download começar\n",
    "        for _ in range(10):\n",
    "            time.sleep(5)\n",
    "            if any(f.startswith(\"bal_\") for f in os.listdir(pasta_trimestre)):\n",
    "                break\n",
    "\n",
    "        novo_arquivo = next((f for f in os.listdir(pasta_trimestre) if f.startswith(\"bal_\")), None)\n",
    "\n",
    "        if novo_arquivo:\n",
    "            caminho_arquivo = os.path.join(pasta_trimestre, novo_arquivo)\n",
    "            os.rename(caminho_arquivo, arquivo_destino)\n",
    "            logging.info(f\"Arquivo {arquivo_destino} baixado e renomeado com sucesso!\")\n",
    "        else:\n",
    "            logging.error(f\"Erro ao encontrar o arquivo baixado para {papel}\")\n",
    "\n",
    "    except Exception as e:\n",
    "        logging.error(f\"Erro ao baixar arquivo para {papel}: {e}\")\n",
    "\n",
    "# Baixar e renomear arquivos para cada empresa\n",
    "for papel in lista_de_empresas:\n",
    "    baixar_e_renomear_arquivo(papel)\n",
    "\n",
    "# Fechar o WebDriver\n",
    "driver.quit()"
   ]
  },
  {
   "cell_type": "code",
   "execution_count": null,
   "metadata": {},
   "outputs": [],
   "source": [
    "# Célula 5: Extração e Renomeação dos Arquivos\n",
    "\n",
    "# Configuração básica do logging\n",
    "logging.basicConfig(filename='extracao_renomeacao.log', level=logging.ERROR)\n",
    "\n",
    "# Função de extração e renomeação\n",
    "def extrair_e_renomear_arquivo(papel):\n",
    "    caminho_arquivo_zip = os.path.join(pasta_trimestre, f\"{papel}.zip\")\n",
    "    pasta_balancos_trimestre = os.path.join(BALANCOS_FOLDER, trimestre_anterior)\n",
    "    os.makedirs(pasta_balancos_trimestre, exist_ok=True)\n",
    "    caminho_arquivo_xls = os.path.join(pasta_balancos_trimestre, \"balanco.xls\")\n",
    "    novo_nome_arquivo = os.path.join(pasta_balancos_trimestre, f\"{papel}.xls\")\n",
    "\n",
    "    # Verifica se o arquivo já foi extraído e renomeado\n",
    "    if os.path.exists(novo_nome_arquivo):\n",
    "        print(f\"Arquivo {novo_nome_arquivo} já foi extraído e renomeado.\")\n",
    "        return True  # Indica sucesso sem necessidade de renomeação\n",
    "\n",
    "    try:\n",
    "        # Extraindo o arquivo ZIP\n",
    "        with zipfile.ZipFile(caminho_arquivo_zip, \"r\") as zip_ref:\n",
    "            zip_ref.extractall(pasta_balancos_trimestre)\n",
    "\n",
    "        # Renomeando o arquivo\n",
    "        if os.path.exists(caminho_arquivo_xls):\n",
    "            os.rename(caminho_arquivo_xls, novo_nome_arquivo)\n",
    "            print(f\"Arquivo {novo_nome_arquivo} extraído e renomeado com sucesso!\")\n",
    "        else:\n",
    "            print(f\"Arquivo balanco.xls não encontrado em {pasta_balancos_trimestre}\")\n",
    "            return False  # Indica falha na renomeação\n",
    "\n",
    "    except Exception as e:\n",
    "        logging.error(f\"Erro ao extrair e renomear arquivo para {papel}: {e}\")\n",
    "        return False  # Indica falha na operação\n",
    "\n",
    "    return True  # Indica sucesso\n",
    "\n",
    "# Lista para armazenar papéis com erro\n",
    "papeis_com_erro = []\n",
    "\n",
    "# Extração e renomeação dos arquivos para cada empresa\n",
    "for papel in lista_de_empresas[:]:  # Usar uma cópia da lista para evitar problemas ao remover elementos\n",
    "    sucesso = extrair_e_renomear_arquivo(papel)\n",
    "    if not sucesso:\n",
    "        papeis_com_erro.append(papel)\n",
    "\n",
    "# Remover os papéis com erro da lista de empresas\n",
    "for papel in papeis_com_erro:\n",
    "    lista_de_empresas.remove(papel)\n",
    "\n",
    "# Exibir os papéis que deram erro\n",
    "print(\"PAPÉIS COM ERRO:\", papeis_com_erro)\n",
    "print(\"LISTA DE EMPRESAS ATUALIZADA:\", lista_de_empresas)\n",
    "print(\"QUANTIDADE DE EMPRESAS ATUALIZADA:\", len(lista_de_empresas))\n"
   ]
  },
  {
   "cell_type": "code",
   "execution_count": null,
   "metadata": {},
   "outputs": [],
   "source": [
    "# Célula 6: Conversão de XLS para XLSX\n",
    "def converter_xls_para_xlsx(papel):\n",
    "    pasta_balancos_trimestre = os.path.join(BALANCOS_FOLDER, trimestre_anterior)\n",
    "    pasta_balancos_xlsx_trimestre = os.path.join(BALANCOS_XLSX_FOLDER, trimestre_anterior)\n",
    "    os.makedirs(pasta_balancos_xlsx_trimestre, exist_ok=True)\n",
    "\n",
    "    caminho_xls = os.path.join(pasta_balancos_trimestre, f\"{papel}.xls\")\n",
    "    caminho_xlsx = os.path.join(pasta_balancos_xlsx_trimestre, f\"{papel}.xlsx\")\n",
    "\n",
    "    if os.path.isfile(caminho_xlsx):\n",
    "        print(f\"Arquivo {papel}.xlsx já foi convertido.\")\n",
    "        return\n",
    "\n",
    "    try:\n",
    "        xls = pd.ExcelFile(caminho_xls, engine=\"xlrd\")\n",
    "        with pd.ExcelWriter(caminho_xlsx, engine=\"openpyxl\") as writer:\n",
    "            for sheet_name in xls.sheet_names:\n",
    "                df = pd.read_excel(xls, sheet_name=sheet_name)\n",
    "                df.to_excel(writer, sheet_name=sheet_name, index=False)\n",
    "        print(f\"Arquivo {papel}.xls convertido para {papel}.xlsx.\")\n",
    "    except Exception as e:\n",
    "        print(f\"Erro ao converter {papel}.xls: {e}\")\n",
    "\n",
    "# Converter arquivos XLS para XLSX para cada empresa\n",
    "for papel in lista_de_empresas:\n",
    "    converter_xls_para_xlsx(papel)"
   ]
  },
  {
   "cell_type": "code",
   "execution_count": null,
   "metadata": {},
   "outputs": [],
   "source": [
    "# Configurar logging\n",
    "logging.basicConfig(\n",
    "    level=logging.INFO, format=\"%(asctime)s - %(levelname)s - %(message)s\"\n",
    ")\n",
    "\n",
    "# Constantes\n",
    "BAL_PATRIM = \"Bal. Patrim.\"\n",
    "DEM_RESULT = \"Dem. Result.\"\n",
    "EXTENSAO_EXCEL = \".xlsx\"\n",
    "\n",
    "\n",
    "def reordenar_primeira_linha(df: pd.DataFrame) -> pd.DataFrame:\n",
    "    \"\"\"\n",
    "    Reordena a primeira linha de um DataFrame, colocando as datas da mais antiga para a mais recente.\n",
    "    \"\"\"\n",
    "    # Identificar a primeira linha (após remoção da original) para as datas\n",
    "    primeira_linha = df.iloc[0, 1:]\n",
    "\n",
    "    # Tentar converter os valores para datetime, forçando o formato \"dd/mm/yyyy\"\n",
    "    datas = pd.to_datetime(primeira_linha, format=\"%d/%m/%Y\", errors=\"coerce\")\n",
    "\n",
    "    # Verificar se todas as datas são válidas\n",
    "    if datas.isnull().all():\n",
    "        logging.warning(\n",
    "            \"Nenhuma data foi reconhecida na primeira linha. Retornando DataFrame original.\"\n",
    "        )\n",
    "        return df\n",
    "\n",
    "    # Criar um DataFrame temporário para facilitar a reordenação\n",
    "    temp_df = pd.DataFrame({\"original_col\": df.columns[1:], \"date\": datas})\n",
    "\n",
    "    # Remover entradas que não são datas válidas\n",
    "    temp_df = temp_df.dropna(subset=[\"date\"])\n",
    "\n",
    "    # Ordenar as colunas com base nas datas\n",
    "    temp_df = temp_df.sort_values(by=\"date\")\n",
    "\n",
    "    # Reordenar o DataFrame original de acordo com as colunas ordenadas\n",
    "    new_order = [df.columns[0]] + temp_df[\"original_col\"].tolist()\n",
    "    df = df[new_order]\n",
    "\n",
    "    # Substituir a primeira linha com as datas ordenadas\n",
    "    df.iloc[0, 1:] = temp_df[\"date\"].dt.strftime(\"%d/%m/%Y\").values\n",
    "\n",
    "    return df\n",
    "\n",
    "\n",
    "def processar_arquivo(caminho_arquivo: str, pasta_saida: str) -> None:\n",
    "    try:\n",
    "        nome_arquivo = os.path.basename(caminho_arquivo)\n",
    "        nome_papel = nome_arquivo.replace(EXTENSAO_EXCEL, \"\")\n",
    "\n",
    "        bal_patrim = pd.read_excel(\n",
    "            caminho_arquivo, sheet_name=BAL_PATRIM, header=None, engine=\"openpyxl\"\n",
    "        )\n",
    "        dem_result = pd.read_excel(\n",
    "            caminho_arquivo, sheet_name=DEM_RESULT, header=None, engine=\"openpyxl\"\n",
    "        )\n",
    "\n",
    "        # Remover a primeira linha de ambas as planilhas\n",
    "        bal_patrim = bal_patrim.iloc[1:].reset_index(drop=True)\n",
    "        dem_result = dem_result.iloc[1:].reset_index(drop=True)\n",
    "\n",
    "        # Reordenar a primeira linha de ambas as planilhas\n",
    "        bal_patrim = reordenar_primeira_linha(bal_patrim)\n",
    "        dem_result = reordenar_primeira_linha(dem_result)\n",
    "\n",
    "        # Verificar o conteúdo da célula [0, 0] da planilha 'Bal. Patrim.'\n",
    "        primeira_celula = bal_patrim.iloc[0, 0]\n",
    "\n",
    "        if (\n",
    "            pd.to_datetime(primeira_celula, format=\"%d/%m/%Y\", errors=\"coerce\")\n",
    "            is not pd.NaT\n",
    "        ):\n",
    "            # Se a célula contém uma data, mover as colunas para a direita\n",
    "            bal_patrim = bal_patrim.shift(1, axis=1)\n",
    "\n",
    "        # Definir o nome do papel na célula [0, 0] da planilha 'Bal. Patrim.'\n",
    "        bal_patrim.iloc[0, 0] = nome_papel\n",
    "\n",
    "        # Remover a primeira linha de 'Dem. Result.' antes de concatenar\n",
    "        dem_result = dem_result.iloc[1:].reset_index(drop=True)\n",
    "\n",
    "        # Concatenar as duas planilhas\n",
    "        combinado = pd.concat([bal_patrim, dem_result], ignore_index=True)\n",
    "        \n",
    "        # Verificação final: Se a célula [0, 0] não contiver o nome do papel, remover a primeira linha\n",
    "        if combinado.iloc[0, 0] != nome_papel:\n",
    "            combinado = combinado.iloc[1:].reset_index(drop=True)\n",
    "\n",
    "        # Criar a pasta de saída correspondente\n",
    "        nome_subpasta = os.path.basename(os.path.dirname(caminho_arquivo))\n",
    "        subpasta_saida = os.path.join(pasta_saida, nome_subpasta)\n",
    "        os.makedirs(subpasta_saida, exist_ok=True)\n",
    "\n",
    "        # Criar o caminho para o arquivo de saída\n",
    "        arquivo_saida = os.path.join(subpasta_saida, nome_arquivo)\n",
    "\n",
    "        # Verificar se o arquivo já existe antes de salvar\n",
    "        if os.path.exists(arquivo_saida):\n",
    "            logging.info(f\"Arquivo já existe e será ignorado: {arquivo_saida}\")\n",
    "        else:\n",
    "            # Salvar o resultado em uma nova planilha\n",
    "            combinado.to_excel(arquivo_saida, index=False)\n",
    "            logging.info(f\"Arquivo combinado e ordenado salvo como: {arquivo_saida}\")\n",
    "\n",
    "    except Exception as e:\n",
    "        logging.error(f\"Erro ao processar o arquivo {caminho_arquivo}: {str(e)}\")\n",
    "\n",
    "\n",
    "def processar_todos_arquivos(pasta_base: str, pasta_saida: str) -> None:\n",
    "    for nome_subpasta in sorted(os.listdir(pasta_base)):\n",
    "        caminho_subpasta = os.path.join(pasta_base, nome_subpasta)\n",
    "        if os.path.isdir(caminho_subpasta):\n",
    "            for nome_arquivo in sorted(os.listdir(caminho_subpasta)):\n",
    "                if nome_arquivo.endswith(EXTENSAO_EXCEL):\n",
    "                    caminho_arquivo = os.path.join(caminho_subpasta, nome_arquivo)\n",
    "                    processar_arquivo(caminho_arquivo, pasta_saida)\n",
    "\n",
    "\n",
    "# Execução do processamento\n",
    "processar_todos_arquivos(BALANCOS_XLSX_FOLDER, BALANCOS_CONCATENADOS_FOLDER)\n"
   ]
  },
  {
   "cell_type": "code",
   "execution_count": 11,
   "metadata": {},
   "outputs": [],
   "source": [
    "# Função para obter as subpastas ordenadas da mais antiga para a mais recente\n",
    "def obter_subpastas_ordenadas(base_folder):\n",
    "    subpastas = [f.name for f in os.scandir(base_folder) if f.is_dir()]\n",
    "    subpastas.sort(\n",
    "        key=lambda x: datetime.strptime(x.split(\"-\")[1], \"%Y\")\n",
    "    )  # Ordenar por ano\n",
    "    return subpastas\n",
    "\n",
    "# Função para concatenar as planilhas\n",
    "def concatenar_planilhas(base_folder, output_folder):\n",
    "    planilhas_dict = {}\n",
    "\n",
    "    # Obter subpastas ordenadas\n",
    "    subpastas_ordenadas = obter_subpastas_ordenadas(base_folder)\n",
    "    \n",
    "    # Percorre todas as subpastas (ordenadas pela data da pasta mais antiga para a mais recente)\n",
    "    for subpasta in subpastas_ordenadas:\n",
    "        subpasta_path = os.path.join(base_folder, subpasta)\n",
    "        if os.path.isdir(subpasta_path):\n",
    "            for file_name in os.listdir(subpasta_path):\n",
    "                if file_name.endswith(\".xlsx\"):\n",
    "                    file_path = os.path.join(subpasta_path, file_name)\n",
    "\n",
    "                    # Carregar a planilha, ignorando a primeira linha (índice de colunas)\n",
    "                    df = pd.read_excel(file_path, skiprows=1)\n",
    "\n",
    "                    # Se o arquivo já foi processado, concatenar as novas colunas\n",
    "                    if file_name in planilhas_dict:\n",
    "                        df_existente = planilhas_dict[file_name]\n",
    "\n",
    "                        # Ignorar a primeira coluna (indicadores financeiros)\n",
    "                        for col in df.columns[1:]:\n",
    "                            if col not in df_existente.columns:\n",
    "                                df_existente[col] = df[col]\n",
    "\n",
    "                        # Reordenar as colunas pela data\n",
    "                        colunas_datas = [\n",
    "                            col\n",
    "                            for col in df_existente.columns\n",
    "                            if col != df_existente.columns[0]\n",
    "                        ]\n",
    "                        colunas_datas.sort(\n",
    "                            key=lambda date: datetime.strptime(str(date), \"%d/%m/%Y\")\n",
    "                        )\n",
    "                        colunas_ordenadas = [df_existente.columns[0]] + colunas_datas\n",
    "                        planilhas_dict[file_name] = df_existente[colunas_ordenadas]\n",
    "                    else:\n",
    "                        # Armazenar a primeira planilha encontrada\n",
    "                        planilhas_dict[file_name] = df\n",
    "\n",
    "    # Salvar os arquivos concatenados na pasta de destino\n",
    "    for nome_arquivo, df_final in planilhas_dict.items():\n",
    "        # Salvar o DataFrame concatenado no arquivo de destino\n",
    "        output_path = os.path.join(output_folder, nome_arquivo)\n",
    "        df_final.to_excel(output_path, index=False)\n",
    "\n",
    "# Executar a função\n",
    "concatenar_planilhas(BALANCOS_CONCATENADOS_FOLDER, BALANCOS_DEFINITIVO_FOLDER)"
   ]
  },
  {
   "cell_type": "code",
   "execution_count": 17,
   "metadata": {},
   "outputs": [
    {
     "name": "stdout",
     "output_type": "stream",
     "text": [
      "Processando empresa AALR3...\n",
      "Processando empresa ABCB3...\n",
      "Processando empresa ABCB4...\n",
      "Processando empresa ABEV3...\n",
      "Processando empresa ABYA3...\n",
      "Processando empresa ACES3...\n",
      "Processando empresa ACES4...\n",
      "Processando empresa ADHM3...\n",
      "Processando empresa AEDU11...\n",
      "Processando empresa AEDU3...\n",
      "Processando empresa AELP3...\n",
      "Processando empresa AERI3...\n",
      "Processando empresa AESB3...\n",
      "Processando empresa AESL3...\n",
      "Processando empresa AESL4...\n",
      "Processando empresa AFLT3...\n",
      "Processando empresa AFLU3...\n",
      "Processando empresa AFLU5...\n",
      "Processando empresa AGEI3...\n",
      "Processando empresa AGEN33...\n",
      "Processando empresa AGIN3...\n",
      "Processando empresa AGRO3...\n",
      "Processando empresa AGXY3...\n",
      "Processando empresa AHEB3...\n",
      "Processando empresa AHEB5...\n",
      "Processando empresa AHEB6...\n",
      "Processando empresa ALBA3...\n",
      "Processando empresa ALLD3...\n",
      "Processando empresa ALLL11...\n",
      "Processando empresa ALLL3...\n",
      "Processando empresa ALLL4...\n",
      "Processando empresa ALOS3...\n",
      "Processando empresa ALPA3...\n",
      "Processando empresa ALPA4...\n",
      "Processando empresa ALPK3...\n",
      "Processando empresa ALSC3...\n",
      "Processando empresa ALSO3...\n",
      "Processando empresa ALUP11...\n",
      "Processando empresa ALUP3...\n",
      "Processando empresa ALUP4...\n",
      "Processando empresa AMAR3...\n",
      "Processando empresa AMBP3...\n",
      "Processando empresa AMBV3...\n",
      "Processando empresa AMBV4...\n",
      "Processando empresa AMER3...\n",
      "Processando empresa AMIL3...\n",
      "Processando empresa AMPI3...\n",
      "Processando empresa ANIM3...\n",
      "Processando empresa APER3...\n",
      "Processando empresa APTI4...\n",
      "Processando empresa ARCE3...\n",
      "Processando empresa ARCZ3...\n",
      "Processando empresa ARCZ6...\n",
      "Processando empresa ARLA3...\n",
      "Processando empresa ARLA4...\n",
      "Processando empresa ARML3...\n",
      "Processando empresa ARPS3...\n",
      "Processando empresa ARPS4...\n",
      "Processando empresa ARTE3...\n",
      "Processando empresa ARTE4...\n",
      "Processando empresa ARTR3...\n",
      "Processando empresa ARZZ3...\n",
      "Processando empresa ASAI3...\n",
      "Processando empresa ASSM3...\n",
      "Processando empresa ASSM4...\n",
      "Processando empresa ASTA4...\n",
      "Processando empresa ATMP3...\n",
      "Processando empresa ATOM3...\n",
      "Processando empresa AURA33...\n",
      "Processando empresa AURE3...\n",
      "Processando empresa AUTM3...\n",
      "Processando empresa AVIL3...\n",
      "Processando empresa AVLL3...\n",
      "Processando empresa AZEV3...\n",
      "Processando empresa AZEV4...\n",
      "Processando empresa AZUL4...\n",
      "Processando empresa AZZA3...\n",
      "Processando empresa B3SA3...\n",
      "Processando empresa BAHI11...\n",
      "Processando empresa BAHI3...\n",
      "Processando empresa BAHI4...\n",
      "Processando empresa BAHI5...\n",
      "Processando empresa BALM3...\n",
      "Processando empresa BALM4...\n",
      "Processando empresa BAUH4...\n",
      "Processando empresa BAZA3...\n",
      "Processando empresa BBAS3...\n",
      "Processando empresa BBDC3...\n",
      "Processando empresa BBDC4...\n",
      "Processando empresa BBRK3...\n",
      "Processando empresa BBSE3...\n",
      "Processando empresa BBTG11...\n",
      "Processando empresa BBTG12...\n",
      "Processando empresa BBTG13...\n",
      "Processando empresa BCAL6...\n",
      "Processando empresa BDLL3...\n",
      "Processando empresa BDLL4...\n",
      "Processando empresa BECE3...\n",
      "Processando empresa BECE4...\n",
      "Processando empresa BEEF3...\n",
      "Processando empresa BEES3...\n",
      "Processando empresa BEES4...\n",
      "Processando empresa BELG3...\n",
      "Processando empresa BELG4...\n",
      "Processando empresa BEMA3...\n",
      "Processando empresa BERG3...\n",
      "Processando empresa BESP3...\n",
      "Processando empresa BESP4...\n",
      "Processando empresa BFIT3...\n",
      "Processando empresa BFIT4...\n",
      "Processando empresa BGIP3...\n",
      "Processando empresa BGIP4...\n",
      "Processando empresa BHGR3...\n",
      "Processando empresa BHIA3...\n",
      "Processando empresa BICB3...\n",
      "Processando empresa BICB4...\n",
      "Processando empresa BIDI11...\n",
      "Processando empresa BIDI3...\n",
      "Processando empresa BIDI4...\n",
      "Processando empresa BIOM3...\n",
      "Processando empresa BIOM4...\n",
      "Processando empresa BISA3...\n",
      "Processando empresa BKBR3...\n",
      "Processando empresa BLAU3...\n",
      "Processando empresa BLUT3...\n",
      "Processando empresa BLUT4...\n",
      "Processando empresa BMEB3...\n",
      "Processando empresa BMEB4...\n",
      "Processando empresa BMEF3...\n",
      "Processando empresa BMGB11...\n",
      "Processando empresa BMGB4...\n",
      "Processando empresa BMIN3...\n",
      "Processando empresa BMIN4...\n",
      "Processando empresa BMKS3...\n",
      "Processando empresa BMOB3...\n",
      "Processando empresa BMTO3...\n",
      "Processando empresa BMTO4...\n",
      "Processando empresa BNBR3...\n",
      "Processando empresa BNBR4...\n",
      "Processando empresa BNCA3...\n",
      "Processando empresa BOAS3...\n",
      "Processando empresa BOBR3...\n",
      "Processando empresa BOBR4...\n",
      "Processando empresa BOVH3...\n",
      "Processando empresa BPAC11...\n",
      "Processando empresa BPAC3...\n",
      "Processando empresa BPAC5...\n",
      "Processando empresa BPAN4...\n",
      "Processando empresa BPAR3...\n",
      "Processando empresa BPAT33...\n",
      "Processando empresa BPHA3...\n",
      "Processando empresa BPIA3...\n",
      "Processando empresa BPNM3...\n",
      "Processando empresa BRAP3...\n",
      "Processando empresa BRAP4...\n",
      "Processando empresa BRBI11...\n",
      "Processando empresa BRDT3...\n",
      "Processando empresa BRFS3...\n",
      "Processando empresa BRGE11...\n",
      "Processando empresa BRGE12...\n",
      "Processando empresa BRGE3...\n",
      "Processando empresa BRGE5...\n",
      "Processando empresa BRGE6...\n",
      "Processando empresa BRGE7...\n",
      "Processando empresa BRGE8...\n",
      "Processando empresa BRIT3...\n",
      "Processando empresa BRIV3...\n",
      "Processando empresa BRIV4...\n",
      "Processando empresa BRKM3...\n",
      "Processando empresa BRKM5...\n",
      "Processando empresa BRKM6...\n",
      "Processando empresa BRML3...\n",
      "Processando empresa BRPR3...\n",
      "Processando empresa BRSR3...\n",
      "Processando empresa BRSR4...\n",
      "Processando empresa BRSR5...\n",
      "Processando empresa BRSR6...\n",
      "Processando empresa BRTP3...\n",
      "Processando empresa BRTP4...\n",
      "Processando empresa BSCT3...\n",
      "Processando empresa BSCT5...\n",
      "Processando empresa BSCT6...\n",
      "Processando empresa BSEV3...\n",
      "Processando empresa BSGR3...\n",
      "Processando empresa BSLI3...\n",
      "Processando empresa BSLI4...\n",
      "Processando empresa BTTL3...\n",
      "Processando empresa BUET3...\n",
      "Processando empresa BUET4...\n",
      "Processando empresa CAFE3...\n",
      "Processando empresa CAFE4...\n",
      "Processando empresa CALI3...\n",
      "Processando empresa CALI4...\n",
      "Processando empresa CAMB3...\n",
      "Processando empresa CAMB4...\n",
      "Processando empresa CAML3...\n",
      "Processando empresa CARD3...\n",
      "Processando empresa CASH3...\n",
      "Processando empresa CASN3...\n",
      "Processando empresa CBAV3...\n",
      "Processando empresa CBEE3...\n",
      "Processando empresa CBMA3...\n",
      "Processando empresa CBMA4...\n",
      "Processando empresa CCHI3...\n",
      "Processando empresa CCHI4...\n",
      "Processando empresa CCIM3...\n",
      "Processando empresa CCPR3...\n",
      "Processando empresa CCRO3...\n",
      "Processando empresa CCTU4...\n",
      "Processando empresa CCXC3...\n",
      "Processando empresa CEAB3...\n",
      "Processando empresa CEBR3...\n",
      "Processando empresa CEBR5...\n",
      "Processando empresa CEBR6...\n",
      "Processando empresa CEDO3...\n",
      "Processando empresa CEDO4...\n",
      "Processando empresa CEEB3...\n",
      "Processando empresa CEEB5...\n",
      "Processando empresa CEED3...\n",
      "Processando empresa CEED4...\n",
      "Processando empresa CEGR3...\n",
      "Processando empresa CELM3...\n",
      "Processando empresa CEPE3...\n",
      "Processando empresa CEPE5...\n",
      "Processando empresa CEPE6...\n",
      "Processando empresa CESP3...\n",
      "Processando empresa CESP4...\n",
      "Processando empresa CESP5...\n",
      "Processando empresa CESP6...\n",
      "Processando empresa CFLU4...\n",
      "Processando empresa CGAS3...\n",
      "Processando empresa CGAS5...\n",
      "Processando empresa CGOS3...\n",
      "Processando empresa CGOS4...\n",
      "Processando empresa CGRA3...\n",
      "Processando empresa CGRA4...\n",
      "Processando empresa CIEL3...\n",
      "Processando empresa CIQU3...\n",
      "Processando empresa CIQU4...\n",
      "Processando empresa CLAN3...\n",
      "Processando empresa CLAN4...\n",
      "Processando empresa CLSA3...\n",
      "Processando empresa CLSC3...\n",
      "Processando empresa CLSC4...\n",
      "Processando empresa CLSC5...\n",
      "Processando empresa CLSC6...\n",
      "Processando empresa CMET4...\n",
      "Processando empresa CMGI3...\n",
      "Processando empresa CMGI4...\n",
      "Processando empresa CMIG3...\n",
      "Processando empresa CMIG4...\n",
      "Processando empresa CMIN3...\n",
      "Processando empresa CMMA4...\n",
      "Processando empresa CNFB4...\n",
      "Processando empresa COCE3...\n",
      "Processando empresa COCE5...\n",
      "Processando empresa COCE6...\n",
      "Processando empresa COGN3...\n",
      "Processando empresa CORR3...\n",
      "Processando empresa CORR4...\n",
      "Processando empresa CPFE3...\n",
      "Processando empresa CPFG3...\n",
      "Processando empresa CPFG4...\n",
      "Processando empresa CPFP4...\n",
      "Processando empresa CPLE11...\n",
      "Processando empresa CPLE3...\n",
      "Processando empresa CPLE5...\n",
      "Processando empresa CPLE6...\n",
      "Processando empresa CPNY3...\n",
      "Processando empresa CPRE3...\n",
      "Processando empresa CPSL3...\n",
      "Processando empresa CRBM3...\n",
      "Processando empresa CRBM7...\n",
      "Processando empresa CRDE3...\n",
      "Processando empresa CREM3...\n",
      "Processando empresa CREM4...\n",
      "Processando empresa CRFB3...\n",
      "Processando empresa CRIV3...\n",
      "Processando empresa CRIV4...\n",
      "Processando empresa CRPG3...\n",
      "Processando empresa CRPG5...\n",
      "Processando empresa CRPG6...\n",
      "Processando empresa CRTP3...\n",
      "Processando empresa CRTP5...\n",
      "Processando empresa CRUZ3...\n",
      "Processando empresa CSAN3...\n",
      "Processando empresa CSED3...\n",
      "Processando empresa CSMG3...\n",
      "Processando empresa CSNA3...\n",
      "Processando empresa CSPC3...\n",
      "Processando empresa CSPC4...\n",
      "Processando empresa CSRN3...\n",
      "Processando empresa CSRN5...\n",
      "Processando empresa CSRN6...\n",
      "Processando empresa CSTB3...\n",
      "Processando empresa CSTB4...\n",
      "Processando empresa CSUD3...\n",
      "Processando empresa CTIP3...\n",
      "Processando empresa CTKA3...\n",
      "Processando empresa CTKA4...\n",
      "Processando empresa CTNM3...\n",
      "Processando empresa CTNM4...\n",
      "Processando empresa CTPC3...\n",
      "Processando empresa CTPC4...\n",
      "Processando empresa CTSA3...\n",
      "Processando empresa CTSA4...\n",
      "Processando empresa CTSA8...\n",
      "Processando empresa CTWR3...\n",
      "Processando empresa CURY3...\n",
      "Processando empresa CVCB3...\n",
      "Processando empresa CXSE3...\n",
      "Processando empresa CYRE3...\n",
      "Processando empresa CYRE4...\n",
      "Processando empresa CZLT33...\n",
      "Processando empresa CZRS3...\n",
      "Processando empresa CZRS4...\n",
      "Processando empresa DAGB33...\n",
      "Processando empresa DASA3...\n",
      "Processando empresa DAYC3...\n",
      "Processando empresa DAYC4...\n",
      "Processando empresa DESK3...\n",
      "Processando empresa DEXP3...\n",
      "Processando empresa DEXP4...\n",
      "Processando empresa DFVA3...\n",
      "Processando empresa DFVA4...\n",
      "Processando empresa DHBI3...\n",
      "Processando empresa DHBI4...\n",
      "Processando empresa DIRR3...\n",
      "Processando empresa DJON4...\n",
      "Processando empresa DMFN3...\n",
      "Processando empresa DMMO3...\n",
      "Processando empresa DMVF3...\n",
      "Processando empresa DOCA3...\n",
      "Processando empresa DOCA4...\n",
      "Processando empresa DOHL3...\n",
      "Processando empresa DOHL4...\n",
      "Processando empresa DOTZ3...\n",
      "Processando empresa DPPI3...\n",
      "Processando empresa DPPI4...\n",
      "Processando empresa DSUL3...\n",
      "Processando empresa DTCY3...\n",
      "Processando empresa DUQE3...\n",
      "Processando empresa DUQE4...\n",
      "Processando empresa DURA3...\n",
      "Processando empresa DURA4...\n",
      "Processando empresa DXCO3...\n",
      "Processando empresa DXTG4...\n",
      "Processando empresa EALT3...\n",
      "Processando empresa EALT4...\n",
      "Processando empresa EBCO3...\n",
      "Processando empresa EBCO4...\n",
      "Processando empresa EBEN4...\n",
      "Processando empresa EBTP3...\n",
      "Processando empresa EBTP4...\n",
      "Processando empresa ECIS3...\n",
      "Processando empresa ECIS4...\n",
      "Processando empresa ECOR3...\n",
      "Processando empresa ECPR3...\n",
      "Processando empresa ECPR4...\n",
      "Processando empresa EEEL3...\n",
      "Processando empresa EEEL4...\n",
      "Processando empresa EGIE3...\n",
      "Processando empresa EKTR3...\n",
      "Processando empresa EKTR4...\n",
      "Processando empresa ELCA3...\n",
      "Processando empresa ELCA4...\n",
      "Processando empresa ELEK3...\n",
      "Processando empresa ELEK4...\n",
      "Processando empresa ELET3...\n",
      "Processando empresa ELET5...\n",
      "Processando empresa ELET6...\n",
      "Processando empresa ELEV3...\n",
      "Processando empresa ELMD3...\n",
      "Processando empresa ELPL3...\n",
      "Processando empresa ELPL4...\n",
      "Processando empresa ELPL5...\n",
      "Processando empresa ELPL6...\n",
      "Processando empresa ELUM3...\n",
      "Processando empresa ELUM4...\n",
      "Processando empresa EMAE4...\n",
      "Processando empresa EMBR3...\n",
      "Processando empresa ENAT3...\n",
      "Processando empresa ENBR3...\n",
      "Processando empresa ENER3...\n",
      "Processando empresa ENER5...\n",
      "Processando empresa ENER6...\n",
      "Processando empresa ENEV3...\n",
      "Processando empresa ENGI11...\n",
      "Processando empresa ENGI3...\n",
      "Processando empresa ENGI4...\n",
      "Processando empresa ENJU3...\n",
      "Processando empresa ENMT3...\n",
      "Processando empresa ENMT4...\n",
      "Processando empresa EPAR3...\n",
      "Processando empresa EPAR4...\n",
      "Processando empresa EQMA3B...\n",
      "Processando empresa EQMA5B...\n",
      "Processando empresa EQMA6B...\n",
      "Processando empresa EQPA3...\n",
      "Processando empresa EQPA5...\n",
      "Processando empresa EQPA6...\n",
      "Processando empresa EQPA7...\n",
      "Processando empresa EQTL3...\n",
      "Processando empresa ESCE3...\n",
      "Processando empresa ESPA3...\n",
      "Processando empresa ESTC11...\n",
      "Processando empresa ESTC4...\n",
      "Processando empresa ESTR3...\n",
      "Processando empresa ESTR4...\n",
      "Processando empresa ETER3...\n",
      "Processando empresa ETER4...\n",
      "Processando empresa EUCA3...\n",
      "Processando empresa EUCA4...\n",
      "Processando empresa EVEN3...\n",
      "Processando empresa EZTC3...\n",
      "Processando empresa FBMC3...\n",
      "Processando empresa FBMC4...\n",
      "Processando empresa FBRA4...\n",
      "Processando empresa FCAP3...\n",
      "Processando empresa FCAP4...\n",
      "Processando empresa FESA3...\n",
      "Processando empresa FESA4...\n",
      "Processando empresa FFTL3...\n",
      "Processando empresa FFTL4...\n",
      "Processando empresa FGUI3...\n",
      "Processando empresa FGUI4...\n",
      "Processando empresa FHER3...\n",
      "Processando empresa FIBR3...\n",
      "Processando empresa FIEI3...\n",
      "Processando empresa FIGE3...\n",
      "Processando empresa FIGE4...\n",
      "Processando empresa FIQE3...\n",
      "Processando empresa FLCL3...\n",
      "Processando empresa FLCL5...\n",
      "Processando empresa FLCL6...\n",
      "Processando empresa FLRY3...\n",
      "Processando empresa FRAS3...\n",
      "Processando empresa FRAS4...\n",
      "Processando empresa FRIO3...\n",
      "Processando empresa FRTA3...\n",
      "Processando empresa FTRX3...\n",
      "Processando empresa FTRX4...\n",
      "Processando empresa GAFP3...\n",
      "Processando empresa GAFP4...\n",
      "Processando empresa GALO3...\n",
      "Processando empresa GALO4...\n",
      "Processando empresa GAZO3...\n",
      "Processando empresa GAZO4...\n",
      "Processando empresa GBIO33...\n",
      "Processando empresa GEPA3...\n",
      "Processando empresa GEPA4...\n",
      "Processando empresa GETI3...\n",
      "Processando empresa GETI4...\n",
      "Processando empresa GETT3...\n",
      "Processando empresa GETT4...\n",
      "Processando empresa GFSA3...\n",
      "Processando empresa GGBR3...\n",
      "Processando empresa GGBR4...\n",
      "Processando empresa GGPS3...\n",
      "Processando empresa GLOB4...\n",
      "Processando empresa GMAT3...\n",
      "Processando empresa GNDI3...\n",
      "Processando empresa GOAU3...\n",
      "Processando empresa GOAU4...\n",
      "Processando empresa GOLL4...\n",
      "Processando empresa GPAR3...\n",
      "Processando empresa GPIV33...\n",
      "Processando empresa GRND3...\n",
      "Processando empresa GRNL4...\n",
      "Processando empresa GSHP3...\n",
      "Processando empresa GUAR3...\n",
      "Processando empresa GUAR4...\n",
      "Processando empresa GVTT3...\n",
      "Processando empresa HAGA3...\n",
      "Processando empresa HAGA4...\n",
      "Processando empresa HAPV3...\n",
      "Processando empresa HBOR3...\n",
      "Processando empresa HBRE3...\n",
      "Processando empresa HBSA3...\n",
      "Processando empresa HBTS5...\n",
      "Processando empresa HETA3...\n",
      "Processando empresa HETA4...\n",
      "Processando empresa HGTX3...\n",
      "Processando empresa HGTX4...\n",
      "Processando empresa HOOT4...\n",
      "Processando empresa HYPE3...\n",
      "Processando empresa IDVL11...\n",
      "Processando empresa IDVL3...\n",
      "Processando empresa IDVL4...\n",
      "Processando empresa IENG3...\n",
      "Processando empresa IENG5...\n",
      "Processando empresa IFCM3...\n",
      "Processando empresa IGBR3...\n",
      "Processando empresa IGBR5...\n",
      "Processando empresa IGBR6...\n",
      "Processando empresa IGTA3...\n",
      "Processando empresa IGTI11...\n",
      "Processando empresa IGTI3...\n",
      "Processando empresa IGUA3...\n",
      "Processando empresa IGUA5...\n",
      "Processando empresa IGUA6...\n",
      "Processando empresa ILLS4...\n",
      "Processando empresa ILMD3...\n",
      "Processando empresa ILMD4...\n",
      "Processando empresa IMBI3...\n",
      "Processando empresa IMBI4...\n",
      "Processando empresa IMCH3...\n",
      "Processando empresa INEP3...\n",
      "Processando empresa INEP4...\n",
      "Processando empresa INHA3...\n",
      "Processando empresa INTB3...\n",
      "Processando empresa IRBR3...\n",
      "Processando empresa ITEC3...\n",
      "Processando empresa ITSA3...\n",
      "Processando empresa ITSA4...\n",
      "Processando empresa ITUB3...\n",
      "Processando empresa ITUB4...\n",
      "Processando empresa IVTT3...\n",
      "Processando empresa JALL3...\n",
      "Processando empresa JBDU3...\n",
      "Processando empresa JBDU4...\n",
      "Processando empresa JBSS3...\n",
      "Processando empresa JFAB4...\n",
      "Processando empresa JFEN3...\n",
      "Processando empresa JHSF3...\n",
      "Processando empresa JOPA3...\n",
      "Processando empresa JOPA4...\n",
      "Processando empresa JPSA3...\n",
      "Processando empresa JSLG3...\n",
      "Processando empresa KEPL3...\n",
      "Processando empresa KLBN11...\n",
      "Processando empresa KLBN3...\n",
      "Processando empresa KLBN4...\n",
      "Processando empresa KROT11...\n",
      "Processando empresa KROT4...\n",
      "Processando empresa KRSA3...\n",
      "Processando empresa KSSA3...\n",
      "Processando empresa LAME3...\n",
      "Processando empresa LAME4...\n",
      "Processando empresa LAND3...\n",
      "Processando empresa LATM11...\n",
      "Processando empresa LATS3...\n",
      "Processando empresa LAVV3...\n",
      "Processando empresa LCAM3...\n",
      "Processando empresa LCSA3...\n",
      "Processando empresa LCSA4...\n",
      "Processando empresa LECO3...\n",
      "Processando empresa LECO4...\n",
      "Processando empresa LETO3...\n",
      "Processando empresa LETO5...\n",
      "Processando empresa LEVE3...\n",
      "Processando empresa LEVE4...\n",
      "Processando empresa LFFE3...\n",
      "Processando empresa LFFE4...\n",
      "Processando empresa LGLO4...\n",
      "Processando empresa LIGH3...\n",
      "Processando empresa LIGT3...\n",
      "Processando empresa LINX3...\n",
      "Processando empresa LIPR3...\n",
      "Processando empresa LIXC3...\n",
      "Processando empresa LIXC4...\n",
      "Processando empresa LJQQ3...\n",
      "Processando empresa LLIS3...\n",
      "Processando empresa LOGG3...\n",
      "Processando empresa LOGN3...\n",
      "Processando empresa LPSB3...\n",
      "Processando empresa LREN3...\n",
      "Processando empresa LREN4...\n",
      "Processando empresa LUPA3...\n",
      "Processando empresa LUXM3...\n",
      "Processando empresa LUXM4...\n",
      "Processando empresa LVTC3...\n",
      "Processando empresa LWSA3...\n",
      "Processando empresa MAGG3...\n",
      "Processando empresa MAGS3...\n",
      "Processando empresa MAPT3...\n",
      "Processando empresa MAPT4...\n",
      "Processando empresa MARI3...\n",
      "Processando empresa MATD3...\n",
      "Processando empresa MBLY3...\n",
      "Processando empresa MDIA3...\n",
      "Processando empresa MDNE3...\n",
      "Processando empresa MEAL3...\n",
      "Processando empresa MEDI3...\n",
      "Processando empresa MELK3...\n",
      "Processando empresa MEND5...\n",
      "Processando empresa MEND6...\n",
      "Processando empresa MERC3...\n",
      "Processando empresa MERC4...\n",
      "Processando empresa MGEL3...\n",
      "Processando empresa MGEL4...\n",
      "Processando empresa MGLU3...\n",
      "Processando empresa MILK33...\n",
      "Processando empresa MILS3...\n",
      "Processando empresa MLAS3...\n",
      "Processando empresa MLFT4...\n",
      "Processando empresa MLPA12...\n",
      "Processando empresa MLPA3...\n",
      "Processando empresa MLPA4...\n",
      "Processando empresa MMAQ3...\n",
      "Processando empresa MMAQ4...\n",
      "Processando empresa MMXM3...\n",
      "Processando empresa MNDL3...\n",
      "Processando empresa MNDL4...\n",
      "Processando empresa MNPR3...\n",
      "Processando empresa MNPR4...\n",
      "Processando empresa MNSA3...\n",
      "Processando empresa MNSA4...\n",
      "Processando empresa MOAR3...\n",
      "Processando empresa MODL11...\n",
      "Processando empresa MODL3...\n",
      "Processando empresa MODL4...\n",
      "Processando empresa MOSI3...\n",
      "Processando empresa MOVI3...\n",
      "Processando empresa MPLU3...\n",
      "Processando empresa MRFG3...\n",
      "Processando empresa MRSA3B...\n",
      "Processando empresa MRSA5B...\n",
      "Processando empresa MRSA6B...\n",
      "Processando empresa MRSL3...\n",
      "Processando empresa MRSL4...\n",
      "Processando empresa MRVE3...\n",
      "Processando empresa MSAN3...\n",
      "Processando empresa MSAN4...\n",
      "Processando empresa MSPA3...\n",
      "Processando empresa MSPA4...\n",
      "Processando empresa MTBR3...\n",
      "Processando empresa MTBR4...\n",
      "Processando empresa MTIG3...\n",
      "Processando empresa MTIG4...\n",
      "Processando empresa MTRE3...\n",
      "Processando empresa MTSA4...\n",
      "Processando empresa MULT3...\n",
      "Processando empresa MWET3...\n",
      "Processando empresa MWET4...\n",
      "Processando empresa MYPK3...\n",
      "Processando empresa MYPK4...\n",
      "Processando empresa NAFG3...\n",
      "Processando empresa NAFG4...\n",
      "Processando empresa NATU3...\n",
      "Processando empresa NEOE3...\n",
      "Processando empresa NETC3...\n",
      "Processando empresa NETC4...\n",
      "Processando empresa NEXP3...\n",
      "Processando empresa NGRD3...\n",
      "Processando empresa NINJ3...\n",
      "Processando empresa NORD3...\n",
      "Processando empresa NTCO3...\n",
      "Processando empresa NUTR3...\n",
      "Processando empresa ODER3...\n",
      "Processando empresa ODER4...\n",
      "Processando empresa ODPV3...\n",
      "Processando empresa OFSA3...\n",
      "Processando empresa OGXP3...\n",
      "Processando empresa OIBR3...\n",
      "Processando empresa OIBR4...\n",
      "Processando empresa OMGE3...\n",
      "Processando empresa ONCO3...\n",
      "Processando empresa OPCT3...\n",
      "Processando empresa ORVR3...\n",
      "Processando empresa OSAO4...\n",
      "Processando empresa OSXB3...\n",
      "Processando empresa PALF11...\n",
      "Processando empresa PALF3...\n",
      "Processando empresa PALF5...\n",
      "Processando empresa PARD3...\n",
      "Processando empresa PATI3...\n",
      "Processando empresa PATI4...\n",
      "Processando empresa PCAR3...\n",
      "Processando empresa PCAR4...\n",
      "Processando empresa PCAR5...\n",
      "Processando empresa PDGR3...\n",
      "Processando empresa PDTC3...\n",
      "Processando empresa PEAB3...\n",
      "Processando empresa PEAB4...\n",
      "Processando empresa PEFX3...\n",
      "Processando empresa PEFX5...\n",
      "Processando empresa PETR3...\n",
      "Processando empresa PETR4...\n",
      "Processando empresa PETZ3...\n",
      "Processando empresa PFRM3...\n",
      "Processando empresa PGMN3...\n",
      "Processando empresa PINE3...\n",
      "Processando empresa PINE4...\n",
      "Processando empresa PITI4...\n",
      "Processando empresa PLAS3...\n",
      "Processando empresa PLDN4...\n",
      "Processando empresa PLIM4...\n",
      "Processando empresa PLPL3...\n",
      "Processando empresa PLTO5...\n",
      "Processando empresa PLTO6...\n",
      "Processando empresa PMAM3...\n",
      "Processando empresa PMAM4...\n",
      "Processando empresa PMET3...\n",
      "Processando empresa PMET5...\n",
      "Processando empresa PMET6...\n",
      "Processando empresa PNOR5...\n",
      "Processando empresa PNOR6...\n",
      "Processando empresa PNVL3...\n",
      "Processando empresa PNVL4...\n",
      "Processando empresa POMO3...\n",
      "Processando empresa POMO4...\n",
      "Processando empresa POPR4...\n",
      "Processando empresa PORP4...\n",
      "Processando empresa PORT3...\n",
      "Processando empresa POSI3...\n",
      "Processando empresa POWE3...\n",
      "Processando empresa PQUN3...\n",
      "Processando empresa PQUN4...\n",
      "Processando empresa PRBC3...\n",
      "Processando empresa PRBC4...\n",
      "Processando empresa PRGA4...\n",
      "Processando empresa PRIO3...\n",
      "Processando empresa PRML3...\n",
      "Processando empresa PRNR3...\n",
      "Processando empresa PRTX3...\n",
      "Processando empresa PRVI3...\n",
      "Processando empresa PSSA3...\n",
      "Processando empresa PTBL3...\n",
      "Processando empresa PTBL4...\n",
      "Processando empresa PTIP3...\n",
      "Processando empresa PTIP4...\n",
      "Processando empresa PTNT3...\n",
      "Processando empresa PTNT4...\n",
      "Processando empresa PTPA3...\n",
      "Processando empresa PTPA4...\n",
      "Processando empresa PTQS4...\n",
      "Processando empresa QUAL3...\n",
      "Processando empresa RADL3...\n",
      "Processando empresa RAIA3...\n",
      "Processando empresa RAIL3...\n",
      "Processando empresa RAIZ4...\n",
      "Processando empresa RANI3...\n",
      "Processando empresa RANI4...\n",
      "Processando empresa RAPT3...\n",
      "Processando empresa RAPT4...\n",
      "Processando empresa RCSL3...\n",
      "Processando empresa RCSL4...\n",
      "Processando empresa RCTB31...\n",
      "Processando empresa RCTB33...\n",
      "Processando empresa RCTB41...\n",
      "Processando empresa RCTB42...\n",
      "Processando empresa RDCD3...\n",
      "Processando empresa RDNI3...\n",
      "Processando empresa RDOR3...\n",
      "Processando empresa RDTR3...\n",
      "Processando empresa RECV3...\n",
      "Processando empresa REDE3...\n",
      "Processando empresa REDE4...\n",
      "Processando empresa REEM4...\n",
      "Processando empresa RENT3...\n",
      "Processando empresa REPA3...\n",
      "Processando empresa REPA4...\n",
      "Processando empresa RGEG3...\n",
      "Processando empresa RHDS3...\n",
      "Processando empresa RHDS4...\n",
      "Processando empresa RIPI3...\n",
      "Processando empresa RIPI4...\n",
      "Processando empresa RJCP3...\n",
      "Processando empresa RLOG3...\n",
      "Processando empresa RNEW11...\n",
      "Processando empresa RNEW3...\n",
      "Processando empresa RNEW4...\n",
      "Processando empresa RNPT3...\n",
      "Processando empresa RNPT4...\n",
      "Processando empresa ROMI3...\n",
      "Processando empresa ROMI4...\n",
      "Processando empresa RPAD3...\n",
      "Processando empresa RPAD5...\n",
      "Processando empresa RPAD6...\n",
      "Processando empresa RPMG3...\n",
      "Processando empresa RPMG4...\n",
      "Processando empresa RPSA4...\n",
      "Processando empresa RRRP3...\n",
      "Processando empresa RSID3...\n",
      "Processando empresa RSIP3...\n",
      "Processando empresa RSIP4...\n",
      "Processando empresa RSUL4...\n",
      "Processando empresa SALM3...\n",
      "Processando empresa SALM4...\n",
      "Processando empresa SANB11...\n",
      "Processando empresa SANB3...\n",
      "Processando empresa SANB4...\n",
      "Processando empresa SAPR11...\n",
      "Processando empresa SAPR3...\n",
      "Processando empresa SAPR4...\n",
      "Processando empresa SBFG3...\n",
      "Processando empresa SBSP3...\n",
      "Processando empresa SCAR3...\n",
      "Processando empresa SCAR4...\n",
      "Processando empresa SCLO3...\n",
      "Processando empresa SCLO4...\n",
      "Processando empresa SDIA3...\n",
      "Processando empresa SDIA4...\n",
      "Processando empresa SEBB11...\n",
      "Processando empresa SEBB3...\n",
      "Processando empresa SEBB4...\n",
      "Processando empresa SEDU3...\n",
      "Processando empresa SEER3...\n",
      "Processando empresa SEMP3...\n",
      "Processando empresa SEQL3...\n",
      "Processando empresa SFSA3...\n",
      "Processando empresa SFSA4...\n",
      "Processando empresa SGEN3...\n",
      "Processando empresa SGEN4...\n",
      "Processando empresa SGPS3...\n",
      "Processando empresa SHOW3...\n",
      "Processando empresa SHUL4...\n",
      "Processando empresa SIMH3...\n",
      "Processando empresa SJOS3...\n",
      "Processando empresa SJOS4...\n",
      "Processando empresa SLCE3...\n",
      "Processando empresa SLED3...\n",
      "Processando empresa SLED4...\n",
      "Processando empresa SMFT3...\n",
      "Processando empresa SMLE3...\n",
      "Processando empresa SMLS3...\n",
      "Processando empresa SMTO3...\n",
      "Processando empresa SNSY5...\n",
      "Processando empresa SOJA3...\n",
      "Processando empresa SOMA3...\n",
      "Processando empresa SOND3...\n",
      "Processando empresa SOND5...\n",
      "Processando empresa SOND6...\n",
      "Processando empresa SPRI3...\n",
      "Processando empresa SPRI5...\n",
      "Processando empresa SPRI6...\n",
      "Processando empresa SQIA3...\n",
      "Processando empresa SRNA3...\n",
      "Processando empresa STBP11...\n",
      "Processando empresa STBP3...\n",
      "Processando empresa STRP4...\n",
      "Processando empresa SUBA3...\n",
      "Processando empresa SULA11...\n",
      "Processando empresa SULA3...\n",
      "Processando empresa SULA4...\n",
      "Processando empresa SULT3...\n",
      "Processando empresa SULT4...\n",
      "Processando empresa SUZA4...\n",
      "Processando empresa SUZB3...\n",
      "Processando empresa SUZB5...\n",
      "Processando empresa SUZB6...\n",
      "Processando empresa SYNE3...\n",
      "Processando empresa SZPQ4...\n",
      "Processando empresa TAEE11...\n",
      "Processando empresa TAEE3...\n",
      "Processando empresa TAEE4...\n",
      "Processando empresa TAMM3...\n",
      "Processando empresa TAMM4...\n",
      "Processando empresa TANC4...\n",
      "Processando empresa TARP11...\n",
      "Processando empresa TASA3...\n",
      "Processando empresa TASA4...\n",
      "Processando empresa TBLE5...\n",
      "Processando empresa TBLE6...\n",
      "Processando empresa TCNO3...\n",
      "Processando empresa TCNO4...\n",
      "Processando empresa TCOC3...\n",
      "Processando empresa TCOC4...\n",
      "Processando empresa TCSA3...\n",
      "Processando empresa TCSL4...\n",
      "Processando empresa TDBH3...\n",
      "Processando empresa TDBH4...\n",
      "Processando empresa TECN3...\n",
      "Processando empresa TEFC11...\n",
      "Processando empresa TEKA3...\n",
      "Processando empresa TEKA4...\n",
      "Processando empresa TELB3...\n",
      "Processando empresa TELB4...\n",
      "Processando empresa TEMP3...\n",
      "Processando empresa TEND3...\n",
      "Processando empresa TENE5...\n",
      "Processando empresa TENE7...\n",
      "Processando empresa TERI3...\n",
      "Processando empresa TESA3...\n",
      "Processando empresa TFCO4...\n",
      "Processando empresa TGMA3...\n",
      "Processando empresa TIET11...\n",
      "Processando empresa TIET3...\n",
      "Processando empresa TIET4...\n",
      "Processando empresa TIMP3...\n",
      "Processando empresa TIMS3...\n",
      "Processando empresa TKNO4...\n",
      "Processando empresa TLCP3...\n",
      "Processando empresa TLCP4...\n",
      "Processando empresa TMAR3...\n",
      "Processando empresa TMAR5...\n",
      "Processando empresa TMAR6...\n",
      "Processando empresa TMCP3...\n",
      "Processando empresa TMCP4...\n",
      "Processando empresa TMGC11...\n",
      "Processando empresa TMGC12...\n",
      "Processando empresa TMGC13...\n",
      "Processando empresa TMGC3...\n",
      "Processando empresa TMGC7...\n",
      "Processando empresa TNCP3...\n",
      "Processando empresa TNCP4...\n",
      "Processando empresa TNEP3...\n",
      "Processando empresa TNEP4...\n",
      "Processando empresa TNLP3...\n",
      "Processando empresa TNLP4...\n",
      "Processando empresa TOTS3...\n",
      "Processando empresa TOYB3...\n",
      "Processando empresa TOYB4...\n",
      "Processando empresa TPIS3...\n",
      "Processando empresa TPRC3...\n",
      "Processando empresa TPRC6...\n",
      "Processando empresa TRAD3...\n",
      "Processando empresa TRFO3...\n",
      "Processando empresa TRFO4...\n",
      "Processando empresa TRIS3...\n",
      "Processando empresa TROR3...\n",
      "Processando empresa TROR4...\n",
      "Processando empresa TRPL3...\n",
      "Processando empresa TRPL4...\n",
      "Processando empresa TRPN3...\n",
      "Processando empresa TSEP3...\n",
      "Processando empresa TSEP4...\n",
      "Processando empresa TSPP3...\n",
      "Processando empresa TSPP4...\n",
      "Processando empresa TTEN3...\n",
      "Processando empresa TUPY3...\n",
      "Processando empresa TUPY4...\n",
      "Processando empresa TVIT3...\n",
      "Processando empresa TXRX3...\n",
      "Processando empresa TXRX4...\n",
      "Processando empresa UBBR11...\n",
      "Processando empresa UBBR3...\n",
      "Processando empresa UBBR4...\n",
      "Processando empresa UCAS3...\n",
      "Processando empresa UCOP4...\n",
      "Processando empresa UGPA3...\n",
      "Processando empresa UGPA4...\n",
      "Processando empresa UNIP3...\n",
      "Processando empresa UNIP5...\n",
      "Processando empresa UNIP6...\n",
      "Processando empresa UOLL4...\n",
      "Processando empresa USIM3...\n",
      "Processando empresa USIM5...\n",
      "Processando empresa USIM6...\n",
      "Processando empresa VAGV3...\n",
      "Processando empresa VAGV4...\n",
      "Processando empresa VALE3...\n",
      "Processando empresa VALE5...\n",
      "Processando empresa VAMO3...\n",
      "Processando empresa VBBR3...\n",
      "Processando empresa VCPA4...\n",
      "Processando empresa VGOR3...\n",
      "Processando empresa VGOR4...\n",
      "Processando empresa VIGR3...\n",
      "Processando empresa VIIA3...\n",
      "Processando empresa VINE3...\n",
      "Processando empresa VINE5...\n",
      "Processando empresa VITT3...\n",
      "Processando empresa VIVA3...\n",
      "Processando empresa VIVO3...\n",
      "Processando empresa VIVO4...\n",
      "Processando empresa VIVR3...\n",
      "Processando empresa VIVT3...\n",
      "Processando empresa VIVT4...\n",
      "Processando empresa VLID3...\n",
      "Processando empresa VNET3...\n",
      "Processando empresa VPSC3...\n",
      "Processando empresa VPSC4...\n",
      "Processando empresa VPTA3...\n",
      "Processando empresa VPTA4...\n",
      "Processando empresa VSPT3...\n",
      "Processando empresa VSPT4...\n",
      "Processando empresa VSTE3...\n",
      "Processando empresa VTLM3...\n",
      "Processando empresa VTRU3...\n",
      "Processando empresa VULC3...\n",
      "Processando empresa VULC4...\n",
      "Processando empresa VVAR11...\n",
      "Processando empresa VVAR4...\n",
      "Processando empresa VVAX3...\n",
      "Processando empresa VVAX4...\n",
      "Processando empresa VVEO3...\n",
      "Processando empresa WEGE3...\n",
      "Processando empresa WEGE4...\n",
      "Processando empresa WEST3...\n",
      "Processando empresa WHIRL3...\n",
      "Processando empresa WHIRL4...\n",
      "Processando empresa WHRL3...\n",
      "Processando empresa WHRL4...\n",
      "Processando empresa WISA3...\n",
      "Processando empresa WISA4...\n",
      "Processando empresa WIZC3...\n",
      "Processando empresa WIZS3...\n",
      "Processando empresa WLMM3...\n",
      "Processando empresa WLMM4...\n",
      "Processando empresa WMBY3...\n",
      "Processando empresa WSON33...\n",
      "Processando empresa YDUQ3...\n",
      "Processando empresa ZAMP3...\n",
      "TOTAL DE EMPRESAS:  995\n"
     ]
    }
   ],
   "source": [
    "# Dicionário para armazenar os DataFrames\n",
    "dicionario_de_balancos = {}\n",
    "contador_de_empresas = 0\n",
    "# Percorre todos os arquivos na pasta 'balancos_definitivos'\n",
    "for arquivo in os.listdir(BALANCOS_DEFINITIVO_FOLDER):\n",
    "    if arquivo.endswith(\".xlsx\"):\n",
    "        # Cria o caminho completo para o arquivo\n",
    "        caminho_arquivo = os.path.join(BALANCOS_DEFINITIVO_FOLDER, arquivo)\n",
    "        contador_de_empresas = contador_de_empresas + 1\n",
    "        # Carrega o DataFrame a partir do arquivo Excel\n",
    "        balanco = pd.read_excel(caminho_arquivo, sheet_name=0, engine=\"openpyxl\", header=None)   \n",
    "\n",
    "        # Na célula [0, 0] está o nome da empresa\n",
    "        nome = balanco.iloc[0, 0]\n",
    "        print(f\"Processando empresa {nome}...\")\n",
    "        # Pega a 1ª linha e torna um cabeçalho\n",
    "        balanco.columns = balanco.iloc[0]\n",
    "        balanco = balanco[1:]\n",
    "\n",
    "        # Define a 1ª coluna (nome da empresa) como índice\n",
    "        balanco = balanco.set_index(balanco.columns[0])\n",
    "\n",
    "        # Adiciona o DataFrame ao dicionário com o nome da empresa como chave\n",
    "        dicionario_de_balancos[nome] = balanco\n",
    "print(\"TOTAL DE EMPRESAS: \", contador_de_empresas)"
   ]
  },
  {
   "cell_type": "code",
   "execution_count": 18,
   "metadata": {},
   "outputs": [
    {
     "name": "stdout",
     "output_type": "stream",
     "text": [
      "LISTA ATUALIZADA DE EMPRESAS:\n",
      "['AALR3', 'ABCB3', 'ABCB4', 'ABEV3', 'ABYA3', 'ACES3', 'ACES4', 'ADHM3', 'AEDU11', 'AEDU3', 'AELP3', 'AERI3', 'AESB3', 'AESL3', 'AESL4', 'AFLT3', 'AFLU3', 'AFLU5', 'AGEI3', 'AGEN33', 'AGIN3', 'AGRO3', 'AGXY3', 'AHEB3', 'AHEB5', 'AHEB6', 'ALBA3', 'ALLD3', 'ALLL11', 'ALLL3', 'ALLL4', 'ALOS3', 'ALPA3', 'ALPA4', 'ALPK3', 'ALSC3', 'ALSO3', 'ALUP11', 'ALUP3', 'ALUP4', 'AMAR3', 'AMBP3', 'AMBV3', 'AMBV4', 'AMER3', 'AMIL3', 'AMPI3', 'ANIM3', 'APER3', 'APTI4', 'ARCE3', 'ARCZ3', 'ARCZ6', 'ARLA3', 'ARLA4', 'ARML3', 'ARPS3', 'ARPS4', 'ARTE3', 'ARTE4', 'ARTR3', 'ARZZ3', 'ASAI3', 'ASSM3', 'ASSM4', 'ASTA4', 'ATMP3', 'ATOM3', 'AURA33', 'AURE3', 'AUTM3', 'AVIL3', 'AVLL3', 'AZEV3', 'AZEV4', 'AZUL4', 'AZZA3', 'B3SA3', 'BAHI11', 'BAHI3', 'BAHI4', 'BAHI5', 'BALM3', 'BALM4', 'BAUH4', 'BAZA3', 'BBAS3', 'BBDC3', 'BBDC4', 'BBRK3', 'BBSE3', 'BBTG11', 'BBTG12', 'BBTG13', 'BCAL6', 'BDLL3', 'BDLL4', 'BECE3', 'BECE4', 'BEEF3', 'BEES3', 'BEES4', 'BELG3', 'BELG4', 'BEMA3', 'BERG3', 'BESP3', 'BESP4', 'BFIT3', 'BFIT4', 'BGIP3', 'BGIP4', 'BHGR3', 'BHIA3', 'BICB3', 'BICB4', 'BIDI11', 'BIDI3', 'BIDI4', 'BIOM3', 'BIOM4', 'BISA3', 'BKBR3', 'BLAU3', 'BLUT3', 'BLUT4', 'BMEB3', 'BMEB4', 'BMEF3', 'BMGB11', 'BMGB4', 'BMIN3', 'BMIN4', 'BMKS3', 'BMOB3', 'BMTO3', 'BMTO4', 'BNBR3', 'BNBR4', 'BNCA3', 'BOAS3', 'BOBR3', 'BOBR4', 'BOVH3', 'BPAC11', 'BPAC3', 'BPAC5', 'BPAN4', 'BPAR3', 'BPAT33', 'BPHA3', 'BPIA3', 'BPNM3', 'BRAP3', 'BRAP4', 'BRAV3', 'BRBI11', 'BRDT3', 'BRFS3', 'BRGE11', 'BRGE12', 'BRGE3', 'BRGE5', 'BRGE6', 'BRGE7', 'BRGE8', 'BRIT3', 'BRIV3', 'BRIV4', 'BRKM3', 'BRKM5', 'BRKM6', 'BRML3', 'BRPR3', 'BRSR3', 'BRSR4', 'BRSR5', 'BRSR6', 'BRTP3', 'BRTP4', 'BSCT3', 'BSCT5', 'BSCT6', 'BSEV3', 'BSGR3', 'BSLI3', 'BSLI4', 'BTTL3', 'BUET3', 'BUET4', 'CAFE3', 'CAFE4', 'CALI3', 'CALI4', 'CAMB3', 'CAMB4', 'CAML3', 'CARD3', 'CASH3', 'CASN3', 'CBAV3', 'CBEE3', 'CBMA3', 'CBMA4', 'CCHI3', 'CCHI4', 'CCIM3', 'CCPR3', 'CCRO3', 'CCTU4', 'CCXC3', 'CEAB3', 'CEBR3', 'CEBR5', 'CEBR6', 'CEDO3', 'CEDO4', 'CEEB3', 'CEEB5', 'CEED3', 'CEED4', 'CEGR3', 'CELM3', 'CEPE3', 'CEPE5', 'CEPE6', 'CESP3', 'CESP4', 'CESP5', 'CESP6', 'CFLU4', 'CGAS3', 'CGAS5', 'CGOS3', 'CGOS4', 'CGRA3', 'CGRA4', 'CIEL3', 'CIQU3', 'CIQU4', 'CLAN3', 'CLAN4', 'CLSA3', 'CLSC3', 'CLSC4', 'CLSC5', 'CLSC6', 'CMET4', 'CMGI3', 'CMGI4', 'CMIG3', 'CMIG4', 'CMIN3', 'CMMA4', 'CNFB4', 'COCE3', 'COCE5', 'COCE6', 'COGN3', 'CORR3', 'CORR4', 'CPFE3', 'CPFG3', 'CPFG4', 'CPFP4', 'CPLE11', 'CPLE3', 'CPLE5', 'CPLE6', 'CPNY3', 'CPRE3', 'CPSL3', 'CRBM3', 'CRBM7', 'CRDE3', 'CREM3', 'CREM4', 'CRFB3', 'CRIV3', 'CRIV4', 'CRPG3', 'CRPG5', 'CRPG6', 'CRTP3', 'CRTP5', 'CRUZ3', 'CSAB3', 'CSAB4', 'CSAN3', 'CSED3', 'CSMG3', 'CSNA3', 'CSPC3', 'CSPC4', 'CSRN3', 'CSRN5', 'CSRN6', 'CSTB3', 'CSTB4', 'CSUD3', 'CTIP3', 'CTKA3', 'CTKA4', 'CTNM3', 'CTNM4', 'CTPC3', 'CTPC4', 'CTSA3', 'CTSA4', 'CTSA8', 'CTWR3', 'CURY3', 'CVCB3', 'CXSE3', 'CYRE3', 'CYRE4', 'CZLT33', 'CZRS3', 'CZRS4', 'DAGB33', 'DASA3', 'DAYC3', 'DAYC4', 'DESK3', 'DEXP3', 'DEXP4', 'DFVA3', 'DFVA4', 'DHBI3', 'DHBI4', 'DIRR3', 'DJON4', 'DMFN3', 'DMMO3', 'DMVF3', 'DOCA3', 'DOCA4', 'DOHL3', 'DOHL4', 'DOTZ3', 'DPPI3', 'DPPI4', 'DSUL3', 'DTCY3', 'DUFB11', 'DUQE3', 'DUQE4', 'DURA3', 'DURA4', 'DXCO3', 'DXTG4', 'EALT3', 'EALT4', 'EBCO3', 'EBCO4', 'EBEN4', 'EBTP3', 'EBTP4', 'ECIS3', 'ECIS4', 'ECOR3', 'ECPR3', 'ECPR4', 'EEEL3', 'EEEL4', 'EGIE3', 'EKTR3', 'EKTR4', 'ELCA3', 'ELCA4', 'ELEK3', 'ELEK4', 'ELET3', 'ELET5', 'ELET6', 'ELEV3', 'ELMD3', 'ELPL3', 'ELPL4', 'ELPL5', 'ELPL6', 'ELUM3', 'ELUM4', 'EMAE4', 'EMBR3', 'ENAT3', 'ENBR3', 'ENER3', 'ENER5', 'ENER6', 'ENEV3', 'ENGI11', 'ENGI3', 'ENGI4', 'ENJU3', 'ENMT3', 'ENMT4', 'EPAR3', 'EPAR4', 'EQMA3B', 'EQMA5B', 'EQMA6B', 'EQPA3', 'EQPA5', 'EQPA6', 'EQPA7', 'EQTL3', 'ESCE3', 'ESPA3', 'ESTC11', 'ESTC4', 'ESTR3', 'ESTR4', 'ETER3', 'ETER4', 'EUCA3', 'EUCA4', 'EVEN3', 'EZTC3', 'FBMC3', 'FBMC4', 'FBRA4', 'FCAP3', 'FCAP4', 'FESA3', 'FESA4', 'FFTL3', 'FFTL4', 'FGUI3', 'FGUI4', 'FHER3', 'FIBR3', 'FIEI3', 'FIGE3', 'FIGE4', 'FIQE3', 'FLCL3', 'FLCL5', 'FLCL6', 'FLRY3', 'FRAS3', 'FRAS4', 'FRIO3', 'FRTA3', 'FTRX3', 'FTRX4', 'GAFP3', 'GAFP4', 'GALO3', 'GALO4', 'GAZO3', 'GAZO4', 'GBIO33', 'GEPA3', 'GEPA4', 'GETI3', 'GETI4', 'GETT3', 'GETT4', 'GFSA3', 'GGBR3', 'GGBR4', 'GGPS3', 'GLOB4', 'GMAT3', 'GNDI3', 'GOAU3', 'GOAU4', 'GOLL4', 'GPAR3', 'GPIV33', 'GRND3', 'GRNL4', 'GSHP3', 'GUAR3', 'GUAR4', 'GVTT3', 'HAGA3', 'HAGA4', 'HAPV3', 'HBOR3', 'HBRE3', 'HBSA3', 'HBTS5', 'HETA3', 'HETA4', 'HGTX3', 'HGTX4', 'HOOT4', 'HYPE3', 'ICPI3', 'IDVL11', 'IDVL3', 'IDVL4', 'IENG3', 'IENG5', 'IFCM3', 'IGBR3', 'IGBR5', 'IGBR6', 'IGTA3', 'IGTI11', 'IGTI3', 'IGUA3', 'IGUA5', 'IGUA6', 'ILLS4', 'ILMD3', 'ILMD4', 'IMBI3', 'IMBI4', 'IMCH3', 'INEP3', 'INEP4', 'INHA3', 'INTB3', 'IRBR3', 'ITEC3', 'ITSA3', 'ITSA4', 'ITUB3', 'ITUB4', 'IVTT3', 'JALL3', 'JBDU3', 'JBDU4', 'JBSS3', 'JFAB4', 'JFEN3', 'JHSF3', 'JOPA3', 'JOPA4', 'JPSA3', 'JSLG3', 'KEPL3', 'KLBN11', 'KLBN3', 'KLBN4', 'KROT11', 'KROT4', 'KRSA3', 'KSSA3', 'LAME3', 'LAME4', 'LAND3', 'LATM11', 'LATS3', 'LAVV3', 'LCAM3', 'LCSA3', 'LCSA4', 'LECO3', 'LECO4', 'LETO3', 'LETO5', 'LEVE3', 'LEVE4', 'LFFE3', 'LFFE4', 'LGLO4', 'LIGH3', 'LIGT3', 'LINX3', 'LIPR3', 'LIXC3', 'LIXC4', 'LJQQ3', 'LLIS3', 'LOGG3', 'LOGN3', 'LPSB3', 'LREN3', 'LREN4', 'LUPA3', 'LUXM3', 'LUXM4', 'LVTC3', 'LWSA3', 'MAGG3', 'MAGS3', 'MAPT3', 'MAPT4', 'MARI3', 'MATD3', 'MBLY3', 'MDIA3', 'MDNE3', 'MEAL3', 'MEDI3', 'MELK3', 'MEND5', 'MEND6', 'MERC3', 'MERC4', 'MGEL3', 'MGEL4', 'MGLU3', 'MILK33', 'MILS3', 'MLAS3', 'MLFT4', 'MLPA12', 'MLPA3', 'MLPA4', 'MMAQ3', 'MMAQ4', 'MMXM3', 'MNDL3', 'MNDL4', 'MNPR3', 'MNPR4', 'MNSA3', 'MNSA4', 'MOAR3', 'MODL11', 'MODL3', 'MODL4', 'MOSI3', 'MOVI3', 'MPLU3', 'MRFG3', 'MRSA3B', 'MRSA5B', 'MRSA6B', 'MRSL3', 'MRSL4', 'MRVE3', 'MSAN3', 'MSAN4', 'MSPA3', 'MSPA4', 'MTBR3', 'MTBR4', 'MTIG3', 'MTIG4', 'MTRE3', 'MTSA4', 'MULT3', 'MWET3', 'MWET4', 'MYPK3', 'MYPK4', 'NAFG3', 'NAFG4', 'NATU3', 'NEOE3', 'NETC3', 'NETC4', 'NEXP3', 'NGRD3', 'NINJ3', 'NORD3', 'NTCO3', 'NUTR3', 'ODER3', 'ODER4', 'ODPV3', 'OFSA3', 'OGXP3', 'OIBR3', 'OIBR4', 'OMGE3', 'ONCO3', 'OPCT3', 'ORVR3', 'OSAO4', 'OSXB3', 'PALF11', 'PALF3', 'PALF5', 'PARD3', 'PATI3', 'PATI4', 'PCAR3', 'PCAR4', 'PCAR5', 'PDGR3', 'PDTC3', 'PEAB3', 'PEAB4', 'PEFX3', 'PEFX5', 'PETR3', 'PETR4', 'PETZ3', 'PFRM3', 'PGMN3', 'PINE3', 'PINE4', 'PITI4', 'PLAS3', 'PLDN4', 'PLIM4', 'PLPL3', 'PLTO5', 'PLTO6', 'PMAM3', 'PMAM4', 'PMET3', 'PMET5', 'PMET6', 'PNOR5', 'PNOR6', 'PNVL3', 'PNVL4', 'POMO3', 'POMO4', 'POPR4', 'PORP4', 'PORT3', 'POSI3', 'POWE3', 'PQUN3', 'PQUN4', 'PRBC3', 'PRBC4', 'PRGA4', 'PRIO3', 'PRML3', 'PRNR3', 'PRTX3', 'PRVI3', 'PSSA3', 'PTBL3', 'PTBL4', 'PTIP3', 'PTIP4', 'PTNT3', 'PTNT4', 'PTPA3', 'PTPA4', 'PTQS4', 'QUAL3', 'RADL3', 'RAIA3', 'RAIL3', 'RAIZ4', 'RANI3', 'RANI4', 'RAPT3', 'RAPT4', 'RCSL3', 'RCSL4', 'RCTB31', 'RCTB33', 'RCTB41', 'RCTB42', 'RDCD3', 'RDNI3', 'RDOR3', 'RDTR3', 'RECV3', 'REDE3', 'REDE4', 'REEM4', 'RENT3', 'REPA3', 'REPA4', 'RGEG3', 'RHDS3', 'RHDS4', 'RIPI3', 'RIPI4', 'RJCP3', 'RLOG3', 'RNEW11', 'RNEW3', 'RNEW4', 'RNPT3', 'RNPT4', 'ROMI3', 'ROMI4', 'RPAD3', 'RPAD5', 'RPAD6', 'RPMG3', 'RPMG4', 'RPSA4', 'RRRP3', 'RSID3', 'RSIP3', 'RSIP4', 'RSUL4', 'SALM3', 'SALM4', 'SANB11', 'SANB3', 'SANB4', 'SAPR11', 'SAPR3', 'SAPR4', 'SASG3', 'SBFG3', 'SBSP3', 'SCAR3', 'SCAR4', 'SCLO3', 'SCLO4', 'SDIA3', 'SDIA4', 'SEBB11', 'SEBB3', 'SEBB4', 'SEDU3', 'SEER3', 'SEMP3', 'SEQL3', 'SFSA3', 'SFSA4', 'SGEN3', 'SGEN4', 'SGPS3', 'SHOW3', 'SHUL4', 'SIMH3', 'SJOS3', 'SJOS4', 'SLCE3', 'SLCP3', 'SLED3', 'SLED4', 'SMFT3', 'SMLE3', 'SMLS3', 'SMTO3', 'SNSY5', 'SOJA3', 'SOMA3', 'SOND3', 'SOND5', 'SOND6', 'SPRI3', 'SPRI5', 'SPRI6', 'SQIA3', 'SRNA3', 'STBP11', 'STBP3', 'STRP4', 'SUBA3', 'SULA11', 'SULA3', 'SULA4', 'SULT3', 'SULT4', 'SUZA4', 'SUZB3', 'SUZB5', 'SUZB6', 'SYNE3', 'SZPQ4', 'TAEE11', 'TAEE3', 'TAEE4', 'TAMM3', 'TAMM4', 'TANC4', 'TARP11', 'TASA3', 'TASA4', 'TBLE5', 'TBLE6', 'TCNO3', 'TCNO4', 'TCOC3', 'TCOC4', 'TCSA3', 'TCSL4', 'TDBH3', 'TDBH4', 'TECN3', 'TEFC11', 'TEKA3', 'TEKA4', 'TELB3', 'TELB4', 'TEMP3', 'TEND3', 'TENE5', 'TENE7', 'TERI3', 'TESA3', 'TFCO4', 'TGMA3', 'TIET11', 'TIET3', 'TIET4', 'TIMP3', 'TIMS3', 'TKNO4', 'TLCP3', 'TLCP4', 'TMAR3', 'TMAR5', 'TMAR6', 'TMCP3', 'TMCP4', 'TMGC11', 'TMGC12', 'TMGC13', 'TMGC3', 'TMGC7', 'TNCP3', 'TNCP4', 'TNEP3', 'TNEP4', 'TNLP3', 'TNLP4', 'TOTS3', 'TOYB3', 'TOYB4', 'TPIS3', 'TPRC3', 'TPRC6', 'TRAD3', 'TRFO3', 'TRFO4', 'TRIS3', 'TROR3', 'TROR4', 'TRPL3', 'TRPL4', 'TRPN3', 'TSEP3', 'TSEP4', 'TSPP3', 'TSPP4', 'TTEN3', 'TUPY3', 'TUPY4', 'TVIT3', 'TXRX3', 'TXRX4', 'UBBR11', 'UBBR3', 'UBBR4', 'UCAS3', 'UCOP4', 'UGPA3', 'UGPA4', 'UNIP3', 'UNIP5', 'UNIP6', 'UOLL4', 'USIM3', 'USIM5', 'USIM6', 'VAGV3', 'VAGV4', 'VALE3', 'VALE5', 'VAMO3', 'VBBR3', 'VCPA4', 'VGOR3', 'VGOR4', 'VIGR3', 'VIIA3', 'VINE3', 'VINE5', 'VITT3', 'VIVA3', 'VIVO3', 'VIVO4', 'VIVR3', 'VIVT3', 'VIVT4', 'VLID3', 'VNET3', 'VPSC3', 'VPSC4', 'VPTA3', 'VPTA4', 'VSPT3', 'VSPT4', 'VSTE3', 'VTLM3', 'VTRU3', 'VULC3', 'VULC4', 'VVAR11', 'VVAR4', 'VVAX3', 'VVAX4', 'VVEO3', 'WEGE3', 'WEGE4', 'WEST3', 'WHIRL3', 'WHIRL4', 'WHRL3', 'WHRL4', 'WISA3', 'WISA4', 'WIZC3', 'WIZS3', 'WLMM3', 'WLMM4', 'WMBY3', 'WSON33', 'YDUQ3', 'ZAMP3']\n",
      "Empresas que foram adicionadas à lista:\n",
      "{'CARD3', 'RRRP3', 'LLIS3', 'BTTL3', 'ARZZ3', 'CMGI4', 'CRDE3', 'WHIRL4', 'CCPR3', 'WIZS3', 'ALSO3', 'CMGI3', 'WHIRL3', 'JBDU4', 'BKBR3', 'VIIA3', 'BBRK3', 'BRDT3'}\n"
     ]
    }
   ],
   "source": [
    "# Conjunto de nomes no dicionário\n",
    "nomes_no_dicionario = set(dicionario_de_balancos.keys())\n",
    "\n",
    "# Conjunto de nomes na lista de empresas\n",
    "nomes_na_lista = set(lista_de_empresas)\n",
    "\n",
    "# Empresas que estão no dicionário mas não na lista de empresas\n",
    "faltando_na_lista = nomes_no_dicionario - nomes_na_lista\n",
    "\n",
    "# Atualizar lista_de_empresas para incluir as empresas que estão no dicionário\n",
    "lista_de_empresas.extend(faltando_na_lista)\n",
    "\n",
    "# Remover duplicatas da lista_de_empresas (caso haja)\n",
    "lista_de_empresas = list(set(lista_de_empresas))\n",
    "sorted_lista_de_empresas = sorted(lista_de_empresas)\n",
    "print(\"LISTA ATUALIZADA DE EMPRESAS:\")\n",
    "print(sorted_lista_de_empresas)\n",
    "\n",
    "# Opcional: Exibir as empresas que estavam no dicionário, mas não na lista antes da atualização\n",
    "print(\"Empresas que foram adicionadas à lista:\")\n",
    "print(faltando_na_lista)"
   ]
  },
  {
   "cell_type": "code",
   "execution_count": 19,
   "metadata": {},
   "outputs": [
    {
     "data": {
      "text/html": [
       "<div>\n",
       "<style scoped>\n",
       "    .dataframe tbody tr th:only-of-type {\n",
       "        vertical-align: middle;\n",
       "    }\n",
       "\n",
       "    .dataframe tbody tr th {\n",
       "        vertical-align: top;\n",
       "    }\n",
       "\n",
       "    .dataframe thead th {\n",
       "        text-align: right;\n",
       "    }\n",
       "</style>\n",
       "<table border=\"1\" class=\"dataframe\">\n",
       "  <thead>\n",
       "    <tr style=\"text-align: right;\">\n",
       "      <th></th>\n",
       "      <th>31/12/2015</th>\n",
       "      <th>31/03/2016</th>\n",
       "      <th>30/06/2016</th>\n",
       "      <th>30/09/2016</th>\n",
       "      <th>31/12/2016</th>\n",
       "      <th>31/03/2017</th>\n",
       "      <th>30/06/2017</th>\n",
       "      <th>30/09/2017</th>\n",
       "      <th>31/12/2017</th>\n",
       "      <th>31/03/2018</th>\n",
       "      <th>...</th>\n",
       "      <th>31/03/2022</th>\n",
       "      <th>30/06/2022</th>\n",
       "      <th>30/09/2022</th>\n",
       "      <th>31/12/2022</th>\n",
       "      <th>31/03/2023</th>\n",
       "      <th>30/06/2023</th>\n",
       "      <th>30/09/2023</th>\n",
       "      <th>31/12/2023</th>\n",
       "      <th>31/03/2024</th>\n",
       "      <th>30/06/2024</th>\n",
       "    </tr>\n",
       "    <tr>\n",
       "      <th>AALR3</th>\n",
       "      <th></th>\n",
       "      <th></th>\n",
       "      <th></th>\n",
       "      <th></th>\n",
       "      <th></th>\n",
       "      <th></th>\n",
       "      <th></th>\n",
       "      <th></th>\n",
       "      <th></th>\n",
       "      <th></th>\n",
       "      <th></th>\n",
       "      <th></th>\n",
       "      <th></th>\n",
       "      <th></th>\n",
       "      <th></th>\n",
       "      <th></th>\n",
       "      <th></th>\n",
       "      <th></th>\n",
       "      <th></th>\n",
       "      <th></th>\n",
       "      <th></th>\n",
       "    </tr>\n",
       "  </thead>\n",
       "  <tbody>\n",
       "    <tr>\n",
       "      <th>Ativo Total</th>\n",
       "      <td>1536352</td>\n",
       "      <td>1844579.968</td>\n",
       "      <td>1872144</td>\n",
       "      <td>1934174.976</td>\n",
       "      <td>2166311.936</td>\n",
       "      <td>2218670.08</td>\n",
       "      <td>2270885.12</td>\n",
       "      <td>2308239.104</td>\n",
       "      <td>2284985.088</td>\n",
       "      <td>2274482.944</td>\n",
       "      <td>...</td>\n",
       "      <td>2537389.056</td>\n",
       "      <td>2573832.96</td>\n",
       "      <td>2631220.992</td>\n",
       "      <td>2615453.952</td>\n",
       "      <td>2571685.12</td>\n",
       "      <td>2520962.048</td>\n",
       "      <td>2748189.952</td>\n",
       "      <td>2669810.944</td>\n",
       "      <td>2573677.056</td>\n",
       "      <td>2692409.088</td>\n",
       "    </tr>\n",
       "    <tr>\n",
       "      <th>Ativo Circulante</th>\n",
       "      <td>215926</td>\n",
       "      <td>280523.008</td>\n",
       "      <td>292211.008</td>\n",
       "      <td>347318.016</td>\n",
       "      <td>494428.992</td>\n",
       "      <td>384152.992</td>\n",
       "      <td>409799.008</td>\n",
       "      <td>430387.008</td>\n",
       "      <td>401553.984</td>\n",
       "      <td>399984.992</td>\n",
       "      <td>...</td>\n",
       "      <td>456177.984</td>\n",
       "      <td>457827.008</td>\n",
       "      <td>508798.016</td>\n",
       "      <td>484284</td>\n",
       "      <td>433144</td>\n",
       "      <td>386719.008</td>\n",
       "      <td>620451.968</td>\n",
       "      <td>524747.008</td>\n",
       "      <td>441300.992</td>\n",
       "      <td>563769.024</td>\n",
       "    </tr>\n",
       "    <tr>\n",
       "      <th>Caixa e Equivalentes de Caixa</th>\n",
       "      <td>21920</td>\n",
       "      <td>25183</td>\n",
       "      <td>23851</td>\n",
       "      <td>44720</td>\n",
       "      <td>159332.992</td>\n",
       "      <td>53505</td>\n",
       "      <td>51155</td>\n",
       "      <td>50806</td>\n",
       "      <td>91597</td>\n",
       "      <td>68523</td>\n",
       "      <td>...</td>\n",
       "      <td>81625</td>\n",
       "      <td>240190</td>\n",
       "      <td>247828.992</td>\n",
       "      <td>218744</td>\n",
       "      <td>154614</td>\n",
       "      <td>95520</td>\n",
       "      <td>294614.016</td>\n",
       "      <td>218595.008</td>\n",
       "      <td>97788</td>\n",
       "      <td>254478</td>\n",
       "    </tr>\n",
       "    <tr>\n",
       "      <th>Aplicações Financeiras</th>\n",
       "      <td>3672</td>\n",
       "      <td>12637</td>\n",
       "      <td>13593</td>\n",
       "      <td>1856</td>\n",
       "      <td>37811</td>\n",
       "      <td>0</td>\n",
       "      <td>0</td>\n",
       "      <td>0</td>\n",
       "      <td>10</td>\n",
       "      <td>0</td>\n",
       "      <td>...</td>\n",
       "      <td>0</td>\n",
       "      <td>0</td>\n",
       "      <td>0</td>\n",
       "      <td>0</td>\n",
       "      <td>0</td>\n",
       "      <td>0</td>\n",
       "      <td>0</td>\n",
       "      <td>0</td>\n",
       "      <td>0</td>\n",
       "      <td>0</td>\n",
       "    </tr>\n",
       "    <tr>\n",
       "      <th>Contas a Receber</th>\n",
       "      <td>155592</td>\n",
       "      <td>199127.008</td>\n",
       "      <td>208658</td>\n",
       "      <td>233011.008</td>\n",
       "      <td>233260</td>\n",
       "      <td>249166</td>\n",
       "      <td>263584</td>\n",
       "      <td>282444</td>\n",
       "      <td>219178</td>\n",
       "      <td>235863.008</td>\n",
       "      <td>...</td>\n",
       "      <td>275668.992</td>\n",
       "      <td>133735</td>\n",
       "      <td>171106</td>\n",
       "      <td>186219.008</td>\n",
       "      <td>189298</td>\n",
       "      <td>206091.008</td>\n",
       "      <td>236254</td>\n",
       "      <td>202160</td>\n",
       "      <td>234380</td>\n",
       "      <td>186158</td>\n",
       "    </tr>\n",
       "    <tr>\n",
       "      <th>...</th>\n",
       "      <td>...</td>\n",
       "      <td>...</td>\n",
       "      <td>...</td>\n",
       "      <td>...</td>\n",
       "      <td>...</td>\n",
       "      <td>...</td>\n",
       "      <td>...</td>\n",
       "      <td>...</td>\n",
       "      <td>...</td>\n",
       "      <td>...</td>\n",
       "      <td>...</td>\n",
       "      <td>...</td>\n",
       "      <td>...</td>\n",
       "      <td>...</td>\n",
       "      <td>...</td>\n",
       "      <td>...</td>\n",
       "      <td>...</td>\n",
       "      <td>...</td>\n",
       "      <td>...</td>\n",
       "      <td>...</td>\n",
       "      <td>...</td>\n",
       "    </tr>\n",
       "    <tr>\n",
       "      <th>IR Diferido</th>\n",
       "      <td>NaN</td>\n",
       "      <td>0</td>\n",
       "      <td>0</td>\n",
       "      <td>0</td>\n",
       "      <td>18341</td>\n",
       "      <td>2541</td>\n",
       "      <td>-2431</td>\n",
       "      <td>37</td>\n",
       "      <td>45127</td>\n",
       "      <td>1315</td>\n",
       "      <td>...</td>\n",
       "      <td>14736</td>\n",
       "      <td>18174</td>\n",
       "      <td>2793</td>\n",
       "      <td>2848</td>\n",
       "      <td>0</td>\n",
       "      <td>-2974</td>\n",
       "      <td>-2820</td>\n",
       "      <td>12220</td>\n",
       "      <td>1198</td>\n",
       "      <td>0</td>\n",
       "    </tr>\n",
       "    <tr>\n",
       "      <th>Participações/Contribuições Estatutárias</th>\n",
       "      <td>NaN</td>\n",
       "      <td>NaN</td>\n",
       "      <td>NaN</td>\n",
       "      <td>NaN</td>\n",
       "      <td>NaN</td>\n",
       "      <td>NaN</td>\n",
       "      <td>NaN</td>\n",
       "      <td>NaN</td>\n",
       "      <td>NaN</td>\n",
       "      <td>NaN</td>\n",
       "      <td>...</td>\n",
       "      <td>NaN</td>\n",
       "      <td>NaN</td>\n",
       "      <td>NaN</td>\n",
       "      <td>NaN</td>\n",
       "      <td>NaN</td>\n",
       "      <td>NaN</td>\n",
       "      <td>NaN</td>\n",
       "      <td>NaN</td>\n",
       "      <td>NaN</td>\n",
       "      <td>NaN</td>\n",
       "    </tr>\n",
       "    <tr>\n",
       "      <th>Reversão dos Juros sobre Capital Próprio</th>\n",
       "      <td>NaN</td>\n",
       "      <td>NaN</td>\n",
       "      <td>NaN</td>\n",
       "      <td>NaN</td>\n",
       "      <td>NaN</td>\n",
       "      <td>NaN</td>\n",
       "      <td>NaN</td>\n",
       "      <td>NaN</td>\n",
       "      <td>NaN</td>\n",
       "      <td>NaN</td>\n",
       "      <td>...</td>\n",
       "      <td>NaN</td>\n",
       "      <td>NaN</td>\n",
       "      <td>NaN</td>\n",
       "      <td>NaN</td>\n",
       "      <td>NaN</td>\n",
       "      <td>NaN</td>\n",
       "      <td>NaN</td>\n",
       "      <td>NaN</td>\n",
       "      <td>NaN</td>\n",
       "      <td>NaN</td>\n",
       "    </tr>\n",
       "    <tr>\n",
       "      <th>Part. de Acionistas Não Controladores</th>\n",
       "      <td>NaN</td>\n",
       "      <td>-2193</td>\n",
       "      <td>-3784</td>\n",
       "      <td>-4135</td>\n",
       "      <td>-3863</td>\n",
       "      <td>-2976</td>\n",
       "      <td>-784</td>\n",
       "      <td>-2877</td>\n",
       "      <td>-1351</td>\n",
       "      <td>-2520</td>\n",
       "      <td>...</td>\n",
       "      <td>-2025</td>\n",
       "      <td>-2386</td>\n",
       "      <td>-2323</td>\n",
       "      <td>-1833</td>\n",
       "      <td>-2486</td>\n",
       "      <td>-1332</td>\n",
       "      <td>-2505</td>\n",
       "      <td>-2996</td>\n",
       "      <td>-1900</td>\n",
       "      <td>-2725</td>\n",
       "    </tr>\n",
       "    <tr>\n",
       "      <th>Lucro/Prejuízo do Período</th>\n",
       "      <td>NaN</td>\n",
       "      <td>7532</td>\n",
       "      <td>-9344</td>\n",
       "      <td>533</td>\n",
       "      <td>16071</td>\n",
       "      <td>5786</td>\n",
       "      <td>3954</td>\n",
       "      <td>10189</td>\n",
       "      <td>-13277</td>\n",
       "      <td>7103</td>\n",
       "      <td>...</td>\n",
       "      <td>-16547</td>\n",
       "      <td>-12495</td>\n",
       "      <td>-75123</td>\n",
       "      <td>-123645</td>\n",
       "      <td>-36179</td>\n",
       "      <td>-51579</td>\n",
       "      <td>-51762</td>\n",
       "      <td>-88358</td>\n",
       "      <td>-78744</td>\n",
       "      <td>433</td>\n",
       "    </tr>\n",
       "  </tbody>\n",
       "</table>\n",
       "<p>79 rows × 35 columns</p>\n",
       "</div>"
      ],
      "text/plain": [
       "0                                        31/12/2015   31/03/2016  30/06/2016  \\\n",
       "AALR3                                                                          \n",
       "Ativo Total                                 1536352  1844579.968     1872144   \n",
       "Ativo Circulante                             215926   280523.008  292211.008   \n",
       "Caixa e Equivalentes de Caixa                 21920        25183       23851   \n",
       "Aplicações Financeiras                         3672        12637       13593   \n",
       "Contas a Receber                             155592   199127.008      208658   \n",
       "...                                             ...          ...         ...   \n",
       "IR Diferido                                     NaN            0           0   \n",
       "Participações/Contribuições Estatutárias        NaN          NaN         NaN   \n",
       "Reversão dos Juros sobre Capital Próprio        NaN          NaN         NaN   \n",
       "Part. de Acionistas Não Controladores           NaN        -2193       -3784   \n",
       "Lucro/Prejuízo do Período                       NaN         7532       -9344   \n",
       "\n",
       "0                                          30/09/2016   31/12/2016  \\\n",
       "AALR3                                                                \n",
       "Ativo Total                               1934174.976  2166311.936   \n",
       "Ativo Circulante                           347318.016   494428.992   \n",
       "Caixa e Equivalentes de Caixa                   44720   159332.992   \n",
       "Aplicações Financeiras                           1856        37811   \n",
       "Contas a Receber                           233011.008       233260   \n",
       "...                                               ...          ...   \n",
       "IR Diferido                                         0        18341   \n",
       "Participações/Contribuições Estatutárias          NaN          NaN   \n",
       "Reversão dos Juros sobre Capital Próprio          NaN          NaN   \n",
       "Part. de Acionistas Não Controladores           -4135        -3863   \n",
       "Lucro/Prejuízo do Período                         533        16071   \n",
       "\n",
       "0                                         31/03/2017  30/06/2017   30/09/2017  \\\n",
       "AALR3                                                                           \n",
       "Ativo Total                               2218670.08  2270885.12  2308239.104   \n",
       "Ativo Circulante                          384152.992  409799.008   430387.008   \n",
       "Caixa e Equivalentes de Caixa                  53505       51155        50806   \n",
       "Aplicações Financeiras                             0           0            0   \n",
       "Contas a Receber                              249166      263584       282444   \n",
       "...                                              ...         ...          ...   \n",
       "IR Diferido                                     2541       -2431           37   \n",
       "Participações/Contribuições Estatutárias         NaN         NaN          NaN   \n",
       "Reversão dos Juros sobre Capital Próprio         NaN         NaN          NaN   \n",
       "Part. de Acionistas Não Controladores          -2976        -784        -2877   \n",
       "Lucro/Prejuízo do Período                       5786        3954        10189   \n",
       "\n",
       "0                                          31/12/2017   31/03/2018  ...  \\\n",
       "AALR3                                                               ...   \n",
       "Ativo Total                               2284985.088  2274482.944  ...   \n",
       "Ativo Circulante                           401553.984   399984.992  ...   \n",
       "Caixa e Equivalentes de Caixa                   91597        68523  ...   \n",
       "Aplicações Financeiras                             10            0  ...   \n",
       "Contas a Receber                               219178   235863.008  ...   \n",
       "...                                               ...          ...  ...   \n",
       "IR Diferido                                     45127         1315  ...   \n",
       "Participações/Contribuições Estatutárias          NaN          NaN  ...   \n",
       "Reversão dos Juros sobre Capital Próprio          NaN          NaN  ...   \n",
       "Part. de Acionistas Não Controladores           -1351        -2520  ...   \n",
       "Lucro/Prejuízo do Período                      -13277         7103  ...   \n",
       "\n",
       "0                                          31/03/2022  30/06/2022  \\\n",
       "AALR3                                                               \n",
       "Ativo Total                               2537389.056  2573832.96   \n",
       "Ativo Circulante                           456177.984  457827.008   \n",
       "Caixa e Equivalentes de Caixa                   81625      240190   \n",
       "Aplicações Financeiras                              0           0   \n",
       "Contas a Receber                           275668.992      133735   \n",
       "...                                               ...         ...   \n",
       "IR Diferido                                     14736       18174   \n",
       "Participações/Contribuições Estatutárias          NaN         NaN   \n",
       "Reversão dos Juros sobre Capital Próprio          NaN         NaN   \n",
       "Part. de Acionistas Não Controladores           -2025       -2386   \n",
       "Lucro/Prejuízo do Período                      -16547      -12495   \n",
       "\n",
       "0                                          30/09/2022   31/12/2022  \\\n",
       "AALR3                                                                \n",
       "Ativo Total                               2631220.992  2615453.952   \n",
       "Ativo Circulante                           508798.016       484284   \n",
       "Caixa e Equivalentes de Caixa              247828.992       218744   \n",
       "Aplicações Financeiras                              0            0   \n",
       "Contas a Receber                               171106   186219.008   \n",
       "...                                               ...          ...   \n",
       "IR Diferido                                      2793         2848   \n",
       "Participações/Contribuições Estatutárias          NaN          NaN   \n",
       "Reversão dos Juros sobre Capital Próprio          NaN          NaN   \n",
       "Part. de Acionistas Não Controladores           -2323        -1833   \n",
       "Lucro/Prejuízo do Período                      -75123      -123645   \n",
       "\n",
       "0                                         31/03/2023   30/06/2023  \\\n",
       "AALR3                                                               \n",
       "Ativo Total                               2571685.12  2520962.048   \n",
       "Ativo Circulante                              433144   386719.008   \n",
       "Caixa e Equivalentes de Caixa                 154614        95520   \n",
       "Aplicações Financeiras                             0            0   \n",
       "Contas a Receber                              189298   206091.008   \n",
       "...                                              ...          ...   \n",
       "IR Diferido                                        0        -2974   \n",
       "Participações/Contribuições Estatutárias         NaN          NaN   \n",
       "Reversão dos Juros sobre Capital Próprio         NaN          NaN   \n",
       "Part. de Acionistas Não Controladores          -2486        -1332   \n",
       "Lucro/Prejuízo do Período                     -36179       -51579   \n",
       "\n",
       "0                                          30/09/2023   31/12/2023  \\\n",
       "AALR3                                                                \n",
       "Ativo Total                               2748189.952  2669810.944   \n",
       "Ativo Circulante                           620451.968   524747.008   \n",
       "Caixa e Equivalentes de Caixa              294614.016   218595.008   \n",
       "Aplicações Financeiras                              0            0   \n",
       "Contas a Receber                               236254       202160   \n",
       "...                                               ...          ...   \n",
       "IR Diferido                                     -2820        12220   \n",
       "Participações/Contribuições Estatutárias          NaN          NaN   \n",
       "Reversão dos Juros sobre Capital Próprio          NaN          NaN   \n",
       "Part. de Acionistas Não Controladores           -2505        -2996   \n",
       "Lucro/Prejuízo do Período                      -51762       -88358   \n",
       "\n",
       "0                                          31/03/2024   30/06/2024  \n",
       "AALR3                                                               \n",
       "Ativo Total                               2573677.056  2692409.088  \n",
       "Ativo Circulante                           441300.992   563769.024  \n",
       "Caixa e Equivalentes de Caixa                   97788       254478  \n",
       "Aplicações Financeiras                              0            0  \n",
       "Contas a Receber                               234380       186158  \n",
       "...                                               ...          ...  \n",
       "IR Diferido                                      1198            0  \n",
       "Participações/Contribuições Estatutárias          NaN          NaN  \n",
       "Reversão dos Juros sobre Capital Próprio          NaN          NaN  \n",
       "Part. de Acionistas Não Controladores           -1900        -2725  \n",
       "Lucro/Prejuízo do Período                      -78744          433  \n",
       "\n",
       "[79 rows x 35 columns]"
      ]
     },
     "execution_count": 19,
     "metadata": {},
     "output_type": "execute_result"
    }
   ],
   "source": [
    "dicionario_de_balancos[\"AALR3\"]"
   ]
  },
  {
   "cell_type": "code",
   "execution_count": 20,
   "metadata": {},
   "outputs": [
    {
     "name": "stdout",
     "output_type": "stream",
     "text": [
      "LISTA DE EMPRESAS A SEREM REMOVIDAS:  ['ABYA3', 'ACES3', 'ACES4', 'ADHM3', 'AEDU11', 'AEDU3', 'AELP3', 'AFLU3', 'AFLU5', 'AGEI3', 'AGEN33', 'AGIN3', 'ALBA3', 'ALSC3', 'ALSO3', 'AMBV3', 'AMBV4', 'AMIL3', 'AMPI3', 'ARCE3', 'ARCZ3', 'ARCZ6', 'ARLA3', 'ARLA4', 'ARPS3', 'ARPS4', 'ARTE3', 'ARTE4', 'ARZZ3', 'ASSM3', 'ASSM4', 'ASTA4', 'AUTM3', 'AVIL3', 'BBRK3', 'BBSE3', 'BBTG11', 'BCAL6', 'BECE3', 'BECE4', 'BELG3', 'BELG4', 'BEMA3', 'BERG3', 'BESP3', 'BESP4', 'BFIT3', 'BFIT4', 'BHGR3', 'BICB3', 'BICB4', 'BIDI11', 'BIDI3', 'BIDI4', 'BISA3', 'BKBR3', 'BLUT3', 'BLUT4', 'BMEF3', 'BMTO3', 'BMTO4', 'BNCA3', 'BOVH3', 'BPAT33', 'BPHA3', 'BPIA3', 'BRDT3', 'BRTP3', 'BRTP4', 'BSCT3', 'BSCT5', 'BSCT6', 'BSEV3', 'BSGR3', 'BTTL3', 'BUET3', 'BUET4', 'CAFE3', 'CAFE4', 'CARD3', 'CCHI3', 'CCHI4', 'CCIM3', 'CCPR3', 'CCTU4', 'CCXC3', 'CELM3', 'CFLU4', 'CGOS3', 'CGOS4', 'CIQU3', 'CIQU4', 'CLAN3', 'CLAN4', 'CMET4', 'CMGI3', 'CMGI4', 'CMMA4', 'CNFB4', 'CPNY3', 'CPSL3', 'CRBM3', 'CRBM7', 'CRDE3', 'CREM3', 'CREM4', 'CRTP3', 'CRTP5', 'CRUZ3', 'CSPC3', 'CSPC4', 'CSTB3', 'CSTB4', 'CTIP3', 'CTPC3', 'CTPC4', 'CTWR3', 'CZLT33', 'CZRS3', 'CZRS4', 'DAGB33', 'DAYC3', 'DAYC4', 'DFVA3', 'DFVA4', 'DHBI3', 'DHBI4', 'DJON4', 'DMMO3', 'DOCA3', 'DOCA4', 'DPPI3', 'DPPI4', 'DSUL3', 'DUQE3', 'DUQE4', 'DURA3', 'DURA4', 'DXTG4', 'EBCO3', 'EBCO4', 'EBTP3', 'EBTP4', 'ECIS3', 'ECIS4', 'ECPR3', 'ECPR4', 'ELEK3', 'ELEK4', 'ELEV3', 'ELUM3', 'ELUM4', 'FBMC3', 'FBMC4', 'FBRA4', 'FCAP3', 'FCAP4', 'FFTL3', 'FFTL4', 'FGUI3', 'FGUI4', 'FIBR3', 'FTRX3', 'FTRX4', 'GAFP3', 'GAFP4', 'GALO3', 'GALO4', 'GAZO3', 'GAZO4', 'GBIO33', 'GETI3', 'GETI4', 'GETT3', 'GETT4', 'GNDI3', 'GRNL4', 'GVTT3', 'HGTX3', 'HGTX4', 'IDVL11', 'IDVL3', 'IDVL4', 'IENG3', 'IENG5', 'IGBR3', 'IGBR5', 'IGBR6', 'IGUA3', 'IGUA5', 'IGUA6', 'ILLS4', 'ILMD3', 'ILMD4', 'IMBI3', 'IMBI4', 'IMCH3', 'IRBR3', 'ITEC3', 'IVTT3', 'JBDU3', 'JBDU4', 'JFAB4', 'KSSA3', 'LAME3', 'LAME4', 'LATM11', 'LATS3', 'LCSA3', 'LCSA4', 'LECO3', 'LECO4', 'LETO3', 'LETO5', 'LFFE3', 'LFFE4', 'LGLO4', 'LINX3', 'LIXC3', 'LIXC4', 'LLIS3', 'MAGG3', 'MAGS3', 'MARI3', 'MEDI3', 'MILK33', 'MLPA12', 'MLPA3', 'MLPA4', 'MMXM3', 'MNSA3', 'MNSA4', 'MOSI3', 'MPLU3', 'MRSL3', 'MRSL4', 'MSAN3', 'MSAN4', 'MTIG3', 'MTIG4', 'NAFG3', 'NAFG4', 'NETC3', 'NETC4', 'OGXP3', 'PEFX3', 'PEFX5', 'PITI4', 'PLDN4', 'PLIM4', 'PLTO5', 'PLTO6', 'PMET3', 'PMET5', 'PMET6', 'PNOR5', 'PNOR6', 'POPR4', 'PORP4', 'POWE3', 'PQUN3', 'PQUN4', 'PRML3', 'PRTX3', 'PRVI3', 'PTIP3', 'PTIP4', 'PTPA3', 'PTPA4', 'PTQS4', 'RAIA3', 'RDCD3', 'RDTR3', 'REEM4', 'REPA3', 'REPA4', 'RGEG3', 'RHDS3', 'RHDS4', 'RIPI3', 'RIPI4', 'RJCP3', 'RLOG3', 'RNPT3', 'RNPT4', 'RPSA4', 'RSIP3', 'RSIP4', 'SALM3', 'SALM4', 'SDIA3', 'SDIA4', 'SEBB11', 'SEBB3', 'SEBB4', 'SEDU3', 'SEMP3', 'SFSA3', 'SFSA4', 'SGEN3', 'SGEN4', 'SGPS3', 'SMLE3', 'SMLS3', 'SPRI3', 'SPRI5', 'SPRI6', 'STRP4', 'SUBA3', 'SULA11', 'SULA3', 'SULA4', 'SZPQ4', 'TAMM3', 'TAMM4', 'TANC4', 'TARP11', 'TCNO3', 'TCNO4', 'TCOC3', 'TCOC4', 'TCSL4', 'TDBH3', 'TDBH4', 'TEFC11', 'TEMP3', 'TERI3', 'TESA3', 'TIET11', 'TIET3', 'TIET4', 'TIMP3', 'TLCP3', 'TLCP4', 'TMAR3', 'TMAR5', 'TMAR6', 'TMCP3', 'TMCP4', 'TMGC11', 'TMGC12', 'TMGC13', 'TMGC3', 'TMGC7', 'TNCP3', 'TNCP4', 'TNEP3', 'TNEP4', 'TNLP3', 'TNLP4', 'TOYB3', 'TOYB4', 'TPRC3', 'TPRC6', 'TRFO3', 'TRFO4', 'TROR3', 'TROR4', 'TRPN3', 'TSEP3', 'TSEP4', 'TSPP3', 'TSPP4', 'TVIT3', 'UBBR11', 'UBBR3', 'UBBR4', 'UCOP4', 'UOLL4', 'VAGV3', 'VAGV4', 'VCPA4', 'VGOR3', 'VGOR4', 'VIGR3', 'VIIA3', 'VINE3', 'VINE5', 'VIVO3', 'VIVO4', 'VPSC3', 'VPSC4', 'VPTA3', 'VPTA4', 'VTLM3', 'VVAX3', 'VVAX4', 'WHIRL3', 'WHIRL4', 'WISA3', 'WISA4', 'WIZS3', 'WMBY3', 'WSON33']\n",
      "\n",
      "TOTAL REMANESCENTE: 601\n"
     ]
    }
   ],
   "source": [
    "# Configurações\n",
    "data_referencia = \"01/01/2023\"\n",
    "data_referencia_aux = pd.to_datetime(data_referencia, format=\"%d/%m/%Y\")\n",
    "\n",
    "# Lista para armazenar empresas a serem removidas\n",
    "lista_para_remover = []\n",
    "\n",
    "# Filtra empresas com último balanço anterior à data de referência\n",
    "for papel, balanco in dicionario_de_balancos.items():\n",
    "    colunas = list(balanco.columns)\n",
    "    \n",
    "    try:\n",
    "        # Converte a última coluna para datetime, especificando o formato e dayfirst=True\n",
    "        ultima_data_aux = pd.to_datetime(colunas[-1], format=\"%d/%m/%Y\", dayfirst=True)\n",
    "        \n",
    "        if ultima_data_aux <= data_referencia_aux:\n",
    "            lista_para_remover.append(papel)\n",
    "    except Exception as e:\n",
    "        print(f\"Erro ao processar a data para {papel}: {e}\")\n",
    "\n",
    "# Exibe a lista de empresas que serão removidas\n",
    "print(\"LISTA DE EMPRESAS A SEREM REMOVIDAS: \", lista_para_remover)\n",
    "\n",
    "# Remove as empresas do dicionário\n",
    "for papel in lista_para_remover:\n",
    "    dicionario_de_balancos.pop(papel)\n",
    "\n",
    "# Exibe o total remanescente e a lista atualizada de empresas\n",
    "print(\"\\nTOTAL REMANESCENTE:\", len(dicionario_de_balancos.keys()))\n"
   ]
  },
  {
   "cell_type": "code",
   "execution_count": 32,
   "metadata": {},
   "outputs": [
    {
     "name": "stdout",
     "output_type": "stream",
     "text": [
      "Obtendo cotações para AALR3.SA...\n"
     ]
    },
    {
     "name": "stderr",
     "output_type": "stream",
     "text": [
      "[*********************100%%**********************]  1 of 1 completed\n"
     ]
    },
    {
     "name": "stdout",
     "output_type": "stream",
     "text": [
      "Obtendo cotações para ABCB4.SA...\n"
     ]
    },
    {
     "name": "stderr",
     "output_type": "stream",
     "text": [
      "[*********************100%%**********************]  1 of 1 completed\n"
     ]
    },
    {
     "name": "stdout",
     "output_type": "stream",
     "text": [
      "Obtendo cotações para ABEV3.SA...\n"
     ]
    },
    {
     "name": "stderr",
     "output_type": "stream",
     "text": [
      "[*********************100%%**********************]  1 of 1 completed\n"
     ]
    },
    {
     "name": "stdout",
     "output_type": "stream",
     "text": [
      "Obtendo cotações para AERI3.SA...\n"
     ]
    },
    {
     "name": "stderr",
     "output_type": "stream",
     "text": [
      "[*********************100%%**********************]  1 of 1 completed\n"
     ]
    },
    {
     "name": "stdout",
     "output_type": "stream",
     "text": [
      "Obtendo cotações para AESB3.SA...\n"
     ]
    },
    {
     "name": "stderr",
     "output_type": "stream",
     "text": [
      "[*********************100%%**********************]  1 of 1 completed\n"
     ]
    },
    {
     "name": "stdout",
     "output_type": "stream",
     "text": [
      "Obtendo cotações para AFLT3.SA...\n"
     ]
    },
    {
     "name": "stderr",
     "output_type": "stream",
     "text": [
      "[*********************100%%**********************]  1 of 1 completed\n"
     ]
    },
    {
     "name": "stdout",
     "output_type": "stream",
     "text": [
      "Obtendo cotações para AGRO3.SA...\n"
     ]
    },
    {
     "name": "stderr",
     "output_type": "stream",
     "text": [
      "[*********************100%%**********************]  1 of 1 completed\n"
     ]
    },
    {
     "name": "stdout",
     "output_type": "stream",
     "text": [
      "Obtendo cotações para AGXY3.SA...\n"
     ]
    },
    {
     "name": "stderr",
     "output_type": "stream",
     "text": [
      "[*********************100%%**********************]  1 of 1 completed\n"
     ]
    },
    {
     "name": "stdout",
     "output_type": "stream",
     "text": [
      "Obtendo cotações para AHEB3.SA...\n"
     ]
    },
    {
     "name": "stderr",
     "output_type": "stream",
     "text": [
      "[*********************100%%**********************]  1 of 1 completed\n"
     ]
    },
    {
     "name": "stdout",
     "output_type": "stream",
     "text": [
      "Obtendo cotações para AHEB5.SA...\n"
     ]
    },
    {
     "name": "stderr",
     "output_type": "stream",
     "text": [
      "[*********************100%%**********************]  1 of 1 completed\n"
     ]
    },
    {
     "name": "stdout",
     "output_type": "stream",
     "text": [
      "Obtendo cotações para AHEB6.SA...\n"
     ]
    },
    {
     "name": "stderr",
     "output_type": "stream",
     "text": [
      "[*********************100%%**********************]  1 of 1 completed\n"
     ]
    },
    {
     "name": "stdout",
     "output_type": "stream",
     "text": [
      "Obtendo cotações para ALLD3.SA...\n"
     ]
    },
    {
     "name": "stderr",
     "output_type": "stream",
     "text": [
      "[*********************100%%**********************]  1 of 1 completed\n"
     ]
    },
    {
     "name": "stdout",
     "output_type": "stream",
     "text": [
      "Obtendo cotações para ALOS3.SA...\n"
     ]
    },
    {
     "name": "stderr",
     "output_type": "stream",
     "text": [
      "[*********************100%%**********************]  1 of 1 completed\n"
     ]
    },
    {
     "name": "stdout",
     "output_type": "stream",
     "text": [
      "Obtendo cotações para ALPA3.SA...\n"
     ]
    },
    {
     "name": "stderr",
     "output_type": "stream",
     "text": [
      "[*********************100%%**********************]  1 of 1 completed\n"
     ]
    },
    {
     "name": "stdout",
     "output_type": "stream",
     "text": [
      "Obtendo cotações para ALPA4.SA...\n"
     ]
    },
    {
     "name": "stderr",
     "output_type": "stream",
     "text": [
      "[*********************100%%**********************]  1 of 1 completed\n"
     ]
    },
    {
     "name": "stdout",
     "output_type": "stream",
     "text": [
      "Obtendo cotações para ALPK3.SA...\n"
     ]
    },
    {
     "name": "stderr",
     "output_type": "stream",
     "text": [
      "[*********************100%%**********************]  1 of 1 completed\n"
     ]
    },
    {
     "name": "stdout",
     "output_type": "stream",
     "text": [
      "Obtendo cotações para ALUP11.SA...\n"
     ]
    },
    {
     "name": "stderr",
     "output_type": "stream",
     "text": [
      "[*********************100%%**********************]  1 of 1 completed\n"
     ]
    },
    {
     "name": "stdout",
     "output_type": "stream",
     "text": [
      "Obtendo cotações para ALUP3.SA...\n"
     ]
    },
    {
     "name": "stderr",
     "output_type": "stream",
     "text": [
      "[*********************100%%**********************]  1 of 1 completed\n"
     ]
    },
    {
     "name": "stdout",
     "output_type": "stream",
     "text": [
      "Obtendo cotações para ALUP4.SA...\n"
     ]
    },
    {
     "name": "stderr",
     "output_type": "stream",
     "text": [
      "[*********************100%%**********************]  1 of 1 completed\n"
     ]
    },
    {
     "name": "stdout",
     "output_type": "stream",
     "text": [
      "Obtendo cotações para AMAR3.SA...\n"
     ]
    },
    {
     "name": "stderr",
     "output_type": "stream",
     "text": [
      "[*********************100%%**********************]  1 of 1 completed\n"
     ]
    },
    {
     "name": "stdout",
     "output_type": "stream",
     "text": [
      "Obtendo cotações para AMBP3.SA...\n"
     ]
    },
    {
     "name": "stderr",
     "output_type": "stream",
     "text": [
      "[*********************100%%**********************]  1 of 1 completed\n"
     ]
    },
    {
     "name": "stdout",
     "output_type": "stream",
     "text": [
      "Obtendo cotações para AMER3.SA...\n"
     ]
    },
    {
     "name": "stderr",
     "output_type": "stream",
     "text": [
      "[*********************100%%**********************]  1 of 1 completed\n"
     ]
    },
    {
     "name": "stdout",
     "output_type": "stream",
     "text": [
      "Obtendo cotações para ANIM3.SA...\n"
     ]
    },
    {
     "name": "stderr",
     "output_type": "stream",
     "text": [
      "[*********************100%%**********************]  1 of 1 completed\n"
     ]
    },
    {
     "name": "stdout",
     "output_type": "stream",
     "text": [
      "Obtendo cotações para APER3.SA...\n"
     ]
    },
    {
     "name": "stderr",
     "output_type": "stream",
     "text": [
      "[*********************100%%**********************]  1 of 1 completed\n"
     ]
    },
    {
     "name": "stdout",
     "output_type": "stream",
     "text": [
      "Obtendo cotações para APTI4.SA...\n"
     ]
    },
    {
     "name": "stderr",
     "output_type": "stream",
     "text": [
      "[*********************100%%**********************]  1 of 1 completed\n"
     ]
    },
    {
     "name": "stdout",
     "output_type": "stream",
     "text": [
      "Obtendo cotações para ARML3.SA...\n"
     ]
    },
    {
     "name": "stderr",
     "output_type": "stream",
     "text": [
      "[*********************100%%**********************]  1 of 1 completed\n"
     ]
    },
    {
     "name": "stdout",
     "output_type": "stream",
     "text": [
      "Obtendo cotações para ASAI3.SA...\n"
     ]
    },
    {
     "name": "stderr",
     "output_type": "stream",
     "text": [
      "[*********************100%%**********************]  1 of 1 completed\n"
     ]
    },
    {
     "name": "stdout",
     "output_type": "stream",
     "text": [
      "Obtendo cotações para ATMP3.SA...\n"
     ]
    },
    {
     "name": "stderr",
     "output_type": "stream",
     "text": [
      "[*********************100%%**********************]  1 of 1 completed\n"
     ]
    },
    {
     "name": "stdout",
     "output_type": "stream",
     "text": [
      "Obtendo cotações para ATOM3.SA...\n"
     ]
    },
    {
     "name": "stderr",
     "output_type": "stream",
     "text": [
      "[*********************100%%**********************]  1 of 1 completed\n"
     ]
    },
    {
     "name": "stdout",
     "output_type": "stream",
     "text": [
      "Obtendo cotações para AURA33.SA...\n"
     ]
    },
    {
     "name": "stderr",
     "output_type": "stream",
     "text": [
      "[*********************100%%**********************]  1 of 1 completed\n"
     ]
    },
    {
     "name": "stdout",
     "output_type": "stream",
     "text": [
      "Obtendo cotações para AURE3.SA...\n"
     ]
    },
    {
     "name": "stderr",
     "output_type": "stream",
     "text": [
      "[*********************100%%**********************]  1 of 1 completed\n"
     ]
    },
    {
     "name": "stdout",
     "output_type": "stream",
     "text": [
      "Obtendo cotações para AVLL3.SA...\n"
     ]
    },
    {
     "name": "stderr",
     "output_type": "stream",
     "text": [
      "[*********************100%%**********************]  1 of 1 completed\n"
     ]
    },
    {
     "name": "stdout",
     "output_type": "stream",
     "text": [
      "Obtendo cotações para AZEV3.SA...\n"
     ]
    },
    {
     "name": "stderr",
     "output_type": "stream",
     "text": [
      "[*********************100%%**********************]  1 of 1 completed\n"
     ]
    },
    {
     "name": "stdout",
     "output_type": "stream",
     "text": [
      "Obtendo cotações para AZEV4.SA...\n"
     ]
    },
    {
     "name": "stderr",
     "output_type": "stream",
     "text": [
      "[*********************100%%**********************]  1 of 1 completed\n"
     ]
    },
    {
     "name": "stdout",
     "output_type": "stream",
     "text": [
      "Obtendo cotações para AZUL4.SA...\n"
     ]
    },
    {
     "name": "stderr",
     "output_type": "stream",
     "text": [
      "[*********************100%%**********************]  1 of 1 completed\n"
     ]
    },
    {
     "name": "stdout",
     "output_type": "stream",
     "text": [
      "Obtendo cotações para AZZA3.SA...\n"
     ]
    },
    {
     "name": "stderr",
     "output_type": "stream",
     "text": [
      "[*********************100%%**********************]  1 of 1 completed\n"
     ]
    },
    {
     "name": "stdout",
     "output_type": "stream",
     "text": [
      "Obtendo cotações para B3SA3.SA...\n"
     ]
    },
    {
     "name": "stderr",
     "output_type": "stream",
     "text": [
      "[*********************100%%**********************]  1 of 1 completed\n"
     ]
    },
    {
     "name": "stdout",
     "output_type": "stream",
     "text": [
      "Obtendo cotações para BAHI3.SA...\n"
     ]
    },
    {
     "name": "stderr",
     "output_type": "stream",
     "text": [
      "[*********************100%%**********************]  1 of 1 completed\n"
     ]
    },
    {
     "name": "stdout",
     "output_type": "stream",
     "text": [
      "Obtendo cotações para BALM3.SA...\n"
     ]
    },
    {
     "name": "stderr",
     "output_type": "stream",
     "text": [
      "[*********************100%%**********************]  1 of 1 completed\n"
     ]
    },
    {
     "name": "stdout",
     "output_type": "stream",
     "text": [
      "Obtendo cotações para BALM4.SA...\n"
     ]
    },
    {
     "name": "stderr",
     "output_type": "stream",
     "text": [
      "[*********************100%%**********************]  1 of 1 completed\n"
     ]
    },
    {
     "name": "stdout",
     "output_type": "stream",
     "text": [
      "Obtendo cotações para BAUH4.SA...\n"
     ]
    },
    {
     "name": "stderr",
     "output_type": "stream",
     "text": [
      "[*********************100%%**********************]  1 of 1 completed\n"
     ]
    },
    {
     "name": "stdout",
     "output_type": "stream",
     "text": [
      "Obtendo cotações para BAZA3.SA...\n"
     ]
    },
    {
     "name": "stderr",
     "output_type": "stream",
     "text": [
      "[*********************100%%**********************]  1 of 1 completed\n"
     ]
    },
    {
     "name": "stdout",
     "output_type": "stream",
     "text": [
      "Obtendo cotações para BBAS3.SA...\n"
     ]
    },
    {
     "name": "stderr",
     "output_type": "stream",
     "text": [
      "[*********************100%%**********************]  1 of 1 completed\n"
     ]
    },
    {
     "name": "stdout",
     "output_type": "stream",
     "text": [
      "Obtendo cotações para BBDC3.SA...\n"
     ]
    },
    {
     "name": "stderr",
     "output_type": "stream",
     "text": [
      "[*********************100%%**********************]  1 of 1 completed\n"
     ]
    },
    {
     "name": "stdout",
     "output_type": "stream",
     "text": [
      "Obtendo cotações para BBDC4.SA...\n"
     ]
    },
    {
     "name": "stderr",
     "output_type": "stream",
     "text": [
      "[*********************100%%**********************]  1 of 1 completed\n"
     ]
    },
    {
     "name": "stdout",
     "output_type": "stream",
     "text": [
      "Obtendo cotações para BDLL3.SA...\n"
     ]
    },
    {
     "name": "stderr",
     "output_type": "stream",
     "text": [
      "[*********************100%%**********************]  1 of 1 completed\n"
     ]
    },
    {
     "name": "stdout",
     "output_type": "stream",
     "text": [
      "Obtendo cotações para BDLL4.SA...\n"
     ]
    },
    {
     "name": "stderr",
     "output_type": "stream",
     "text": [
      "[*********************100%%**********************]  1 of 1 completed\n"
     ]
    },
    {
     "name": "stdout",
     "output_type": "stream",
     "text": [
      "Obtendo cotações para BEEF3.SA...\n"
     ]
    },
    {
     "name": "stderr",
     "output_type": "stream",
     "text": [
      "[*********************100%%**********************]  1 of 1 completed\n"
     ]
    },
    {
     "name": "stdout",
     "output_type": "stream",
     "text": [
      "Obtendo cotações para BEES3.SA...\n"
     ]
    },
    {
     "name": "stderr",
     "output_type": "stream",
     "text": [
      "[*********************100%%**********************]  1 of 1 completed\n"
     ]
    },
    {
     "name": "stdout",
     "output_type": "stream",
     "text": [
      "Obtendo cotações para BEES4.SA...\n"
     ]
    },
    {
     "name": "stderr",
     "output_type": "stream",
     "text": [
      "[*********************100%%**********************]  1 of 1 completed\n"
     ]
    },
    {
     "name": "stdout",
     "output_type": "stream",
     "text": [
      "Obtendo cotações para BGIP3.SA...\n"
     ]
    },
    {
     "name": "stderr",
     "output_type": "stream",
     "text": [
      "[*********************100%%**********************]  1 of 1 completed\n"
     ]
    },
    {
     "name": "stdout",
     "output_type": "stream",
     "text": [
      "Obtendo cotações para BGIP4.SA...\n"
     ]
    },
    {
     "name": "stderr",
     "output_type": "stream",
     "text": [
      "[*********************100%%**********************]  1 of 1 completed\n"
     ]
    },
    {
     "name": "stdout",
     "output_type": "stream",
     "text": [
      "Obtendo cotações para BHIA3.SA...\n"
     ]
    },
    {
     "name": "stderr",
     "output_type": "stream",
     "text": [
      "[*********************100%%**********************]  1 of 1 completed\n"
     ]
    },
    {
     "name": "stdout",
     "output_type": "stream",
     "text": [
      "Obtendo cotações para BIOM3.SA...\n"
     ]
    },
    {
     "name": "stderr",
     "output_type": "stream",
     "text": [
      "[*********************100%%**********************]  1 of 1 completed\n"
     ]
    },
    {
     "name": "stdout",
     "output_type": "stream",
     "text": [
      "Obtendo cotações para BLAU3.SA...\n"
     ]
    },
    {
     "name": "stderr",
     "output_type": "stream",
     "text": [
      "[*********************100%%**********************]  1 of 1 completed\n"
     ]
    },
    {
     "name": "stdout",
     "output_type": "stream",
     "text": [
      "Obtendo cotações para BMEB3.SA...\n"
     ]
    },
    {
     "name": "stderr",
     "output_type": "stream",
     "text": [
      "[*********************100%%**********************]  1 of 1 completed\n"
     ]
    },
    {
     "name": "stdout",
     "output_type": "stream",
     "text": [
      "Obtendo cotações para BMEB4.SA...\n"
     ]
    },
    {
     "name": "stderr",
     "output_type": "stream",
     "text": [
      "[*********************100%%**********************]  1 of 1 completed\n"
     ]
    },
    {
     "name": "stdout",
     "output_type": "stream",
     "text": [
      "Obtendo cotações para BMGB4.SA...\n"
     ]
    },
    {
     "name": "stderr",
     "output_type": "stream",
     "text": [
      "[*********************100%%**********************]  1 of 1 completed\n"
     ]
    },
    {
     "name": "stdout",
     "output_type": "stream",
     "text": [
      "Obtendo cotações para BMIN3.SA...\n"
     ]
    },
    {
     "name": "stderr",
     "output_type": "stream",
     "text": [
      "[*********************100%%**********************]  1 of 1 completed\n"
     ]
    },
    {
     "name": "stdout",
     "output_type": "stream",
     "text": [
      "Obtendo cotações para BMIN4.SA...\n"
     ]
    },
    {
     "name": "stderr",
     "output_type": "stream",
     "text": [
      "[*********************100%%**********************]  1 of 1 completed\n"
     ]
    },
    {
     "name": "stdout",
     "output_type": "stream",
     "text": [
      "Obtendo cotações para BMKS3.SA...\n"
     ]
    },
    {
     "name": "stderr",
     "output_type": "stream",
     "text": [
      "[*********************100%%**********************]  1 of 1 completed\n"
     ]
    },
    {
     "name": "stdout",
     "output_type": "stream",
     "text": [
      "Obtendo cotações para BMOB3.SA...\n"
     ]
    },
    {
     "name": "stderr",
     "output_type": "stream",
     "text": [
      "[*********************100%%**********************]  1 of 1 completed\n"
     ]
    },
    {
     "name": "stdout",
     "output_type": "stream",
     "text": [
      "Obtendo cotações para BNBR3.SA...\n"
     ]
    },
    {
     "name": "stderr",
     "output_type": "stream",
     "text": [
      "[*********************100%%**********************]  1 of 1 completed\n"
     ]
    },
    {
     "name": "stdout",
     "output_type": "stream",
     "text": [
      "Obtendo cotações para BOBR3.SA...\n"
     ]
    },
    {
     "name": "stderr",
     "output_type": "stream",
     "text": [
      "[*********************100%%**********************]  1 of 1 completed\n"
     ]
    },
    {
     "name": "stdout",
     "output_type": "stream",
     "text": [
      "Obtendo cotações para BOBR4.SA...\n"
     ]
    },
    {
     "name": "stderr",
     "output_type": "stream",
     "text": [
      "[*********************100%%**********************]  1 of 1 completed\n"
     ]
    },
    {
     "name": "stdout",
     "output_type": "stream",
     "text": [
      "Obtendo cotações para BPAC11.SA...\n"
     ]
    },
    {
     "name": "stderr",
     "output_type": "stream",
     "text": [
      "[*********************100%%**********************]  1 of 1 completed\n"
     ]
    },
    {
     "name": "stdout",
     "output_type": "stream",
     "text": [
      "Obtendo cotações para BPAC3.SA...\n"
     ]
    },
    {
     "name": "stderr",
     "output_type": "stream",
     "text": [
      "[*********************100%%**********************]  1 of 1 completed\n"
     ]
    },
    {
     "name": "stdout",
     "output_type": "stream",
     "text": [
      "Obtendo cotações para BPAC5.SA...\n"
     ]
    },
    {
     "name": "stderr",
     "output_type": "stream",
     "text": [
      "[*********************100%%**********************]  1 of 1 completed\n"
     ]
    },
    {
     "name": "stdout",
     "output_type": "stream",
     "text": [
      "Obtendo cotações para BPAN4.SA...\n"
     ]
    },
    {
     "name": "stderr",
     "output_type": "stream",
     "text": [
      "[*********************100%%**********************]  1 of 1 completed\n"
     ]
    },
    {
     "name": "stdout",
     "output_type": "stream",
     "text": [
      "Obtendo cotações para BPAR3.SA...\n"
     ]
    },
    {
     "name": "stderr",
     "output_type": "stream",
     "text": [
      "[*********************100%%**********************]  1 of 1 completed\n"
     ]
    },
    {
     "name": "stdout",
     "output_type": "stream",
     "text": [
      "Obtendo cotações para BRAP3.SA...\n"
     ]
    },
    {
     "name": "stderr",
     "output_type": "stream",
     "text": [
      "[*********************100%%**********************]  1 of 1 completed\n"
     ]
    },
    {
     "name": "stdout",
     "output_type": "stream",
     "text": [
      "Obtendo cotações para BRAP4.SA...\n"
     ]
    },
    {
     "name": "stderr",
     "output_type": "stream",
     "text": [
      "[*********************100%%**********************]  1 of 1 completed\n"
     ]
    },
    {
     "name": "stdout",
     "output_type": "stream",
     "text": [
      "Obtendo cotações para BRBI11.SA...\n"
     ]
    },
    {
     "name": "stderr",
     "output_type": "stream",
     "text": [
      "[*********************100%%**********************]  1 of 1 completed\n"
     ]
    },
    {
     "name": "stdout",
     "output_type": "stream",
     "text": [
      "Obtendo cotações para BRFS3.SA...\n"
     ]
    },
    {
     "name": "stderr",
     "output_type": "stream",
     "text": [
      "[*********************100%%**********************]  1 of 1 completed\n"
     ]
    },
    {
     "name": "stdout",
     "output_type": "stream",
     "text": [
      "Obtendo cotações para BRGE11.SA...\n"
     ]
    },
    {
     "name": "stderr",
     "output_type": "stream",
     "text": [
      "[*********************100%%**********************]  1 of 1 completed\n"
     ]
    },
    {
     "name": "stdout",
     "output_type": "stream",
     "text": [
      "Obtendo cotações para BRGE12.SA...\n"
     ]
    },
    {
     "name": "stderr",
     "output_type": "stream",
     "text": [
      "[*********************100%%**********************]  1 of 1 completed\n"
     ]
    },
    {
     "name": "stdout",
     "output_type": "stream",
     "text": [
      "Obtendo cotações para BRGE3.SA...\n"
     ]
    },
    {
     "name": "stderr",
     "output_type": "stream",
     "text": [
      "[*********************100%%**********************]  1 of 1 completed\n"
     ]
    },
    {
     "name": "stdout",
     "output_type": "stream",
     "text": [
      "Obtendo cotações para BRGE5.SA...\n"
     ]
    },
    {
     "name": "stderr",
     "output_type": "stream",
     "text": [
      "[*********************100%%**********************]  1 of 1 completed\n"
     ]
    },
    {
     "name": "stdout",
     "output_type": "stream",
     "text": [
      "Obtendo cotações para BRGE6.SA...\n"
     ]
    },
    {
     "name": "stderr",
     "output_type": "stream",
     "text": [
      "[*********************100%%**********************]  1 of 1 completed\n"
     ]
    },
    {
     "name": "stdout",
     "output_type": "stream",
     "text": [
      "Obtendo cotações para BRGE7.SA...\n"
     ]
    },
    {
     "name": "stderr",
     "output_type": "stream",
     "text": [
      "[*********************100%%**********************]  1 of 1 completed\n"
     ]
    },
    {
     "name": "stdout",
     "output_type": "stream",
     "text": [
      "Obtendo cotações para BRGE8.SA...\n"
     ]
    },
    {
     "name": "stderr",
     "output_type": "stream",
     "text": [
      "[*********************100%%**********************]  1 of 1 completed\n"
     ]
    },
    {
     "name": "stdout",
     "output_type": "stream",
     "text": [
      "Obtendo cotações para BRIT3.SA...\n"
     ]
    },
    {
     "name": "stderr",
     "output_type": "stream",
     "text": [
      "[*********************100%%**********************]  1 of 1 completed\n"
     ]
    },
    {
     "name": "stdout",
     "output_type": "stream",
     "text": [
      "Obtendo cotações para BRIV3.SA...\n"
     ]
    },
    {
     "name": "stderr",
     "output_type": "stream",
     "text": [
      "[*********************100%%**********************]  1 of 1 completed\n"
     ]
    },
    {
     "name": "stdout",
     "output_type": "stream",
     "text": [
      "Obtendo cotações para BRIV4.SA...\n"
     ]
    },
    {
     "name": "stderr",
     "output_type": "stream",
     "text": [
      "[*********************100%%**********************]  1 of 1 completed\n"
     ]
    },
    {
     "name": "stdout",
     "output_type": "stream",
     "text": [
      "Obtendo cotações para BRKM3.SA...\n"
     ]
    },
    {
     "name": "stderr",
     "output_type": "stream",
     "text": [
      "[*********************100%%**********************]  1 of 1 completed\n"
     ]
    },
    {
     "name": "stdout",
     "output_type": "stream",
     "text": [
      "Obtendo cotações para BRKM5.SA...\n"
     ]
    },
    {
     "name": "stderr",
     "output_type": "stream",
     "text": [
      "[*********************100%%**********************]  1 of 1 completed\n"
     ]
    },
    {
     "name": "stdout",
     "output_type": "stream",
     "text": [
      "Obtendo cotações para BRKM6.SA...\n"
     ]
    },
    {
     "name": "stderr",
     "output_type": "stream",
     "text": [
      "[*********************100%%**********************]  1 of 1 completed\n"
     ]
    },
    {
     "name": "stdout",
     "output_type": "stream",
     "text": [
      "Obtendo cotações para BRPR3.SA...\n"
     ]
    },
    {
     "name": "stderr",
     "output_type": "stream",
     "text": [
      "[*********************100%%**********************]  1 of 1 completed\n"
     ]
    },
    {
     "name": "stdout",
     "output_type": "stream",
     "text": [
      "Obtendo cotações para BRSR3.SA...\n"
     ]
    },
    {
     "name": "stderr",
     "output_type": "stream",
     "text": [
      "[*********************100%%**********************]  1 of 1 completed\n"
     ]
    },
    {
     "name": "stdout",
     "output_type": "stream",
     "text": [
      "Obtendo cotações para BRSR5.SA...\n"
     ]
    },
    {
     "name": "stderr",
     "output_type": "stream",
     "text": [
      "[*********************100%%**********************]  1 of 1 completed\n"
     ]
    },
    {
     "name": "stdout",
     "output_type": "stream",
     "text": [
      "Obtendo cotações para BRSR6.SA...\n"
     ]
    },
    {
     "name": "stderr",
     "output_type": "stream",
     "text": [
      "[*********************100%%**********************]  1 of 1 completed\n"
     ]
    },
    {
     "name": "stdout",
     "output_type": "stream",
     "text": [
      "Obtendo cotações para BSLI3.SA...\n"
     ]
    },
    {
     "name": "stderr",
     "output_type": "stream",
     "text": [
      "[*********************100%%**********************]  1 of 1 completed\n"
     ]
    },
    {
     "name": "stdout",
     "output_type": "stream",
     "text": [
      "Obtendo cotações para BSLI4.SA...\n"
     ]
    },
    {
     "name": "stderr",
     "output_type": "stream",
     "text": [
      "[*********************100%%**********************]  1 of 1 completed\n"
     ]
    },
    {
     "name": "stdout",
     "output_type": "stream",
     "text": [
      "Obtendo cotações para CALI3.SA...\n"
     ]
    },
    {
     "name": "stderr",
     "output_type": "stream",
     "text": [
      "[*********************100%%**********************]  1 of 1 completed\n"
     ]
    },
    {
     "name": "stdout",
     "output_type": "stream",
     "text": [
      "Obtendo cotações para CAMB3.SA...\n"
     ]
    },
    {
     "name": "stderr",
     "output_type": "stream",
     "text": [
      "[*********************100%%**********************]  1 of 1 completed\n"
     ]
    },
    {
     "name": "stdout",
     "output_type": "stream",
     "text": [
      "Obtendo cotações para CAML3.SA...\n"
     ]
    },
    {
     "name": "stderr",
     "output_type": "stream",
     "text": [
      "[*********************100%%**********************]  1 of 1 completed\n"
     ]
    },
    {
     "name": "stdout",
     "output_type": "stream",
     "text": [
      "Obtendo cotações para CASH3.SA...\n"
     ]
    },
    {
     "name": "stderr",
     "output_type": "stream",
     "text": [
      "[*********************100%%**********************]  1 of 1 completed\n"
     ]
    },
    {
     "name": "stdout",
     "output_type": "stream",
     "text": [
      "Obtendo cotações para CASN3.SA...\n"
     ]
    },
    {
     "name": "stderr",
     "output_type": "stream",
     "text": [
      "[*********************100%%**********************]  1 of 1 completed\n"
     ]
    },
    {
     "name": "stdout",
     "output_type": "stream",
     "text": [
      "Obtendo cotações para CBAV3.SA...\n"
     ]
    },
    {
     "name": "stderr",
     "output_type": "stream",
     "text": [
      "[*********************100%%**********************]  1 of 1 completed\n"
     ]
    },
    {
     "name": "stdout",
     "output_type": "stream",
     "text": [
      "Obtendo cotações para CBEE3.SA...\n"
     ]
    },
    {
     "name": "stderr",
     "output_type": "stream",
     "text": [
      "[*********************100%%**********************]  1 of 1 completed\n"
     ]
    },
    {
     "name": "stdout",
     "output_type": "stream",
     "text": [
      "Obtendo cotações para CBMA3.SA...\n"
     ]
    },
    {
     "name": "stderr",
     "output_type": "stream",
     "text": [
      "[*********************100%%**********************]  1 of 1 completed\n"
     ]
    },
    {
     "name": "stdout",
     "output_type": "stream",
     "text": [
      "Obtendo cotações para CBMA4.SA...\n"
     ]
    },
    {
     "name": "stderr",
     "output_type": "stream",
     "text": [
      "[*********************100%%**********************]  1 of 1 completed\n"
     ]
    },
    {
     "name": "stdout",
     "output_type": "stream",
     "text": [
      "Obtendo cotações para CCRO3.SA...\n"
     ]
    },
    {
     "name": "stderr",
     "output_type": "stream",
     "text": [
      "[*********************100%%**********************]  1 of 1 completed\n"
     ]
    },
    {
     "name": "stdout",
     "output_type": "stream",
     "text": [
      "Obtendo cotações para CEAB3.SA...\n"
     ]
    },
    {
     "name": "stderr",
     "output_type": "stream",
     "text": [
      "[*********************100%%**********************]  1 of 1 completed\n"
     ]
    },
    {
     "name": "stdout",
     "output_type": "stream",
     "text": [
      "Obtendo cotações para CEBR3.SA...\n"
     ]
    },
    {
     "name": "stderr",
     "output_type": "stream",
     "text": [
      "[*********************100%%**********************]  1 of 1 completed\n"
     ]
    },
    {
     "name": "stdout",
     "output_type": "stream",
     "text": [
      "Obtendo cotações para CEBR5.SA...\n"
     ]
    },
    {
     "name": "stderr",
     "output_type": "stream",
     "text": [
      "[*********************100%%**********************]  1 of 1 completed\n"
     ]
    },
    {
     "name": "stdout",
     "output_type": "stream",
     "text": [
      "Obtendo cotações para CEBR6.SA...\n"
     ]
    },
    {
     "name": "stderr",
     "output_type": "stream",
     "text": [
      "[*********************100%%**********************]  1 of 1 completed\n"
     ]
    },
    {
     "name": "stdout",
     "output_type": "stream",
     "text": [
      "Obtendo cotações para CEDO3.SA...\n"
     ]
    },
    {
     "name": "stderr",
     "output_type": "stream",
     "text": [
      "[*********************100%%**********************]  1 of 1 completed\n"
     ]
    },
    {
     "name": "stdout",
     "output_type": "stream",
     "text": [
      "Obtendo cotações para CEDO4.SA...\n"
     ]
    },
    {
     "name": "stderr",
     "output_type": "stream",
     "text": [
      "[*********************100%%**********************]  1 of 1 completed\n"
     ]
    },
    {
     "name": "stdout",
     "output_type": "stream",
     "text": [
      "Obtendo cotações para CEEB3.SA...\n"
     ]
    },
    {
     "name": "stderr",
     "output_type": "stream",
     "text": [
      "[*********************100%%**********************]  1 of 1 completed\n"
     ]
    },
    {
     "name": "stdout",
     "output_type": "stream",
     "text": [
      "Obtendo cotações para CEEB5.SA...\n"
     ]
    },
    {
     "name": "stderr",
     "output_type": "stream",
     "text": [
      "[*********************100%%**********************]  1 of 1 completed\n"
     ]
    },
    {
     "name": "stdout",
     "output_type": "stream",
     "text": [
      "Obtendo cotações para CEED3.SA...\n"
     ]
    },
    {
     "name": "stderr",
     "output_type": "stream",
     "text": [
      "[*********************100%%**********************]  1 of 1 completed\n"
     ]
    },
    {
     "name": "stdout",
     "output_type": "stream",
     "text": [
      "Obtendo cotações para CEED4.SA...\n"
     ]
    },
    {
     "name": "stderr",
     "output_type": "stream",
     "text": [
      "[*********************100%%**********************]  1 of 1 completed\n"
     ]
    },
    {
     "name": "stdout",
     "output_type": "stream",
     "text": [
      "Obtendo cotações para CEGR3.SA...\n"
     ]
    },
    {
     "name": "stderr",
     "output_type": "stream",
     "text": [
      "[*********************100%%**********************]  1 of 1 completed\n"
     ]
    },
    {
     "name": "stdout",
     "output_type": "stream",
     "text": [
      "Obtendo cotações para CGAS3.SA...\n"
     ]
    },
    {
     "name": "stderr",
     "output_type": "stream",
     "text": [
      "[*********************100%%**********************]  1 of 1 completed\n"
     ]
    },
    {
     "name": "stdout",
     "output_type": "stream",
     "text": [
      "Obtendo cotações para CGAS5.SA...\n"
     ]
    },
    {
     "name": "stderr",
     "output_type": "stream",
     "text": [
      "[*********************100%%**********************]  1 of 1 completed\n"
     ]
    },
    {
     "name": "stdout",
     "output_type": "stream",
     "text": [
      "Obtendo cotações para CGRA3.SA...\n"
     ]
    },
    {
     "name": "stderr",
     "output_type": "stream",
     "text": [
      "[*********************100%%**********************]  1 of 1 completed\n"
     ]
    },
    {
     "name": "stdout",
     "output_type": "stream",
     "text": [
      "Obtendo cotações para CGRA4.SA...\n"
     ]
    },
    {
     "name": "stderr",
     "output_type": "stream",
     "text": [
      "[*********************100%%**********************]  1 of 1 completed\n"
     ]
    },
    {
     "name": "stdout",
     "output_type": "stream",
     "text": [
      "Obtendo cotações para CIEL3.SA...\n"
     ]
    },
    {
     "name": "stderr",
     "output_type": "stream",
     "text": [
      "[*********************100%%**********************]  1 of 1 completed\n"
     ]
    },
    {
     "name": "stdout",
     "output_type": "stream",
     "text": [
      "Obtendo cotações para CLSA3.SA...\n"
     ]
    },
    {
     "name": "stderr",
     "output_type": "stream",
     "text": [
      "[*********************100%%**********************]  1 of 1 completed\n"
     ]
    },
    {
     "name": "stdout",
     "output_type": "stream",
     "text": [
      "Obtendo cotações para CLSC3.SA...\n"
     ]
    },
    {
     "name": "stderr",
     "output_type": "stream",
     "text": [
      "[*********************100%%**********************]  1 of 1 completed\n"
     ]
    },
    {
     "name": "stdout",
     "output_type": "stream",
     "text": [
      "Obtendo cotações para CLSC4.SA...\n"
     ]
    },
    {
     "name": "stderr",
     "output_type": "stream",
     "text": [
      "[*********************100%%**********************]  1 of 1 completed\n"
     ]
    },
    {
     "name": "stdout",
     "output_type": "stream",
     "text": [
      "Obtendo cotações para CMIG3.SA...\n"
     ]
    },
    {
     "name": "stderr",
     "output_type": "stream",
     "text": [
      "[*********************100%%**********************]  1 of 1 completed\n"
     ]
    },
    {
     "name": "stdout",
     "output_type": "stream",
     "text": [
      "Obtendo cotações para CMIG4.SA...\n"
     ]
    },
    {
     "name": "stderr",
     "output_type": "stream",
     "text": [
      "[*********************100%%**********************]  1 of 1 completed\n"
     ]
    },
    {
     "name": "stdout",
     "output_type": "stream",
     "text": [
      "Obtendo cotações para CMIN3.SA...\n"
     ]
    },
    {
     "name": "stderr",
     "output_type": "stream",
     "text": [
      "[*********************100%%**********************]  1 of 1 completed\n"
     ]
    },
    {
     "name": "stdout",
     "output_type": "stream",
     "text": [
      "Obtendo cotações para COCE3.SA...\n"
     ]
    },
    {
     "name": "stderr",
     "output_type": "stream",
     "text": [
      "[*********************100%%**********************]  1 of 1 completed\n"
     ]
    },
    {
     "name": "stdout",
     "output_type": "stream",
     "text": [
      "Obtendo cotações para COCE5.SA...\n"
     ]
    },
    {
     "name": "stderr",
     "output_type": "stream",
     "text": [
      "[*********************100%%**********************]  1 of 1 completed\n"
     ]
    },
    {
     "name": "stdout",
     "output_type": "stream",
     "text": [
      "Obtendo cotações para COCE6.SA...\n"
     ]
    },
    {
     "name": "stderr",
     "output_type": "stream",
     "text": [
      "[*********************100%%**********************]  1 of 1 completed\n"
     ]
    },
    {
     "name": "stdout",
     "output_type": "stream",
     "text": [
      "Obtendo cotações para COGN3.SA...\n"
     ]
    },
    {
     "name": "stderr",
     "output_type": "stream",
     "text": [
      "[*********************100%%**********************]  1 of 1 completed\n"
     ]
    },
    {
     "name": "stdout",
     "output_type": "stream",
     "text": [
      "Obtendo cotações para CORR3.SA...\n"
     ]
    },
    {
     "name": "stderr",
     "output_type": "stream",
     "text": [
      "[*********************100%%**********************]  1 of 1 completed\n"
     ]
    },
    {
     "name": "stdout",
     "output_type": "stream",
     "text": [
      "Obtendo cotações para CORR4.SA...\n"
     ]
    },
    {
     "name": "stderr",
     "output_type": "stream",
     "text": [
      "[*********************100%%**********************]  1 of 1 completed\n"
     ]
    },
    {
     "name": "stdout",
     "output_type": "stream",
     "text": [
      "Obtendo cotações para CPFE3.SA...\n"
     ]
    },
    {
     "name": "stderr",
     "output_type": "stream",
     "text": [
      "[*********************100%%**********************]  1 of 1 completed\n"
     ]
    },
    {
     "name": "stdout",
     "output_type": "stream",
     "text": [
      "Obtendo cotações para CPLE3.SA...\n"
     ]
    },
    {
     "name": "stderr",
     "output_type": "stream",
     "text": [
      "[*********************100%%**********************]  1 of 1 completed\n"
     ]
    },
    {
     "name": "stdout",
     "output_type": "stream",
     "text": [
      "Obtendo cotações para CPLE5.SA...\n"
     ]
    },
    {
     "name": "stderr",
     "output_type": "stream",
     "text": [
      "[*********************100%%**********************]  1 of 1 completed\n"
     ]
    },
    {
     "name": "stdout",
     "output_type": "stream",
     "text": [
      "Obtendo cotações para CPLE6.SA...\n"
     ]
    },
    {
     "name": "stderr",
     "output_type": "stream",
     "text": [
      "[*********************100%%**********************]  1 of 1 completed\n"
     ]
    },
    {
     "name": "stdout",
     "output_type": "stream",
     "text": [
      "Obtendo cotações para CRFB3.SA...\n"
     ]
    },
    {
     "name": "stderr",
     "output_type": "stream",
     "text": [
      "[*********************100%%**********************]  1 of 1 completed\n"
     ]
    },
    {
     "name": "stdout",
     "output_type": "stream",
     "text": [
      "Obtendo cotações para CRIV3.SA...\n"
     ]
    },
    {
     "name": "stderr",
     "output_type": "stream",
     "text": [
      "[*********************100%%**********************]  1 of 1 completed\n"
     ]
    },
    {
     "name": "stdout",
     "output_type": "stream",
     "text": [
      "Obtendo cotações para CRIV4.SA...\n"
     ]
    },
    {
     "name": "stderr",
     "output_type": "stream",
     "text": [
      "[*********************100%%**********************]  1 of 1 completed\n"
     ]
    },
    {
     "name": "stdout",
     "output_type": "stream",
     "text": [
      "Obtendo cotações para CRPG3.SA...\n"
     ]
    },
    {
     "name": "stderr",
     "output_type": "stream",
     "text": [
      "[*********************100%%**********************]  1 of 1 completed\n"
     ]
    },
    {
     "name": "stdout",
     "output_type": "stream",
     "text": [
      "Obtendo cotações para CRPG5.SA...\n"
     ]
    },
    {
     "name": "stderr",
     "output_type": "stream",
     "text": [
      "[*********************100%%**********************]  1 of 1 completed\n"
     ]
    },
    {
     "name": "stdout",
     "output_type": "stream",
     "text": [
      "Obtendo cotações para CRPG6.SA...\n"
     ]
    },
    {
     "name": "stderr",
     "output_type": "stream",
     "text": [
      "[*********************100%%**********************]  1 of 1 completed\n"
     ]
    },
    {
     "name": "stdout",
     "output_type": "stream",
     "text": [
      "Obtendo cotações para CSAN3.SA...\n"
     ]
    },
    {
     "name": "stderr",
     "output_type": "stream",
     "text": [
      "[*********************100%%**********************]  1 of 1 completed\n"
     ]
    },
    {
     "name": "stdout",
     "output_type": "stream",
     "text": [
      "Obtendo cotações para CSED3.SA...\n"
     ]
    },
    {
     "name": "stderr",
     "output_type": "stream",
     "text": [
      "[*********************100%%**********************]  1 of 1 completed\n"
     ]
    },
    {
     "name": "stdout",
     "output_type": "stream",
     "text": [
      "Obtendo cotações para CSMG3.SA...\n"
     ]
    },
    {
     "name": "stderr",
     "output_type": "stream",
     "text": [
      "[*********************100%%**********************]  1 of 1 completed\n"
     ]
    },
    {
     "name": "stdout",
     "output_type": "stream",
     "text": [
      "Obtendo cotações para CSNA3.SA...\n"
     ]
    },
    {
     "name": "stderr",
     "output_type": "stream",
     "text": [
      "[*********************100%%**********************]  1 of 1 completed\n"
     ]
    },
    {
     "name": "stdout",
     "output_type": "stream",
     "text": [
      "Obtendo cotações para CSRN3.SA...\n"
     ]
    },
    {
     "name": "stderr",
     "output_type": "stream",
     "text": [
      "[*********************100%%**********************]  1 of 1 completed\n"
     ]
    },
    {
     "name": "stdout",
     "output_type": "stream",
     "text": [
      "Obtendo cotações para CSRN5.SA...\n"
     ]
    },
    {
     "name": "stderr",
     "output_type": "stream",
     "text": [
      "[*********************100%%**********************]  1 of 1 completed\n"
     ]
    },
    {
     "name": "stdout",
     "output_type": "stream",
     "text": [
      "Obtendo cotações para CSRN6.SA...\n"
     ]
    },
    {
     "name": "stderr",
     "output_type": "stream",
     "text": [
      "[*********************100%%**********************]  1 of 1 completed\n"
     ]
    },
    {
     "name": "stdout",
     "output_type": "stream",
     "text": [
      "Obtendo cotações para CSUD3.SA...\n"
     ]
    },
    {
     "name": "stderr",
     "output_type": "stream",
     "text": [
      "[*********************100%%**********************]  1 of 1 completed\n"
     ]
    },
    {
     "name": "stdout",
     "output_type": "stream",
     "text": [
      "Obtendo cotações para CTKA3.SA...\n"
     ]
    },
    {
     "name": "stderr",
     "output_type": "stream",
     "text": [
      "[*********************100%%**********************]  1 of 1 completed\n"
     ]
    },
    {
     "name": "stdout",
     "output_type": "stream",
     "text": [
      "Obtendo cotações para CTKA4.SA...\n"
     ]
    },
    {
     "name": "stderr",
     "output_type": "stream",
     "text": [
      "[*********************100%%**********************]  1 of 1 completed\n"
     ]
    },
    {
     "name": "stdout",
     "output_type": "stream",
     "text": [
      "Obtendo cotações para CTNM3.SA...\n"
     ]
    },
    {
     "name": "stderr",
     "output_type": "stream",
     "text": [
      "[*********************100%%**********************]  1 of 1 completed\n"
     ]
    },
    {
     "name": "stdout",
     "output_type": "stream",
     "text": [
      "Obtendo cotações para CTNM4.SA...\n"
     ]
    },
    {
     "name": "stderr",
     "output_type": "stream",
     "text": [
      "[*********************100%%**********************]  1 of 1 completed\n"
     ]
    },
    {
     "name": "stdout",
     "output_type": "stream",
     "text": [
      "Obtendo cotações para CTSA3.SA...\n"
     ]
    },
    {
     "name": "stderr",
     "output_type": "stream",
     "text": [
      "[*********************100%%**********************]  1 of 1 completed\n"
     ]
    },
    {
     "name": "stdout",
     "output_type": "stream",
     "text": [
      "Obtendo cotações para CTSA4.SA...\n"
     ]
    },
    {
     "name": "stderr",
     "output_type": "stream",
     "text": [
      "[*********************100%%**********************]  1 of 1 completed\n"
     ]
    },
    {
     "name": "stdout",
     "output_type": "stream",
     "text": [
      "Obtendo cotações para CURY3.SA...\n"
     ]
    },
    {
     "name": "stderr",
     "output_type": "stream",
     "text": [
      "[*********************100%%**********************]  1 of 1 completed\n"
     ]
    },
    {
     "name": "stdout",
     "output_type": "stream",
     "text": [
      "Obtendo cotações para CVCB3.SA...\n"
     ]
    },
    {
     "name": "stderr",
     "output_type": "stream",
     "text": [
      "[*********************100%%**********************]  1 of 1 completed\n"
     ]
    },
    {
     "name": "stdout",
     "output_type": "stream",
     "text": [
      "Obtendo cotações para CXSE3.SA...\n"
     ]
    },
    {
     "name": "stderr",
     "output_type": "stream",
     "text": [
      "[*********************100%%**********************]  1 of 1 completed\n"
     ]
    },
    {
     "name": "stdout",
     "output_type": "stream",
     "text": [
      "Obtendo cotações para CYRE3.SA...\n"
     ]
    },
    {
     "name": "stderr",
     "output_type": "stream",
     "text": [
      "[*********************100%%**********************]  1 of 1 completed\n"
     ]
    },
    {
     "name": "stdout",
     "output_type": "stream",
     "text": [
      "Obtendo cotações para DASA3.SA...\n"
     ]
    },
    {
     "name": "stderr",
     "output_type": "stream",
     "text": [
      "[*********************100%%**********************]  1 of 1 completed\n"
     ]
    },
    {
     "name": "stdout",
     "output_type": "stream",
     "text": [
      "Obtendo cotações para DESK3.SA...\n"
     ]
    },
    {
     "name": "stderr",
     "output_type": "stream",
     "text": [
      "[*********************100%%**********************]  1 of 1 completed\n"
     ]
    },
    {
     "name": "stdout",
     "output_type": "stream",
     "text": [
      "Obtendo cotações para DEXP3.SA...\n"
     ]
    },
    {
     "name": "stderr",
     "output_type": "stream",
     "text": [
      "[*********************100%%**********************]  1 of 1 completed\n"
     ]
    },
    {
     "name": "stdout",
     "output_type": "stream",
     "text": [
      "Obtendo cotações para DEXP4.SA...\n"
     ]
    },
    {
     "name": "stderr",
     "output_type": "stream",
     "text": [
      "[*********************100%%**********************]  1 of 1 completed\n"
     ]
    },
    {
     "name": "stdout",
     "output_type": "stream",
     "text": [
      "Obtendo cotações para DIRR3.SA...\n"
     ]
    },
    {
     "name": "stderr",
     "output_type": "stream",
     "text": [
      "[*********************100%%**********************]  1 of 1 completed\n"
     ]
    },
    {
     "name": "stdout",
     "output_type": "stream",
     "text": [
      "Obtendo cotações para DMFN3.SA...\n"
     ]
    },
    {
     "name": "stderr",
     "output_type": "stream",
     "text": [
      "[*********************100%%**********************]  1 of 1 completed\n"
     ]
    },
    {
     "name": "stdout",
     "output_type": "stream",
     "text": [
      "Obtendo cotações para DMVF3.SA...\n"
     ]
    },
    {
     "name": "stderr",
     "output_type": "stream",
     "text": [
      "[*********************100%%**********************]  1 of 1 completed\n"
     ]
    },
    {
     "name": "stdout",
     "output_type": "stream",
     "text": [
      "Obtendo cotações para DOHL3.SA...\n"
     ]
    },
    {
     "name": "stderr",
     "output_type": "stream",
     "text": [
      "[*********************100%%**********************]  1 of 1 completed\n"
     ]
    },
    {
     "name": "stdout",
     "output_type": "stream",
     "text": [
      "Obtendo cotações para DOHL4.SA...\n"
     ]
    },
    {
     "name": "stderr",
     "output_type": "stream",
     "text": [
      "[*********************100%%**********************]  1 of 1 completed\n"
     ]
    },
    {
     "name": "stdout",
     "output_type": "stream",
     "text": [
      "Obtendo cotações para DOTZ3.SA...\n"
     ]
    },
    {
     "name": "stderr",
     "output_type": "stream",
     "text": [
      "[*********************100%%**********************]  1 of 1 completed\n"
     ]
    },
    {
     "name": "stdout",
     "output_type": "stream",
     "text": [
      "Obtendo cotações para DTCY3.SA...\n"
     ]
    },
    {
     "name": "stderr",
     "output_type": "stream",
     "text": [
      "[*********************100%%**********************]  1 of 1 completed\n"
     ]
    },
    {
     "name": "stdout",
     "output_type": "stream",
     "text": [
      "Obtendo cotações para DXCO3.SA...\n"
     ]
    },
    {
     "name": "stderr",
     "output_type": "stream",
     "text": [
      "[*********************100%%**********************]  1 of 1 completed\n"
     ]
    },
    {
     "name": "stdout",
     "output_type": "stream",
     "text": [
      "Obtendo cotações para EALT3.SA...\n"
     ]
    },
    {
     "name": "stderr",
     "output_type": "stream",
     "text": [
      "[*********************100%%**********************]  1 of 1 completed\n"
     ]
    },
    {
     "name": "stdout",
     "output_type": "stream",
     "text": [
      "Obtendo cotações para EALT4.SA...\n"
     ]
    },
    {
     "name": "stderr",
     "output_type": "stream",
     "text": [
      "[*********************100%%**********************]  1 of 1 completed\n"
     ]
    },
    {
     "name": "stdout",
     "output_type": "stream",
     "text": [
      "Obtendo cotações para ECOR3.SA...\n"
     ]
    },
    {
     "name": "stderr",
     "output_type": "stream",
     "text": [
      "[*********************100%%**********************]  1 of 1 completed\n"
     ]
    },
    {
     "name": "stdout",
     "output_type": "stream",
     "text": [
      "Obtendo cotações para EGIE3.SA...\n"
     ]
    },
    {
     "name": "stderr",
     "output_type": "stream",
     "text": [
      "[*********************100%%**********************]  1 of 1 completed\n"
     ]
    },
    {
     "name": "stdout",
     "output_type": "stream",
     "text": [
      "Obtendo cotações para EKTR3.SA...\n"
     ]
    },
    {
     "name": "stderr",
     "output_type": "stream",
     "text": [
      "[*********************100%%**********************]  1 of 1 completed\n"
     ]
    },
    {
     "name": "stdout",
     "output_type": "stream",
     "text": [
      "Obtendo cotações para EKTR4.SA...\n"
     ]
    },
    {
     "name": "stderr",
     "output_type": "stream",
     "text": [
      "[*********************100%%**********************]  1 of 1 completed\n"
     ]
    },
    {
     "name": "stdout",
     "output_type": "stream",
     "text": [
      "Obtendo cotações para ELET3.SA...\n"
     ]
    },
    {
     "name": "stderr",
     "output_type": "stream",
     "text": [
      "[*********************100%%**********************]  1 of 1 completed\n"
     ]
    },
    {
     "name": "stdout",
     "output_type": "stream",
     "text": [
      "Obtendo cotações para ELET5.SA...\n"
     ]
    },
    {
     "name": "stderr",
     "output_type": "stream",
     "text": [
      "[*********************100%%**********************]  1 of 1 completed\n"
     ]
    },
    {
     "name": "stdout",
     "output_type": "stream",
     "text": [
      "Obtendo cotações para ELET6.SA...\n"
     ]
    },
    {
     "name": "stderr",
     "output_type": "stream",
     "text": [
      "[*********************100%%**********************]  1 of 1 completed\n"
     ]
    },
    {
     "name": "stdout",
     "output_type": "stream",
     "text": [
      "Obtendo cotações para ELMD3.SA...\n"
     ]
    },
    {
     "name": "stderr",
     "output_type": "stream",
     "text": [
      "[*********************100%%**********************]  1 of 1 completed\n"
     ]
    },
    {
     "name": "stdout",
     "output_type": "stream",
     "text": [
      "Obtendo cotações para ELPL4.SA...\n"
     ]
    },
    {
     "name": "stderr",
     "output_type": "stream",
     "text": [
      "[*********************100%%**********************]  1 of 1 completed\n"
     ]
    },
    {
     "name": "stdout",
     "output_type": "stream",
     "text": [
      "Obtendo cotações para EMAE4.SA...\n"
     ]
    },
    {
     "name": "stderr",
     "output_type": "stream",
     "text": [
      "[*********************100%%**********************]  1 of 1 completed\n"
     ]
    },
    {
     "name": "stdout",
     "output_type": "stream",
     "text": [
      "Obtendo cotações para EMBR3.SA...\n"
     ]
    },
    {
     "name": "stderr",
     "output_type": "stream",
     "text": [
      "[*********************100%%**********************]  1 of 1 completed\n"
     ]
    },
    {
     "name": "stdout",
     "output_type": "stream",
     "text": [
      "Obtendo cotações para ENAT3.SA...\n"
     ]
    },
    {
     "name": "stderr",
     "output_type": "stream",
     "text": [
      "[*********************100%%**********************]  1 of 1 completed\n"
     ]
    },
    {
     "name": "stdout",
     "output_type": "stream",
     "text": [
      "Obtendo cotações para ENEV3.SA...\n"
     ]
    },
    {
     "name": "stderr",
     "output_type": "stream",
     "text": [
      "[*********************100%%**********************]  1 of 1 completed\n"
     ]
    },
    {
     "name": "stdout",
     "output_type": "stream",
     "text": [
      "Obtendo cotações para ENGI11.SA...\n"
     ]
    },
    {
     "name": "stderr",
     "output_type": "stream",
     "text": [
      "[*********************100%%**********************]  1 of 1 completed\n"
     ]
    },
    {
     "name": "stdout",
     "output_type": "stream",
     "text": [
      "Obtendo cotações para ENGI3.SA...\n"
     ]
    },
    {
     "name": "stderr",
     "output_type": "stream",
     "text": [
      "[*********************100%%**********************]  1 of 1 completed\n"
     ]
    },
    {
     "name": "stdout",
     "output_type": "stream",
     "text": [
      "Obtendo cotações para ENGI4.SA...\n"
     ]
    },
    {
     "name": "stderr",
     "output_type": "stream",
     "text": [
      "[*********************100%%**********************]  1 of 1 completed\n"
     ]
    },
    {
     "name": "stdout",
     "output_type": "stream",
     "text": [
      "Obtendo cotações para ENJU3.SA...\n"
     ]
    },
    {
     "name": "stderr",
     "output_type": "stream",
     "text": [
      "[*********************100%%**********************]  1 of 1 completed\n"
     ]
    },
    {
     "name": "stdout",
     "output_type": "stream",
     "text": [
      "Obtendo cotações para ENMT3.SA...\n"
     ]
    },
    {
     "name": "stderr",
     "output_type": "stream",
     "text": [
      "[*********************100%%**********************]  1 of 1 completed\n"
     ]
    },
    {
     "name": "stdout",
     "output_type": "stream",
     "text": [
      "Obtendo cotações para ENMT4.SA...\n"
     ]
    },
    {
     "name": "stderr",
     "output_type": "stream",
     "text": [
      "[*********************100%%**********************]  1 of 1 completed\n"
     ]
    },
    {
     "name": "stdout",
     "output_type": "stream",
     "text": [
      "Obtendo cotações para EPAR3.SA...\n"
     ]
    },
    {
     "name": "stderr",
     "output_type": "stream",
     "text": [
      "[*********************100%%**********************]  1 of 1 completed\n"
     ]
    },
    {
     "name": "stdout",
     "output_type": "stream",
     "text": [
      "Obtendo cotações para EQMA3B.SA...\n"
     ]
    },
    {
     "name": "stderr",
     "output_type": "stream",
     "text": [
      "[*********************100%%**********************]  1 of 1 completed\n"
     ]
    },
    {
     "name": "stdout",
     "output_type": "stream",
     "text": [
      "Obtendo cotações para EQPA3.SA...\n"
     ]
    },
    {
     "name": "stderr",
     "output_type": "stream",
     "text": [
      "[*********************100%%**********************]  1 of 1 completed\n"
     ]
    },
    {
     "name": "stdout",
     "output_type": "stream",
     "text": [
      "Obtendo cotações para EQPA5.SA...\n"
     ]
    },
    {
     "name": "stderr",
     "output_type": "stream",
     "text": [
      "[*********************100%%**********************]  1 of 1 completed\n"
     ]
    },
    {
     "name": "stdout",
     "output_type": "stream",
     "text": [
      "Obtendo cotações para EQPA6.SA...\n"
     ]
    },
    {
     "name": "stderr",
     "output_type": "stream",
     "text": [
      "[*********************100%%**********************]  1 of 1 completed\n"
     ]
    },
    {
     "name": "stdout",
     "output_type": "stream",
     "text": [
      "Obtendo cotações para EQPA7.SA...\n"
     ]
    },
    {
     "name": "stderr",
     "output_type": "stream",
     "text": [
      "[*********************100%%**********************]  1 of 1 completed\n"
     ]
    },
    {
     "name": "stdout",
     "output_type": "stream",
     "text": [
      "Obtendo cotações para EQTL3.SA...\n"
     ]
    },
    {
     "name": "stderr",
     "output_type": "stream",
     "text": [
      "[*********************100%%**********************]  1 of 1 completed\n"
     ]
    },
    {
     "name": "stdout",
     "output_type": "stream",
     "text": [
      "Obtendo cotações para ESPA3.SA...\n"
     ]
    },
    {
     "name": "stderr",
     "output_type": "stream",
     "text": [
      "[*********************100%%**********************]  1 of 1 completed\n"
     ]
    },
    {
     "name": "stdout",
     "output_type": "stream",
     "text": [
      "Obtendo cotações para ESTR3.SA...\n"
     ]
    },
    {
     "name": "stderr",
     "output_type": "stream",
     "text": [
      "[*********************100%%**********************]  1 of 1 completed\n"
     ]
    },
    {
     "name": "stdout",
     "output_type": "stream",
     "text": [
      "Obtendo cotações para ESTR4.SA...\n"
     ]
    },
    {
     "name": "stderr",
     "output_type": "stream",
     "text": [
      "[*********************100%%**********************]  1 of 1 completed\n"
     ]
    },
    {
     "name": "stdout",
     "output_type": "stream",
     "text": [
      "Obtendo cotações para ETER3.SA...\n"
     ]
    },
    {
     "name": "stderr",
     "output_type": "stream",
     "text": [
      "[*********************100%%**********************]  1 of 1 completed\n"
     ]
    },
    {
     "name": "stdout",
     "output_type": "stream",
     "text": [
      "Obtendo cotações para EUCA3.SA...\n"
     ]
    },
    {
     "name": "stderr",
     "output_type": "stream",
     "text": [
      "[*********************100%%**********************]  1 of 1 completed\n"
     ]
    },
    {
     "name": "stdout",
     "output_type": "stream",
     "text": [
      "Obtendo cotações para EUCA4.SA...\n"
     ]
    },
    {
     "name": "stderr",
     "output_type": "stream",
     "text": [
      "[*********************100%%**********************]  1 of 1 completed\n"
     ]
    },
    {
     "name": "stdout",
     "output_type": "stream",
     "text": [
      "Obtendo cotações para EVEN3.SA...\n"
     ]
    },
    {
     "name": "stderr",
     "output_type": "stream",
     "text": [
      "[*********************100%%**********************]  1 of 1 completed\n"
     ]
    },
    {
     "name": "stdout",
     "output_type": "stream",
     "text": [
      "Obtendo cotações para EZTC3.SA...\n"
     ]
    },
    {
     "name": "stderr",
     "output_type": "stream",
     "text": [
      "[*********************100%%**********************]  1 of 1 completed\n"
     ]
    },
    {
     "name": "stdout",
     "output_type": "stream",
     "text": [
      "Obtendo cotações para FESA3.SA...\n"
     ]
    },
    {
     "name": "stderr",
     "output_type": "stream",
     "text": [
      "[*********************100%%**********************]  1 of 1 completed\n"
     ]
    },
    {
     "name": "stdout",
     "output_type": "stream",
     "text": [
      "Obtendo cotações para FESA4.SA...\n"
     ]
    },
    {
     "name": "stderr",
     "output_type": "stream",
     "text": [
      "[*********************100%%**********************]  1 of 1 completed\n"
     ]
    },
    {
     "name": "stdout",
     "output_type": "stream",
     "text": [
      "Obtendo cotações para FHER3.SA...\n"
     ]
    },
    {
     "name": "stderr",
     "output_type": "stream",
     "text": [
      "[*********************100%%**********************]  1 of 1 completed\n"
     ]
    },
    {
     "name": "stdout",
     "output_type": "stream",
     "text": [
      "Obtendo cotações para FIEI3.SA...\n"
     ]
    },
    {
     "name": "stderr",
     "output_type": "stream",
     "text": [
      "[*********************100%%**********************]  1 of 1 completed\n"
     ]
    },
    {
     "name": "stdout",
     "output_type": "stream",
     "text": [
      "Obtendo cotações para FIGE3.SA...\n"
     ]
    },
    {
     "name": "stderr",
     "output_type": "stream",
     "text": [
      "[*********************100%%**********************]  1 of 1 completed\n"
     ]
    },
    {
     "name": "stdout",
     "output_type": "stream",
     "text": [
      "Obtendo cotações para FIGE4.SA...\n"
     ]
    },
    {
     "name": "stderr",
     "output_type": "stream",
     "text": [
      "[*********************100%%**********************]  1 of 1 completed\n"
     ]
    },
    {
     "name": "stdout",
     "output_type": "stream",
     "text": [
      "Obtendo cotações para FIQE3.SA...\n"
     ]
    },
    {
     "name": "stderr",
     "output_type": "stream",
     "text": [
      "[*********************100%%**********************]  1 of 1 completed\n"
     ]
    },
    {
     "name": "stdout",
     "output_type": "stream",
     "text": [
      "Obtendo cotações para FLRY3.SA...\n"
     ]
    },
    {
     "name": "stderr",
     "output_type": "stream",
     "text": [
      "[*********************100%%**********************]  1 of 1 completed\n"
     ]
    },
    {
     "name": "stdout",
     "output_type": "stream",
     "text": [
      "Obtendo cotações para FRAS3.SA...\n"
     ]
    },
    {
     "name": "stderr",
     "output_type": "stream",
     "text": [
      "[*********************100%%**********************]  1 of 1 completed\n"
     ]
    },
    {
     "name": "stdout",
     "output_type": "stream",
     "text": [
      "Obtendo cotações para FRIO3.SA...\n"
     ]
    },
    {
     "name": "stderr",
     "output_type": "stream",
     "text": [
      "[*********************100%%**********************]  1 of 1 completed\n"
     ]
    },
    {
     "name": "stdout",
     "output_type": "stream",
     "text": [
      "Obtendo cotações para GEPA3.SA...\n"
     ]
    },
    {
     "name": "stderr",
     "output_type": "stream",
     "text": [
      "[*********************100%%**********************]  1 of 1 completed\n"
     ]
    },
    {
     "name": "stdout",
     "output_type": "stream",
     "text": [
      "Obtendo cotações para GEPA4.SA...\n"
     ]
    },
    {
     "name": "stderr",
     "output_type": "stream",
     "text": [
      "[*********************100%%**********************]  1 of 1 completed\n"
     ]
    },
    {
     "name": "stdout",
     "output_type": "stream",
     "text": [
      "Obtendo cotações para GFSA3.SA...\n"
     ]
    },
    {
     "name": "stderr",
     "output_type": "stream",
     "text": [
      "[*********************100%%**********************]  1 of 1 completed\n"
     ]
    },
    {
     "name": "stdout",
     "output_type": "stream",
     "text": [
      "Obtendo cotações para GGBR3.SA...\n"
     ]
    },
    {
     "name": "stderr",
     "output_type": "stream",
     "text": [
      "[*********************100%%**********************]  1 of 1 completed\n"
     ]
    },
    {
     "name": "stdout",
     "output_type": "stream",
     "text": [
      "Obtendo cotações para GGBR4.SA...\n"
     ]
    },
    {
     "name": "stderr",
     "output_type": "stream",
     "text": [
      "[*********************100%%**********************]  1 of 1 completed\n"
     ]
    },
    {
     "name": "stdout",
     "output_type": "stream",
     "text": [
      "Obtendo cotações para GGPS3.SA...\n"
     ]
    },
    {
     "name": "stderr",
     "output_type": "stream",
     "text": [
      "[*********************100%%**********************]  1 of 1 completed\n"
     ]
    },
    {
     "name": "stdout",
     "output_type": "stream",
     "text": [
      "Obtendo cotações para GMAT3.SA...\n"
     ]
    },
    {
     "name": "stderr",
     "output_type": "stream",
     "text": [
      "[*********************100%%**********************]  1 of 1 completed\n"
     ]
    },
    {
     "name": "stdout",
     "output_type": "stream",
     "text": [
      "Obtendo cotações para GOAU3.SA...\n"
     ]
    },
    {
     "name": "stderr",
     "output_type": "stream",
     "text": [
      "[*********************100%%**********************]  1 of 1 completed\n"
     ]
    },
    {
     "name": "stdout",
     "output_type": "stream",
     "text": [
      "Obtendo cotações para GOAU4.SA...\n"
     ]
    },
    {
     "name": "stderr",
     "output_type": "stream",
     "text": [
      "[*********************100%%**********************]  1 of 1 completed\n"
     ]
    },
    {
     "name": "stdout",
     "output_type": "stream",
     "text": [
      "Obtendo cotações para GOLL4.SA...\n"
     ]
    },
    {
     "name": "stderr",
     "output_type": "stream",
     "text": [
      "[*********************100%%**********************]  1 of 1 completed\n"
     ]
    },
    {
     "name": "stdout",
     "output_type": "stream",
     "text": [
      "Obtendo cotações para GPAR3.SA...\n"
     ]
    },
    {
     "name": "stderr",
     "output_type": "stream",
     "text": [
      "[*********************100%%**********************]  1 of 1 completed\n"
     ]
    },
    {
     "name": "stdout",
     "output_type": "stream",
     "text": [
      "Obtendo cotações para GPIV33.SA...\n"
     ]
    },
    {
     "name": "stderr",
     "output_type": "stream",
     "text": [
      "[*********************100%%**********************]  1 of 1 completed\n"
     ]
    },
    {
     "name": "stdout",
     "output_type": "stream",
     "text": [
      "Obtendo cotações para GRND3.SA...\n"
     ]
    },
    {
     "name": "stderr",
     "output_type": "stream",
     "text": [
      "[*********************100%%**********************]  1 of 1 completed\n"
     ]
    },
    {
     "name": "stdout",
     "output_type": "stream",
     "text": [
      "Obtendo cotações para GSHP3.SA...\n"
     ]
    },
    {
     "name": "stderr",
     "output_type": "stream",
     "text": [
      "[*********************100%%**********************]  1 of 1 completed\n"
     ]
    },
    {
     "name": "stdout",
     "output_type": "stream",
     "text": [
      "Obtendo cotações para GUAR3.SA...\n"
     ]
    },
    {
     "name": "stderr",
     "output_type": "stream",
     "text": [
      "[*********************100%%**********************]  1 of 1 completed\n"
     ]
    },
    {
     "name": "stdout",
     "output_type": "stream",
     "text": [
      "Obtendo cotações para HAGA3.SA...\n"
     ]
    },
    {
     "name": "stderr",
     "output_type": "stream",
     "text": [
      "[*********************100%%**********************]  1 of 1 completed\n"
     ]
    },
    {
     "name": "stdout",
     "output_type": "stream",
     "text": [
      "Obtendo cotações para HAGA4.SA...\n"
     ]
    },
    {
     "name": "stderr",
     "output_type": "stream",
     "text": [
      "[*********************100%%**********************]  1 of 1 completed\n"
     ]
    },
    {
     "name": "stdout",
     "output_type": "stream",
     "text": [
      "Obtendo cotações para HAPV3.SA...\n"
     ]
    },
    {
     "name": "stderr",
     "output_type": "stream",
     "text": [
      "[*********************100%%**********************]  1 of 1 completed\n"
     ]
    },
    {
     "name": "stdout",
     "output_type": "stream",
     "text": [
      "Obtendo cotações para HBOR3.SA...\n"
     ]
    },
    {
     "name": "stderr",
     "output_type": "stream",
     "text": [
      "[*********************100%%**********************]  1 of 1 completed\n"
     ]
    },
    {
     "name": "stdout",
     "output_type": "stream",
     "text": [
      "Obtendo cotações para HBRE3.SA...\n"
     ]
    },
    {
     "name": "stderr",
     "output_type": "stream",
     "text": [
      "[*********************100%%**********************]  1 of 1 completed\n"
     ]
    },
    {
     "name": "stdout",
     "output_type": "stream",
     "text": [
      "Obtendo cotações para HBSA3.SA...\n"
     ]
    },
    {
     "name": "stderr",
     "output_type": "stream",
     "text": [
      "[*********************100%%**********************]  1 of 1 completed\n"
     ]
    },
    {
     "name": "stdout",
     "output_type": "stream",
     "text": [
      "Obtendo cotações para HBTS5.SA...\n"
     ]
    },
    {
     "name": "stderr",
     "output_type": "stream",
     "text": [
      "[*********************100%%**********************]  1 of 1 completed\n"
     ]
    },
    {
     "name": "stdout",
     "output_type": "stream",
     "text": [
      "Obtendo cotações para HETA3.SA...\n"
     ]
    },
    {
     "name": "stderr",
     "output_type": "stream",
     "text": [
      "[*********************100%%**********************]  1 of 1 completed\n"
     ]
    },
    {
     "name": "stdout",
     "output_type": "stream",
     "text": [
      "Obtendo cotações para HETA4.SA...\n"
     ]
    },
    {
     "name": "stderr",
     "output_type": "stream",
     "text": [
      "[*********************100%%**********************]  1 of 1 completed\n"
     ]
    },
    {
     "name": "stdout",
     "output_type": "stream",
     "text": [
      "Obtendo cotações para HOOT4.SA...\n"
     ]
    },
    {
     "name": "stderr",
     "output_type": "stream",
     "text": [
      "[*********************100%%**********************]  1 of 1 completed\n"
     ]
    },
    {
     "name": "stdout",
     "output_type": "stream",
     "text": [
      "Obtendo cotações para HYPE3.SA...\n"
     ]
    },
    {
     "name": "stderr",
     "output_type": "stream",
     "text": [
      "[*********************100%%**********************]  1 of 1 completed\n"
     ]
    },
    {
     "name": "stdout",
     "output_type": "stream",
     "text": [
      "Obtendo cotações para IFCM3.SA...\n"
     ]
    },
    {
     "name": "stderr",
     "output_type": "stream",
     "text": [
      "[*********************100%%**********************]  1 of 1 completed\n"
     ]
    },
    {
     "name": "stdout",
     "output_type": "stream",
     "text": [
      "Obtendo cotações para IGTI11.SA...\n"
     ]
    },
    {
     "name": "stderr",
     "output_type": "stream",
     "text": [
      "[*********************100%%**********************]  1 of 1 completed\n"
     ]
    },
    {
     "name": "stdout",
     "output_type": "stream",
     "text": [
      "Obtendo cotações para IGTI3.SA...\n"
     ]
    },
    {
     "name": "stderr",
     "output_type": "stream",
     "text": [
      "[*********************100%%**********************]  1 of 1 completed\n"
     ]
    },
    {
     "name": "stdout",
     "output_type": "stream",
     "text": [
      "Obtendo cotações para INEP3.SA...\n"
     ]
    },
    {
     "name": "stderr",
     "output_type": "stream",
     "text": [
      "[*********************100%%**********************]  1 of 1 completed\n"
     ]
    },
    {
     "name": "stdout",
     "output_type": "stream",
     "text": [
      "Obtendo cotações para INEP4.SA...\n"
     ]
    },
    {
     "name": "stderr",
     "output_type": "stream",
     "text": [
      "[*********************100%%**********************]  1 of 1 completed\n"
     ]
    },
    {
     "name": "stdout",
     "output_type": "stream",
     "text": [
      "Obtendo cotações para INTB3.SA...\n"
     ]
    },
    {
     "name": "stderr",
     "output_type": "stream",
     "text": [
      "[*********************100%%**********************]  1 of 1 completed\n"
     ]
    },
    {
     "name": "stdout",
     "output_type": "stream",
     "text": [
      "Obtendo cotações para ITSA3.SA...\n"
     ]
    },
    {
     "name": "stderr",
     "output_type": "stream",
     "text": [
      "[*********************100%%**********************]  1 of 1 completed\n"
     ]
    },
    {
     "name": "stdout",
     "output_type": "stream",
     "text": [
      "Obtendo cotações para ITSA4.SA...\n"
     ]
    },
    {
     "name": "stderr",
     "output_type": "stream",
     "text": [
      "[*********************100%%**********************]  1 of 1 completed\n"
     ]
    },
    {
     "name": "stdout",
     "output_type": "stream",
     "text": [
      "Obtendo cotações para ITUB3.SA...\n"
     ]
    },
    {
     "name": "stderr",
     "output_type": "stream",
     "text": [
      "[*********************100%%**********************]  1 of 1 completed\n"
     ]
    },
    {
     "name": "stdout",
     "output_type": "stream",
     "text": [
      "Obtendo cotações para ITUB4.SA...\n"
     ]
    },
    {
     "name": "stderr",
     "output_type": "stream",
     "text": [
      "[*********************100%%**********************]  1 of 1 completed\n"
     ]
    },
    {
     "name": "stdout",
     "output_type": "stream",
     "text": [
      "Obtendo cotações para JALL3.SA...\n"
     ]
    },
    {
     "name": "stderr",
     "output_type": "stream",
     "text": [
      "[*********************100%%**********************]  1 of 1 completed\n"
     ]
    },
    {
     "name": "stdout",
     "output_type": "stream",
     "text": [
      "Obtendo cotações para JBSS3.SA...\n"
     ]
    },
    {
     "name": "stderr",
     "output_type": "stream",
     "text": [
      "[*********************100%%**********************]  1 of 1 completed\n"
     ]
    },
    {
     "name": "stdout",
     "output_type": "stream",
     "text": [
      "Obtendo cotações para JFEN3.SA...\n"
     ]
    },
    {
     "name": "stderr",
     "output_type": "stream",
     "text": [
      "[*********************100%%**********************]  1 of 1 completed\n"
     ]
    },
    {
     "name": "stdout",
     "output_type": "stream",
     "text": [
      "Obtendo cotações para JHSF3.SA...\n"
     ]
    },
    {
     "name": "stderr",
     "output_type": "stream",
     "text": [
      "[*********************100%%**********************]  1 of 1 completed\n"
     ]
    },
    {
     "name": "stdout",
     "output_type": "stream",
     "text": [
      "Obtendo cotações para JOPA3.SA...\n"
     ]
    },
    {
     "name": "stderr",
     "output_type": "stream",
     "text": [
      "[*********************100%%**********************]  1 of 1 completed\n"
     ]
    },
    {
     "name": "stdout",
     "output_type": "stream",
     "text": [
      "Obtendo cotações para JOPA4.SA...\n"
     ]
    },
    {
     "name": "stderr",
     "output_type": "stream",
     "text": [
      "[*********************100%%**********************]  1 of 1 completed\n"
     ]
    },
    {
     "name": "stdout",
     "output_type": "stream",
     "text": [
      "Obtendo cotações para JSLG3.SA...\n"
     ]
    },
    {
     "name": "stderr",
     "output_type": "stream",
     "text": [
      "[*********************100%%**********************]  1 of 1 completed\n"
     ]
    },
    {
     "name": "stdout",
     "output_type": "stream",
     "text": [
      "Obtendo cotações para KEPL3.SA...\n"
     ]
    },
    {
     "name": "stderr",
     "output_type": "stream",
     "text": [
      "[*********************100%%**********************]  1 of 1 completed\n"
     ]
    },
    {
     "name": "stdout",
     "output_type": "stream",
     "text": [
      "Obtendo cotações para KLBN11.SA...\n"
     ]
    },
    {
     "name": "stderr",
     "output_type": "stream",
     "text": [
      "[*********************100%%**********************]  1 of 1 completed\n"
     ]
    },
    {
     "name": "stdout",
     "output_type": "stream",
     "text": [
      "Obtendo cotações para KLBN3.SA...\n"
     ]
    },
    {
     "name": "stderr",
     "output_type": "stream",
     "text": [
      "[*********************100%%**********************]  1 of 1 completed\n"
     ]
    },
    {
     "name": "stdout",
     "output_type": "stream",
     "text": [
      "Obtendo cotações para KLBN4.SA...\n"
     ]
    },
    {
     "name": "stderr",
     "output_type": "stream",
     "text": [
      "[*********************100%%**********************]  1 of 1 completed\n"
     ]
    },
    {
     "name": "stdout",
     "output_type": "stream",
     "text": [
      "Obtendo cotações para KROT11.SA...\n"
     ]
    },
    {
     "name": "stderr",
     "output_type": "stream",
     "text": [
      "[*********************100%%**********************]  1 of 1 completed\n"
     ]
    },
    {
     "name": "stdout",
     "output_type": "stream",
     "text": [
      "Obtendo cotações para KRSA3.SA...\n"
     ]
    },
    {
     "name": "stderr",
     "output_type": "stream",
     "text": [
      "[*********************100%%**********************]  1 of 1 completed\n"
     ]
    },
    {
     "name": "stdout",
     "output_type": "stream",
     "text": [
      "Obtendo cotações para LAND3.SA...\n"
     ]
    },
    {
     "name": "stderr",
     "output_type": "stream",
     "text": [
      "[*********************100%%**********************]  1 of 1 completed\n"
     ]
    },
    {
     "name": "stdout",
     "output_type": "stream",
     "text": [
      "Obtendo cotações para LAVV3.SA...\n"
     ]
    },
    {
     "name": "stderr",
     "output_type": "stream",
     "text": [
      "[*********************100%%**********************]  1 of 1 completed\n"
     ]
    },
    {
     "name": "stdout",
     "output_type": "stream",
     "text": [
      "Obtendo cotações para LEVE3.SA...\n"
     ]
    },
    {
     "name": "stderr",
     "output_type": "stream",
     "text": [
      "[*********************100%%**********************]  1 of 1 completed\n"
     ]
    },
    {
     "name": "stdout",
     "output_type": "stream",
     "text": [
      "Obtendo cotações para LIGT3.SA...\n"
     ]
    },
    {
     "name": "stderr",
     "output_type": "stream",
     "text": [
      "[*********************100%%**********************]  1 of 1 completed\n"
     ]
    },
    {
     "name": "stdout",
     "output_type": "stream",
     "text": [
      "Obtendo cotações para LIPR3.SA...\n"
     ]
    },
    {
     "name": "stderr",
     "output_type": "stream",
     "text": [
      "[*********************100%%**********************]  1 of 1 completed\n"
     ]
    },
    {
     "name": "stdout",
     "output_type": "stream",
     "text": [
      "Obtendo cotações para LJQQ3.SA...\n"
     ]
    },
    {
     "name": "stderr",
     "output_type": "stream",
     "text": [
      "[*********************100%%**********************]  1 of 1 completed\n"
     ]
    },
    {
     "name": "stdout",
     "output_type": "stream",
     "text": [
      "Obtendo cotações para LOGG3.SA...\n"
     ]
    },
    {
     "name": "stderr",
     "output_type": "stream",
     "text": [
      "[*********************100%%**********************]  1 of 1 completed\n"
     ]
    },
    {
     "name": "stdout",
     "output_type": "stream",
     "text": [
      "Obtendo cotações para LOGN3.SA...\n"
     ]
    },
    {
     "name": "stderr",
     "output_type": "stream",
     "text": [
      "[*********************100%%**********************]  1 of 1 completed\n"
     ]
    },
    {
     "name": "stdout",
     "output_type": "stream",
     "text": [
      "Obtendo cotações para LPSB3.SA...\n"
     ]
    },
    {
     "name": "stderr",
     "output_type": "stream",
     "text": [
      "[*********************100%%**********************]  1 of 1 completed\n"
     ]
    },
    {
     "name": "stdout",
     "output_type": "stream",
     "text": [
      "Obtendo cotações para LREN3.SA...\n"
     ]
    },
    {
     "name": "stderr",
     "output_type": "stream",
     "text": [
      "[*********************100%%**********************]  1 of 1 completed\n"
     ]
    },
    {
     "name": "stdout",
     "output_type": "stream",
     "text": [
      "Obtendo cotações para LUPA3.SA...\n"
     ]
    },
    {
     "name": "stderr",
     "output_type": "stream",
     "text": [
      "[*********************100%%**********************]  1 of 1 completed\n"
     ]
    },
    {
     "name": "stdout",
     "output_type": "stream",
     "text": [
      "Obtendo cotações para LUXM3.SA...\n"
     ]
    },
    {
     "name": "stderr",
     "output_type": "stream",
     "text": [
      "[*********************100%%**********************]  1 of 1 completed\n"
     ]
    },
    {
     "name": "stdout",
     "output_type": "stream",
     "text": [
      "Obtendo cotações para LUXM4.SA...\n"
     ]
    },
    {
     "name": "stderr",
     "output_type": "stream",
     "text": [
      "[*********************100%%**********************]  1 of 1 completed\n"
     ]
    },
    {
     "name": "stdout",
     "output_type": "stream",
     "text": [
      "Obtendo cotações para LVTC3.SA...\n"
     ]
    },
    {
     "name": "stderr",
     "output_type": "stream",
     "text": [
      "[*********************100%%**********************]  1 of 1 completed\n"
     ]
    },
    {
     "name": "stdout",
     "output_type": "stream",
     "text": [
      "Obtendo cotações para LWSA3.SA...\n"
     ]
    },
    {
     "name": "stderr",
     "output_type": "stream",
     "text": [
      "[*********************100%%**********************]  1 of 1 completed\n"
     ]
    },
    {
     "name": "stdout",
     "output_type": "stream",
     "text": [
      "Obtendo cotações para MAPT3.SA...\n"
     ]
    },
    {
     "name": "stderr",
     "output_type": "stream",
     "text": [
      "[*********************100%%**********************]  1 of 1 completed\n"
     ]
    },
    {
     "name": "stdout",
     "output_type": "stream",
     "text": [
      "Obtendo cotações para MAPT4.SA...\n"
     ]
    },
    {
     "name": "stderr",
     "output_type": "stream",
     "text": [
      "[*********************100%%**********************]  1 of 1 completed"
     ]
    },
    {
     "name": "stdout",
     "output_type": "stream",
     "text": [
      "Obtendo cotações para MATD3.SA...\n"
     ]
    },
    {
     "name": "stderr",
     "output_type": "stream",
     "text": [
      "\n",
      "[*********************100%%**********************]  1 of 1 completed\n"
     ]
    },
    {
     "name": "stdout",
     "output_type": "stream",
     "text": [
      "Obtendo cotações para MBLY3.SA...\n"
     ]
    },
    {
     "name": "stderr",
     "output_type": "stream",
     "text": [
      "[*********************100%%**********************]  1 of 1 completed\n"
     ]
    },
    {
     "name": "stdout",
     "output_type": "stream",
     "text": [
      "Obtendo cotações para MDIA3.SA...\n"
     ]
    },
    {
     "name": "stderr",
     "output_type": "stream",
     "text": [
      "[*********************100%%**********************]  1 of 1 completed\n"
     ]
    },
    {
     "name": "stdout",
     "output_type": "stream",
     "text": [
      "Obtendo cotações para MDNE3.SA...\n"
     ]
    },
    {
     "name": "stderr",
     "output_type": "stream",
     "text": [
      "[*********************100%%**********************]  1 of 1 completed\n"
     ]
    },
    {
     "name": "stdout",
     "output_type": "stream",
     "text": [
      "Obtendo cotações para MEAL3.SA...\n"
     ]
    },
    {
     "name": "stderr",
     "output_type": "stream",
     "text": [
      "[*********************100%%**********************]  1 of 1 completed\n"
     ]
    },
    {
     "name": "stdout",
     "output_type": "stream",
     "text": [
      "Obtendo cotações para MELK3.SA...\n"
     ]
    },
    {
     "name": "stderr",
     "output_type": "stream",
     "text": [
      "[*********************100%%**********************]  1 of 1 completed\n"
     ]
    },
    {
     "name": "stdout",
     "output_type": "stream",
     "text": [
      "Obtendo cotações para MERC3.SA...\n"
     ]
    },
    {
     "name": "stderr",
     "output_type": "stream",
     "text": [
      "[*********************100%%**********************]  1 of 1 completed\n"
     ]
    },
    {
     "name": "stdout",
     "output_type": "stream",
     "text": [
      "Obtendo cotações para MERC4.SA...\n"
     ]
    },
    {
     "name": "stderr",
     "output_type": "stream",
     "text": [
      "[*********************100%%**********************]  1 of 1 completed\n"
     ]
    },
    {
     "name": "stdout",
     "output_type": "stream",
     "text": [
      "Obtendo cotações para MGEL3.SA...\n"
     ]
    },
    {
     "name": "stderr",
     "output_type": "stream",
     "text": [
      "[*********************100%%**********************]  1 of 1 completed\n"
     ]
    },
    {
     "name": "stdout",
     "output_type": "stream",
     "text": [
      "Obtendo cotações para MGEL4.SA...\n"
     ]
    },
    {
     "name": "stderr",
     "output_type": "stream",
     "text": [
      "[*********************100%%**********************]  1 of 1 completed\n"
     ]
    },
    {
     "name": "stdout",
     "output_type": "stream",
     "text": [
      "Obtendo cotações para MGLU3.SA...\n"
     ]
    },
    {
     "name": "stderr",
     "output_type": "stream",
     "text": [
      "[*********************100%%**********************]  1 of 1 completed\n"
     ]
    },
    {
     "name": "stdout",
     "output_type": "stream",
     "text": [
      "Obtendo cotações para MILS3.SA...\n"
     ]
    },
    {
     "name": "stderr",
     "output_type": "stream",
     "text": [
      "[*********************100%%**********************]  1 of 1 completed\n"
     ]
    },
    {
     "name": "stdout",
     "output_type": "stream",
     "text": [
      "Obtendo cotações para MLAS3.SA...\n"
     ]
    },
    {
     "name": "stderr",
     "output_type": "stream",
     "text": [
      "[*********************100%%**********************]  1 of 1 completed\n"
     ]
    },
    {
     "name": "stdout",
     "output_type": "stream",
     "text": [
      "Obtendo cotações para MMAQ3.SA...\n"
     ]
    },
    {
     "name": "stderr",
     "output_type": "stream",
     "text": [
      "[*********************100%%**********************]  1 of 1 completed\n"
     ]
    },
    {
     "name": "stdout",
     "output_type": "stream",
     "text": [
      "Obtendo cotações para MMAQ4.SA...\n"
     ]
    },
    {
     "name": "stderr",
     "output_type": "stream",
     "text": [
      "[*********************100%%**********************]  1 of 1 completed\n"
     ]
    },
    {
     "name": "stdout",
     "output_type": "stream",
     "text": [
      "Obtendo cotações para MNDL3.SA...\n"
     ]
    },
    {
     "name": "stderr",
     "output_type": "stream",
     "text": [
      "[*********************100%%**********************]  1 of 1 completed\n"
     ]
    },
    {
     "name": "stdout",
     "output_type": "stream",
     "text": [
      "Obtendo cotações para MNPR3.SA...\n"
     ]
    },
    {
     "name": "stderr",
     "output_type": "stream",
     "text": [
      "[*********************100%%**********************]  1 of 1 completed\n"
     ]
    },
    {
     "name": "stdout",
     "output_type": "stream",
     "text": [
      "Obtendo cotações para MOAR3.SA...\n"
     ]
    },
    {
     "name": "stderr",
     "output_type": "stream",
     "text": [
      "[*********************100%%**********************]  1 of 1 completed\n"
     ]
    },
    {
     "name": "stdout",
     "output_type": "stream",
     "text": [
      "Obtendo cotações para MOVI3.SA...\n"
     ]
    },
    {
     "name": "stderr",
     "output_type": "stream",
     "text": [
      "[*********************100%%**********************]  1 of 1 completed\n"
     ]
    },
    {
     "name": "stdout",
     "output_type": "stream",
     "text": [
      "Obtendo cotações para MRFG3.SA...\n"
     ]
    },
    {
     "name": "stderr",
     "output_type": "stream",
     "text": [
      "[*********************100%%**********************]  1 of 1 completed\n"
     ]
    },
    {
     "name": "stdout",
     "output_type": "stream",
     "text": [
      "Obtendo cotações para MRSA3B.SA...\n"
     ]
    },
    {
     "name": "stderr",
     "output_type": "stream",
     "text": [
      "[*********************100%%**********************]  1 of 1 completed\n"
     ]
    },
    {
     "name": "stdout",
     "output_type": "stream",
     "text": [
      "Obtendo cotações para MRSA5B.SA...\n"
     ]
    },
    {
     "name": "stderr",
     "output_type": "stream",
     "text": [
      "[*********************100%%**********************]  1 of 1 completed\n"
     ]
    },
    {
     "name": "stdout",
     "output_type": "stream",
     "text": [
      "Obtendo cotações para MRSA6B.SA...\n"
     ]
    },
    {
     "name": "stderr",
     "output_type": "stream",
     "text": [
      "[*********************100%%**********************]  1 of 1 completed\n"
     ]
    },
    {
     "name": "stdout",
     "output_type": "stream",
     "text": [
      "Obtendo cotações para MRVE3.SA...\n"
     ]
    },
    {
     "name": "stderr",
     "output_type": "stream",
     "text": [
      "[*********************100%%**********************]  1 of 1 completed\n"
     ]
    },
    {
     "name": "stdout",
     "output_type": "stream",
     "text": [
      "Obtendo cotações para MSPA3.SA...\n"
     ]
    },
    {
     "name": "stderr",
     "output_type": "stream",
     "text": [
      "[*********************100%%**********************]  1 of 1 completed\n"
     ]
    },
    {
     "name": "stdout",
     "output_type": "stream",
     "text": [
      "Obtendo cotações para MSPA4.SA...\n"
     ]
    },
    {
     "name": "stderr",
     "output_type": "stream",
     "text": [
      "[*********************100%%**********************]  1 of 1 completed\n"
     ]
    },
    {
     "name": "stdout",
     "output_type": "stream",
     "text": [
      "Obtendo cotações para MTRE3.SA...\n"
     ]
    },
    {
     "name": "stderr",
     "output_type": "stream",
     "text": [
      "[*********************100%%**********************]  1 of 1 completed\n"
     ]
    },
    {
     "name": "stdout",
     "output_type": "stream",
     "text": [
      "Obtendo cotações para MTSA4.SA...\n"
     ]
    },
    {
     "name": "stderr",
     "output_type": "stream",
     "text": [
      "[*********************100%%**********************]  1 of 1 completed\n"
     ]
    },
    {
     "name": "stdout",
     "output_type": "stream",
     "text": [
      "Obtendo cotações para MULT3.SA...\n"
     ]
    },
    {
     "name": "stderr",
     "output_type": "stream",
     "text": [
      "[*********************100%%**********************]  1 of 1 completed\n"
     ]
    },
    {
     "name": "stdout",
     "output_type": "stream",
     "text": [
      "Obtendo cotações para MWET3.SA...\n"
     ]
    },
    {
     "name": "stderr",
     "output_type": "stream",
     "text": [
      "[*********************100%%**********************]  1 of 1 completed\n"
     ]
    },
    {
     "name": "stdout",
     "output_type": "stream",
     "text": [
      "Obtendo cotações para MWET4.SA...\n"
     ]
    },
    {
     "name": "stderr",
     "output_type": "stream",
     "text": [
      "[*********************100%%**********************]  1 of 1 completed\n"
     ]
    },
    {
     "name": "stdout",
     "output_type": "stream",
     "text": [
      "Obtendo cotações para MYPK3.SA...\n"
     ]
    },
    {
     "name": "stderr",
     "output_type": "stream",
     "text": [
      "[*********************100%%**********************]  1 of 1 completed\n"
     ]
    },
    {
     "name": "stdout",
     "output_type": "stream",
     "text": [
      "Obtendo cotações para NEOE3.SA...\n"
     ]
    },
    {
     "name": "stderr",
     "output_type": "stream",
     "text": [
      "[*********************100%%**********************]  1 of 1 completed\n"
     ]
    },
    {
     "name": "stdout",
     "output_type": "stream",
     "text": [
      "Obtendo cotações para NEXP3.SA...\n"
     ]
    },
    {
     "name": "stderr",
     "output_type": "stream",
     "text": [
      "[*********************100%%**********************]  1 of 1 completed\n"
     ]
    },
    {
     "name": "stdout",
     "output_type": "stream",
     "text": [
      "Obtendo cotações para NGRD3.SA...\n"
     ]
    },
    {
     "name": "stderr",
     "output_type": "stream",
     "text": [
      "[*********************100%%**********************]  1 of 1 completed\n"
     ]
    },
    {
     "name": "stdout",
     "output_type": "stream",
     "text": [
      "Obtendo cotações para NINJ3.SA...\n"
     ]
    },
    {
     "name": "stderr",
     "output_type": "stream",
     "text": [
      "[*********************100%%**********************]  1 of 1 completed\n"
     ]
    },
    {
     "name": "stdout",
     "output_type": "stream",
     "text": [
      "Obtendo cotações para NORD3.SA...\n"
     ]
    },
    {
     "name": "stderr",
     "output_type": "stream",
     "text": [
      "[*********************100%%**********************]  1 of 1 completed\n"
     ]
    },
    {
     "name": "stdout",
     "output_type": "stream",
     "text": [
      "Obtendo cotações para NTCO3.SA...\n"
     ]
    },
    {
     "name": "stderr",
     "output_type": "stream",
     "text": [
      "[*********************100%%**********************]  1 of 1 completed\n"
     ]
    },
    {
     "name": "stdout",
     "output_type": "stream",
     "text": [
      "Obtendo cotações para NUTR3.SA...\n"
     ]
    },
    {
     "name": "stderr",
     "output_type": "stream",
     "text": [
      "[*********************100%%**********************]  1 of 1 completed\n"
     ]
    },
    {
     "name": "stdout",
     "output_type": "stream",
     "text": [
      "Obtendo cotações para ODER4.SA...\n"
     ]
    },
    {
     "name": "stderr",
     "output_type": "stream",
     "text": [
      "[*********************100%%**********************]  1 of 1 completed\n"
     ]
    },
    {
     "name": "stdout",
     "output_type": "stream",
     "text": [
      "Obtendo cotações para ODPV3.SA...\n"
     ]
    },
    {
     "name": "stderr",
     "output_type": "stream",
     "text": [
      "[*********************100%%**********************]  1 of 1 completed\n"
     ]
    },
    {
     "name": "stdout",
     "output_type": "stream",
     "text": [
      "Obtendo cotações para OFSA3.SA...\n"
     ]
    },
    {
     "name": "stderr",
     "output_type": "stream",
     "text": [
      "[*********************100%%**********************]  1 of 1 completed\n"
     ]
    },
    {
     "name": "stdout",
     "output_type": "stream",
     "text": [
      "Obtendo cotações para OIBR3.SA...\n"
     ]
    },
    {
     "name": "stderr",
     "output_type": "stream",
     "text": [
      "[*********************100%%**********************]  1 of 1 completed\n"
     ]
    },
    {
     "name": "stdout",
     "output_type": "stream",
     "text": [
      "Obtendo cotações para OIBR4.SA...\n"
     ]
    },
    {
     "name": "stderr",
     "output_type": "stream",
     "text": [
      "[*********************100%%**********************]  1 of 1 completed\n"
     ]
    },
    {
     "name": "stdout",
     "output_type": "stream",
     "text": [
      "Obtendo cotações para ONCO3.SA...\n"
     ]
    },
    {
     "name": "stderr",
     "output_type": "stream",
     "text": [
      "[*********************100%%**********************]  1 of 1 completed\n"
     ]
    },
    {
     "name": "stdout",
     "output_type": "stream",
     "text": [
      "Obtendo cotações para OPCT3.SA...\n"
     ]
    },
    {
     "name": "stderr",
     "output_type": "stream",
     "text": [
      "[*********************100%%**********************]  1 of 1 completed\n"
     ]
    },
    {
     "name": "stdout",
     "output_type": "stream",
     "text": [
      "Obtendo cotações para ORVR3.SA...\n"
     ]
    },
    {
     "name": "stderr",
     "output_type": "stream",
     "text": [
      "[*********************100%%**********************]  1 of 1 completed\n"
     ]
    },
    {
     "name": "stdout",
     "output_type": "stream",
     "text": [
      "Obtendo cotações para OSXB3.SA...\n"
     ]
    },
    {
     "name": "stderr",
     "output_type": "stream",
     "text": [
      "[*********************100%%**********************]  1 of 1 completed\n"
     ]
    },
    {
     "name": "stdout",
     "output_type": "stream",
     "text": [
      "Obtendo cotações para PATI3.SA...\n"
     ]
    },
    {
     "name": "stderr",
     "output_type": "stream",
     "text": [
      "[*********************100%%**********************]  1 of 1 completed\n"
     ]
    },
    {
     "name": "stdout",
     "output_type": "stream",
     "text": [
      "Obtendo cotações para PATI4.SA...\n"
     ]
    },
    {
     "name": "stderr",
     "output_type": "stream",
     "text": [
      "[*********************100%%**********************]  1 of 1 completed\n"
     ]
    },
    {
     "name": "stdout",
     "output_type": "stream",
     "text": [
      "Obtendo cotações para PCAR3.SA...\n"
     ]
    },
    {
     "name": "stderr",
     "output_type": "stream",
     "text": [
      "[*********************100%%**********************]  1 of 1 completed\n"
     ]
    },
    {
     "name": "stdout",
     "output_type": "stream",
     "text": [
      "Obtendo cotações para PDGR3.SA...\n"
     ]
    },
    {
     "name": "stderr",
     "output_type": "stream",
     "text": [
      "[*********************100%%**********************]  1 of 1 completed\n"
     ]
    },
    {
     "name": "stdout",
     "output_type": "stream",
     "text": [
      "Obtendo cotações para PDTC3.SA...\n"
     ]
    },
    {
     "name": "stderr",
     "output_type": "stream",
     "text": [
      "[*********************100%%**********************]  1 of 1 completed\n"
     ]
    },
    {
     "name": "stdout",
     "output_type": "stream",
     "text": [
      "Obtendo cotações para PEAB3.SA...\n"
     ]
    },
    {
     "name": "stderr",
     "output_type": "stream",
     "text": [
      "[*********************100%%**********************]  1 of 1 completed\n"
     ]
    },
    {
     "name": "stdout",
     "output_type": "stream",
     "text": [
      "Obtendo cotações para PEAB4.SA...\n"
     ]
    },
    {
     "name": "stderr",
     "output_type": "stream",
     "text": [
      "[*********************100%%**********************]  1 of 1 completed\n"
     ]
    },
    {
     "name": "stdout",
     "output_type": "stream",
     "text": [
      "Obtendo cotações para PETR3.SA...\n"
     ]
    },
    {
     "name": "stderr",
     "output_type": "stream",
     "text": [
      "[*********************100%%**********************]  1 of 1 completed\n"
     ]
    },
    {
     "name": "stdout",
     "output_type": "stream",
     "text": [
      "Obtendo cotações para PETR4.SA...\n"
     ]
    },
    {
     "name": "stderr",
     "output_type": "stream",
     "text": [
      "[*********************100%%**********************]  1 of 1 completed\n"
     ]
    },
    {
     "name": "stdout",
     "output_type": "stream",
     "text": [
      "Obtendo cotações para PETZ3.SA...\n"
     ]
    },
    {
     "name": "stderr",
     "output_type": "stream",
     "text": [
      "[*********************100%%**********************]  1 of 1 completed\n"
     ]
    },
    {
     "name": "stdout",
     "output_type": "stream",
     "text": [
      "Obtendo cotações para PFRM3.SA...\n"
     ]
    },
    {
     "name": "stderr",
     "output_type": "stream",
     "text": [
      "[*********************100%%**********************]  1 of 1 completed\n"
     ]
    },
    {
     "name": "stdout",
     "output_type": "stream",
     "text": [
      "Obtendo cotações para PGMN3.SA...\n"
     ]
    },
    {
     "name": "stderr",
     "output_type": "stream",
     "text": [
      "[*********************100%%**********************]  1 of 1 completed\n"
     ]
    },
    {
     "name": "stdout",
     "output_type": "stream",
     "text": [
      "Obtendo cotações para PINE3.SA...\n"
     ]
    },
    {
     "name": "stderr",
     "output_type": "stream",
     "text": [
      "[*********************100%%**********************]  1 of 1 completed\n"
     ]
    },
    {
     "name": "stdout",
     "output_type": "stream",
     "text": [
      "Obtendo cotações para PINE4.SA...\n"
     ]
    },
    {
     "name": "stderr",
     "output_type": "stream",
     "text": [
      "[*********************100%%**********************]  1 of 1 completed\n"
     ]
    },
    {
     "name": "stdout",
     "output_type": "stream",
     "text": [
      "Obtendo cotações para PLAS3.SA...\n"
     ]
    },
    {
     "name": "stderr",
     "output_type": "stream",
     "text": [
      "[*********************100%%**********************]  1 of 1 completed\n"
     ]
    },
    {
     "name": "stdout",
     "output_type": "stream",
     "text": [
      "Obtendo cotações para PLPL3.SA...\n"
     ]
    },
    {
     "name": "stderr",
     "output_type": "stream",
     "text": [
      "[*********************100%%**********************]  1 of 1 completed\n"
     ]
    },
    {
     "name": "stdout",
     "output_type": "stream",
     "text": [
      "Obtendo cotações para PMAM3.SA...\n"
     ]
    },
    {
     "name": "stderr",
     "output_type": "stream",
     "text": [
      "[*********************100%%**********************]  1 of 1 completed\n"
     ]
    },
    {
     "name": "stdout",
     "output_type": "stream",
     "text": [
      "Obtendo cotações para PNVL3.SA...\n"
     ]
    },
    {
     "name": "stderr",
     "output_type": "stream",
     "text": [
      "[*********************100%%**********************]  1 of 1 completed\n"
     ]
    },
    {
     "name": "stdout",
     "output_type": "stream",
     "text": [
      "Obtendo cotações para POMO3.SA...\n"
     ]
    },
    {
     "name": "stderr",
     "output_type": "stream",
     "text": [
      "[*********************100%%**********************]  1 of 1 completed\n"
     ]
    },
    {
     "name": "stdout",
     "output_type": "stream",
     "text": [
      "Obtendo cotações para POMO4.SA...\n"
     ]
    },
    {
     "name": "stderr",
     "output_type": "stream",
     "text": [
      "[*********************100%%**********************]  1 of 1 completed\n"
     ]
    },
    {
     "name": "stdout",
     "output_type": "stream",
     "text": [
      "Obtendo cotações para PORT3.SA...\n"
     ]
    },
    {
     "name": "stderr",
     "output_type": "stream",
     "text": [
      "[*********************100%%**********************]  1 of 1 completed\n"
     ]
    },
    {
     "name": "stdout",
     "output_type": "stream",
     "text": [
      "Obtendo cotações para POSI3.SA...\n"
     ]
    },
    {
     "name": "stderr",
     "output_type": "stream",
     "text": [
      "[*********************100%%**********************]  1 of 1 completed\n"
     ]
    },
    {
     "name": "stdout",
     "output_type": "stream",
     "text": [
      "Obtendo cotações para PRIO3.SA...\n"
     ]
    },
    {
     "name": "stderr",
     "output_type": "stream",
     "text": [
      "[*********************100%%**********************]  1 of 1 completed\n"
     ]
    },
    {
     "name": "stdout",
     "output_type": "stream",
     "text": [
      "Obtendo cotações para PRNR3.SA...\n"
     ]
    },
    {
     "name": "stderr",
     "output_type": "stream",
     "text": [
      "[*********************100%%**********************]  1 of 1 completed\n"
     ]
    },
    {
     "name": "stdout",
     "output_type": "stream",
     "text": [
      "Obtendo cotações para PSSA3.SA...\n"
     ]
    },
    {
     "name": "stderr",
     "output_type": "stream",
     "text": [
      "[*********************100%%**********************]  1 of 1 completed\n"
     ]
    },
    {
     "name": "stdout",
     "output_type": "stream",
     "text": [
      "Obtendo cotações para PTBL3.SA...\n"
     ]
    },
    {
     "name": "stderr",
     "output_type": "stream",
     "text": [
      "[*********************100%%**********************]  1 of 1 completed\n"
     ]
    },
    {
     "name": "stdout",
     "output_type": "stream",
     "text": [
      "Obtendo cotações para PTNT3.SA...\n"
     ]
    },
    {
     "name": "stderr",
     "output_type": "stream",
     "text": [
      "[*********************100%%**********************]  1 of 1 completed\n"
     ]
    },
    {
     "name": "stdout",
     "output_type": "stream",
     "text": [
      "Obtendo cotações para PTNT4.SA...\n"
     ]
    },
    {
     "name": "stderr",
     "output_type": "stream",
     "text": [
      "[*********************100%%**********************]  1 of 1 completed\n"
     ]
    },
    {
     "name": "stdout",
     "output_type": "stream",
     "text": [
      "Obtendo cotações para QUAL3.SA...\n"
     ]
    },
    {
     "name": "stderr",
     "output_type": "stream",
     "text": [
      "[*********************100%%**********************]  1 of 1 completed\n"
     ]
    },
    {
     "name": "stdout",
     "output_type": "stream",
     "text": [
      "Obtendo cotações para RADL3.SA...\n"
     ]
    },
    {
     "name": "stderr",
     "output_type": "stream",
     "text": [
      "[*********************100%%**********************]  1 of 1 completed\n"
     ]
    },
    {
     "name": "stdout",
     "output_type": "stream",
     "text": [
      "Obtendo cotações para RAIL3.SA...\n"
     ]
    },
    {
     "name": "stderr",
     "output_type": "stream",
     "text": [
      "[*********************100%%**********************]  1 of 1 completed\n"
     ]
    },
    {
     "name": "stdout",
     "output_type": "stream",
     "text": [
      "Obtendo cotações para RAIZ4.SA...\n"
     ]
    },
    {
     "name": "stderr",
     "output_type": "stream",
     "text": [
      "[*********************100%%**********************]  1 of 1 completed\n"
     ]
    },
    {
     "name": "stdout",
     "output_type": "stream",
     "text": [
      "Obtendo cotações para RANI3.SA...\n"
     ]
    },
    {
     "name": "stderr",
     "output_type": "stream",
     "text": [
      "[*********************100%%**********************]  1 of 1 completed\n"
     ]
    },
    {
     "name": "stdout",
     "output_type": "stream",
     "text": [
      "Obtendo cotações para RAPT3.SA...\n"
     ]
    },
    {
     "name": "stderr",
     "output_type": "stream",
     "text": [
      "[*********************100%%**********************]  1 of 1 completed\n"
     ]
    },
    {
     "name": "stdout",
     "output_type": "stream",
     "text": [
      "Obtendo cotações para RAPT4.SA...\n"
     ]
    },
    {
     "name": "stderr",
     "output_type": "stream",
     "text": [
      "[*********************100%%**********************]  1 of 1 completed\n"
     ]
    },
    {
     "name": "stdout",
     "output_type": "stream",
     "text": [
      "Obtendo cotações para RCSL3.SA...\n"
     ]
    },
    {
     "name": "stderr",
     "output_type": "stream",
     "text": [
      "[*********************100%%**********************]  1 of 1 completed\n"
     ]
    },
    {
     "name": "stdout",
     "output_type": "stream",
     "text": [
      "Obtendo cotações para RCSL4.SA...\n"
     ]
    },
    {
     "name": "stderr",
     "output_type": "stream",
     "text": [
      "[*********************100%%**********************]  1 of 1 completed\n"
     ]
    },
    {
     "name": "stdout",
     "output_type": "stream",
     "text": [
      "Obtendo cotações para RDNI3.SA...\n"
     ]
    },
    {
     "name": "stderr",
     "output_type": "stream",
     "text": [
      "[*********************100%%**********************]  1 of 1 completed\n"
     ]
    },
    {
     "name": "stdout",
     "output_type": "stream",
     "text": [
      "Obtendo cotações para RDOR3.SA...\n"
     ]
    },
    {
     "name": "stderr",
     "output_type": "stream",
     "text": [
      "[*********************100%%**********************]  1 of 1 completed\n"
     ]
    },
    {
     "name": "stdout",
     "output_type": "stream",
     "text": [
      "Obtendo cotações para RECV3.SA...\n"
     ]
    },
    {
     "name": "stderr",
     "output_type": "stream",
     "text": [
      "[*********************100%%**********************]  1 of 1 completed\n"
     ]
    },
    {
     "name": "stdout",
     "output_type": "stream",
     "text": [
      "Obtendo cotações para REDE3.SA...\n"
     ]
    },
    {
     "name": "stderr",
     "output_type": "stream",
     "text": [
      "[*********************100%%**********************]  1 of 1 completed\n"
     ]
    },
    {
     "name": "stdout",
     "output_type": "stream",
     "text": [
      "Obtendo cotações para RENT3.SA...\n"
     ]
    },
    {
     "name": "stderr",
     "output_type": "stream",
     "text": [
      "[*********************100%%**********************]  1 of 1 completed\n"
     ]
    },
    {
     "name": "stdout",
     "output_type": "stream",
     "text": [
      "Obtendo cotações para RNEW11.SA...\n"
     ]
    },
    {
     "name": "stderr",
     "output_type": "stream",
     "text": [
      "[*********************100%%**********************]  1 of 1 completed\n"
     ]
    },
    {
     "name": "stdout",
     "output_type": "stream",
     "text": [
      "Obtendo cotações para RNEW3.SA...\n"
     ]
    },
    {
     "name": "stderr",
     "output_type": "stream",
     "text": [
      "[*********************100%%**********************]  1 of 1 completed\n"
     ]
    },
    {
     "name": "stdout",
     "output_type": "stream",
     "text": [
      "Obtendo cotações para RNEW4.SA...\n"
     ]
    },
    {
     "name": "stderr",
     "output_type": "stream",
     "text": [
      "[*********************100%%**********************]  1 of 1 completed\n"
     ]
    },
    {
     "name": "stdout",
     "output_type": "stream",
     "text": [
      "Obtendo cotações para ROMI3.SA...\n"
     ]
    },
    {
     "name": "stderr",
     "output_type": "stream",
     "text": [
      "[*********************100%%**********************]  1 of 1 completed\n"
     ]
    },
    {
     "name": "stdout",
     "output_type": "stream",
     "text": [
      "Obtendo cotações para RPAD3.SA...\n"
     ]
    },
    {
     "name": "stderr",
     "output_type": "stream",
     "text": [
      "[*********************100%%**********************]  1 of 1 completed\n"
     ]
    },
    {
     "name": "stdout",
     "output_type": "stream",
     "text": [
      "Obtendo cotações para RPAD5.SA...\n"
     ]
    },
    {
     "name": "stderr",
     "output_type": "stream",
     "text": [
      "[*********************100%%**********************]  1 of 1 completed\n"
     ]
    },
    {
     "name": "stdout",
     "output_type": "stream",
     "text": [
      "Obtendo cotações para RPAD6.SA...\n"
     ]
    },
    {
     "name": "stderr",
     "output_type": "stream",
     "text": [
      "[*********************100%%**********************]  1 of 1 completed\n"
     ]
    },
    {
     "name": "stdout",
     "output_type": "stream",
     "text": [
      "Obtendo cotações para RPMG3.SA...\n"
     ]
    },
    {
     "name": "stderr",
     "output_type": "stream",
     "text": [
      "[*********************100%%**********************]  1 of 1 completed\n"
     ]
    },
    {
     "name": "stdout",
     "output_type": "stream",
     "text": [
      "Obtendo cotações para RRRP3.SA...\n"
     ]
    },
    {
     "name": "stderr",
     "output_type": "stream",
     "text": [
      "[*********************100%%**********************]  1 of 1 completed\n"
     ]
    },
    {
     "name": "stdout",
     "output_type": "stream",
     "text": [
      "Obtendo cotações para RSID3.SA...\n"
     ]
    },
    {
     "name": "stderr",
     "output_type": "stream",
     "text": [
      "[*********************100%%**********************]  1 of 1 completed\n"
     ]
    },
    {
     "name": "stdout",
     "output_type": "stream",
     "text": [
      "Obtendo cotações para RSUL4.SA...\n"
     ]
    },
    {
     "name": "stderr",
     "output_type": "stream",
     "text": [
      "[*********************100%%**********************]  1 of 1 completed\n"
     ]
    },
    {
     "name": "stdout",
     "output_type": "stream",
     "text": [
      "Obtendo cotações para SANB11.SA...\n"
     ]
    },
    {
     "name": "stderr",
     "output_type": "stream",
     "text": [
      "[*********************100%%**********************]  1 of 1 completed\n"
     ]
    },
    {
     "name": "stdout",
     "output_type": "stream",
     "text": [
      "Obtendo cotações para SANB3.SA...\n"
     ]
    },
    {
     "name": "stderr",
     "output_type": "stream",
     "text": [
      "[*********************100%%**********************]  1 of 1 completed\n"
     ]
    },
    {
     "name": "stdout",
     "output_type": "stream",
     "text": [
      "Obtendo cotações para SANB4.SA...\n"
     ]
    },
    {
     "name": "stderr",
     "output_type": "stream",
     "text": [
      "[*********************100%%**********************]  1 of 1 completed\n"
     ]
    },
    {
     "name": "stdout",
     "output_type": "stream",
     "text": [
      "Obtendo cotações para SAPR11.SA...\n"
     ]
    },
    {
     "name": "stderr",
     "output_type": "stream",
     "text": [
      "[*********************100%%**********************]  1 of 1 completed\n"
     ]
    },
    {
     "name": "stdout",
     "output_type": "stream",
     "text": [
      "Obtendo cotações para SAPR3.SA...\n"
     ]
    },
    {
     "name": "stderr",
     "output_type": "stream",
     "text": [
      "[*********************100%%**********************]  1 of 1 completed\n"
     ]
    },
    {
     "name": "stdout",
     "output_type": "stream",
     "text": [
      "Obtendo cotações para SAPR4.SA...\n"
     ]
    },
    {
     "name": "stderr",
     "output_type": "stream",
     "text": [
      "[*********************100%%**********************]  1 of 1 completed\n"
     ]
    },
    {
     "name": "stdout",
     "output_type": "stream",
     "text": [
      "Obtendo cotações para SBFG3.SA...\n"
     ]
    },
    {
     "name": "stderr",
     "output_type": "stream",
     "text": [
      "[*********************100%%**********************]  1 of 1 completed\n"
     ]
    },
    {
     "name": "stdout",
     "output_type": "stream",
     "text": [
      "Obtendo cotações para SBSP3.SA...\n"
     ]
    },
    {
     "name": "stderr",
     "output_type": "stream",
     "text": [
      "[*********************100%%**********************]  1 of 1 completed\n"
     ]
    },
    {
     "name": "stdout",
     "output_type": "stream",
     "text": [
      "Obtendo cotações para SCAR3.SA...\n"
     ]
    },
    {
     "name": "stderr",
     "output_type": "stream",
     "text": [
      "[*********************100%%**********************]  1 of 1 completed\n"
     ]
    },
    {
     "name": "stdout",
     "output_type": "stream",
     "text": [
      "Obtendo cotações para SCLO3.SA...\n"
     ]
    },
    {
     "name": "stderr",
     "output_type": "stream",
     "text": [
      "[*********************100%%**********************]  1 of 1 completed\n"
     ]
    },
    {
     "name": "stdout",
     "output_type": "stream",
     "text": [
      "Obtendo cotações para SCLO4.SA...\n"
     ]
    },
    {
     "name": "stderr",
     "output_type": "stream",
     "text": [
      "[*********************100%%**********************]  1 of 1 completed\n"
     ]
    },
    {
     "name": "stdout",
     "output_type": "stream",
     "text": [
      "Obtendo cotações para SEER3.SA...\n"
     ]
    },
    {
     "name": "stderr",
     "output_type": "stream",
     "text": [
      "[*********************100%%**********************]  1 of 1 completed\n"
     ]
    },
    {
     "name": "stdout",
     "output_type": "stream",
     "text": [
      "Obtendo cotações para SEQL3.SA...\n"
     ]
    },
    {
     "name": "stderr",
     "output_type": "stream",
     "text": [
      "[*********************100%%**********************]  1 of 1 completed\n"
     ]
    },
    {
     "name": "stdout",
     "output_type": "stream",
     "text": [
      "Obtendo cotações para SHOW3.SA...\n"
     ]
    },
    {
     "name": "stderr",
     "output_type": "stream",
     "text": [
      "[*********************100%%**********************]  1 of 1 completed\n"
     ]
    },
    {
     "name": "stdout",
     "output_type": "stream",
     "text": [
      "Obtendo cotações para SHUL4.SA...\n"
     ]
    },
    {
     "name": "stderr",
     "output_type": "stream",
     "text": [
      "[*********************100%%**********************]  1 of 1 completed\n"
     ]
    },
    {
     "name": "stdout",
     "output_type": "stream",
     "text": [
      "Obtendo cotações para SIMH3.SA...\n"
     ]
    },
    {
     "name": "stderr",
     "output_type": "stream",
     "text": [
      "[*********************100%%**********************]  1 of 1 completed\n"
     ]
    },
    {
     "name": "stdout",
     "output_type": "stream",
     "text": [
      "Obtendo cotações para SJOS3.SA...\n"
     ]
    },
    {
     "name": "stderr",
     "output_type": "stream",
     "text": [
      "[*********************100%%**********************]  1 of 1 completed\n"
     ]
    },
    {
     "name": "stdout",
     "output_type": "stream",
     "text": [
      "Obtendo cotações para SJOS4.SA...\n"
     ]
    },
    {
     "name": "stderr",
     "output_type": "stream",
     "text": [
      "[*********************100%%**********************]  1 of 1 completed\n"
     ]
    },
    {
     "name": "stdout",
     "output_type": "stream",
     "text": [
      "Obtendo cotações para SLCE3.SA...\n"
     ]
    },
    {
     "name": "stderr",
     "output_type": "stream",
     "text": [
      "[*********************100%%**********************]  1 of 1 completed\n"
     ]
    },
    {
     "name": "stdout",
     "output_type": "stream",
     "text": [
      "Obtendo cotações para SLED3.SA...\n"
     ]
    },
    {
     "name": "stderr",
     "output_type": "stream",
     "text": [
      "[*********************100%%**********************]  1 of 1 completed\n"
     ]
    },
    {
     "name": "stdout",
     "output_type": "stream",
     "text": [
      "Obtendo cotações para SLED4.SA...\n"
     ]
    },
    {
     "name": "stderr",
     "output_type": "stream",
     "text": [
      "[*********************100%%**********************]  1 of 1 completed\n"
     ]
    },
    {
     "name": "stdout",
     "output_type": "stream",
     "text": [
      "Obtendo cotações para SMFT3.SA...\n"
     ]
    },
    {
     "name": "stderr",
     "output_type": "stream",
     "text": [
      "[*********************100%%**********************]  1 of 1 completed\n"
     ]
    },
    {
     "name": "stdout",
     "output_type": "stream",
     "text": [
      "Obtendo cotações para SMTO3.SA...\n"
     ]
    },
    {
     "name": "stderr",
     "output_type": "stream",
     "text": [
      "[*********************100%%**********************]  1 of 1 completed\n"
     ]
    },
    {
     "name": "stdout",
     "output_type": "stream",
     "text": [
      "Obtendo cotações para SNSY5.SA...\n"
     ]
    },
    {
     "name": "stderr",
     "output_type": "stream",
     "text": [
      "[*********************100%%**********************]  1 of 1 completed\n"
     ]
    },
    {
     "name": "stdout",
     "output_type": "stream",
     "text": [
      "Obtendo cotações para SOJA3.SA...\n"
     ]
    },
    {
     "name": "stderr",
     "output_type": "stream",
     "text": [
      "[*********************100%%**********************]  1 of 1 completed\n"
     ]
    },
    {
     "name": "stdout",
     "output_type": "stream",
     "text": [
      "Obtendo cotações para SOMA3.SA...\n"
     ]
    },
    {
     "name": "stderr",
     "output_type": "stream",
     "text": [
      "[*********************100%%**********************]  1 of 1 completed\n"
     ]
    },
    {
     "name": "stdout",
     "output_type": "stream",
     "text": [
      "Obtendo cotações para SOND3.SA...\n"
     ]
    },
    {
     "name": "stderr",
     "output_type": "stream",
     "text": [
      "[*********************100%%**********************]  1 of 1 completed\n"
     ]
    },
    {
     "name": "stdout",
     "output_type": "stream",
     "text": [
      "Obtendo cotações para SOND5.SA...\n"
     ]
    },
    {
     "name": "stderr",
     "output_type": "stream",
     "text": [
      "[*********************100%%**********************]  1 of 1 completed\n"
     ]
    },
    {
     "name": "stdout",
     "output_type": "stream",
     "text": [
      "Obtendo cotações para SOND6.SA...\n"
     ]
    },
    {
     "name": "stderr",
     "output_type": "stream",
     "text": [
      "[*********************100%%**********************]  1 of 1 completed\n"
     ]
    },
    {
     "name": "stdout",
     "output_type": "stream",
     "text": [
      "Obtendo cotações para SRNA3.SA...\n"
     ]
    },
    {
     "name": "stderr",
     "output_type": "stream",
     "text": [
      "[*********************100%%**********************]  1 of 1 completed\n"
     ]
    },
    {
     "name": "stdout",
     "output_type": "stream",
     "text": [
      "Obtendo cotações para STBP3.SA...\n"
     ]
    },
    {
     "name": "stderr",
     "output_type": "stream",
     "text": [
      "[*********************100%%**********************]  1 of 1 completed\n"
     ]
    },
    {
     "name": "stdout",
     "output_type": "stream",
     "text": [
      "Obtendo cotações para SULT3.SA...\n"
     ]
    },
    {
     "name": "stderr",
     "output_type": "stream",
     "text": [
      "[*********************100%%**********************]  1 of 1 completed\n"
     ]
    },
    {
     "name": "stdout",
     "output_type": "stream",
     "text": [
      "Obtendo cotações para SULT4.SA...\n"
     ]
    },
    {
     "name": "stderr",
     "output_type": "stream",
     "text": [
      "[*********************100%%**********************]  1 of 1 completed\n"
     ]
    },
    {
     "name": "stdout",
     "output_type": "stream",
     "text": [
      "Obtendo cotações para SUZB3.SA...\n"
     ]
    },
    {
     "name": "stderr",
     "output_type": "stream",
     "text": [
      "[*********************100%%**********************]  1 of 1 completed\n"
     ]
    },
    {
     "name": "stdout",
     "output_type": "stream",
     "text": [
      "Obtendo cotações para SYNE3.SA...\n"
     ]
    },
    {
     "name": "stderr",
     "output_type": "stream",
     "text": [
      "[*********************100%%**********************]  1 of 1 completed\n"
     ]
    },
    {
     "name": "stdout",
     "output_type": "stream",
     "text": [
      "Obtendo cotações para TAEE11.SA...\n"
     ]
    },
    {
     "name": "stderr",
     "output_type": "stream",
     "text": [
      "[*********************100%%**********************]  1 of 1 completed\n"
     ]
    },
    {
     "name": "stdout",
     "output_type": "stream",
     "text": [
      "Obtendo cotações para TAEE3.SA...\n"
     ]
    },
    {
     "name": "stderr",
     "output_type": "stream",
     "text": [
      "[*********************100%%**********************]  1 of 1 completed\n"
     ]
    },
    {
     "name": "stdout",
     "output_type": "stream",
     "text": [
      "Obtendo cotações para TAEE4.SA...\n"
     ]
    },
    {
     "name": "stderr",
     "output_type": "stream",
     "text": [
      "[*********************100%%**********************]  1 of 1 completed\n"
     ]
    },
    {
     "name": "stdout",
     "output_type": "stream",
     "text": [
      "Obtendo cotações para TASA3.SA...\n"
     ]
    },
    {
     "name": "stderr",
     "output_type": "stream",
     "text": [
      "[*********************100%%**********************]  1 of 1 completed\n"
     ]
    },
    {
     "name": "stdout",
     "output_type": "stream",
     "text": [
      "Obtendo cotações para TASA4.SA...\n"
     ]
    },
    {
     "name": "stderr",
     "output_type": "stream",
     "text": [
      "[*********************100%%**********************]  1 of 1 completed\n"
     ]
    },
    {
     "name": "stdout",
     "output_type": "stream",
     "text": [
      "Obtendo cotações para TCSA3.SA...\n"
     ]
    },
    {
     "name": "stderr",
     "output_type": "stream",
     "text": [
      "[*********************100%%**********************]  1 of 1 completed\n"
     ]
    },
    {
     "name": "stdout",
     "output_type": "stream",
     "text": [
      "Obtendo cotações para TECN3.SA...\n"
     ]
    },
    {
     "name": "stderr",
     "output_type": "stream",
     "text": [
      "[*********************100%%**********************]  1 of 1 completed\n"
     ]
    },
    {
     "name": "stdout",
     "output_type": "stream",
     "text": [
      "Obtendo cotações para TEKA3.SA...\n"
     ]
    },
    {
     "name": "stderr",
     "output_type": "stream",
     "text": [
      "[*********************100%%**********************]  1 of 1 completed\n"
     ]
    },
    {
     "name": "stdout",
     "output_type": "stream",
     "text": [
      "Obtendo cotações para TEKA4.SA...\n"
     ]
    },
    {
     "name": "stderr",
     "output_type": "stream",
     "text": [
      "[*********************100%%**********************]  1 of 1 completed\n"
     ]
    },
    {
     "name": "stdout",
     "output_type": "stream",
     "text": [
      "Obtendo cotações para TELB3.SA...\n"
     ]
    },
    {
     "name": "stderr",
     "output_type": "stream",
     "text": [
      "[*********************100%%**********************]  1 of 1 completed\n"
     ]
    },
    {
     "name": "stdout",
     "output_type": "stream",
     "text": [
      "Obtendo cotações para TELB4.SA...\n"
     ]
    },
    {
     "name": "stderr",
     "output_type": "stream",
     "text": [
      "[*********************100%%**********************]  1 of 1 completed\n"
     ]
    },
    {
     "name": "stdout",
     "output_type": "stream",
     "text": [
      "Obtendo cotações para TEND3.SA...\n"
     ]
    },
    {
     "name": "stderr",
     "output_type": "stream",
     "text": [
      "[*********************100%%**********************]  1 of 1 completed\n"
     ]
    },
    {
     "name": "stdout",
     "output_type": "stream",
     "text": [
      "Obtendo cotações para TENE5.SA...\n"
     ]
    },
    {
     "name": "stderr",
     "output_type": "stream",
     "text": [
      "[*********************100%%**********************]  1 of 1 completed\n"
     ]
    },
    {
     "name": "stdout",
     "output_type": "stream",
     "text": [
      "Obtendo cotações para TFCO4.SA...\n"
     ]
    },
    {
     "name": "stderr",
     "output_type": "stream",
     "text": [
      "[*********************100%%**********************]  1 of 1 completed\n"
     ]
    },
    {
     "name": "stdout",
     "output_type": "stream",
     "text": [
      "Obtendo cotações para TGMA3.SA...\n"
     ]
    },
    {
     "name": "stderr",
     "output_type": "stream",
     "text": [
      "[*********************100%%**********************]  1 of 1 completed\n"
     ]
    },
    {
     "name": "stdout",
     "output_type": "stream",
     "text": [
      "Obtendo cotações para TIMS3.SA...\n"
     ]
    },
    {
     "name": "stderr",
     "output_type": "stream",
     "text": [
      "[*********************100%%**********************]  1 of 1 completed\n"
     ]
    },
    {
     "name": "stdout",
     "output_type": "stream",
     "text": [
      "Obtendo cotações para TKNO4.SA...\n"
     ]
    },
    {
     "name": "stderr",
     "output_type": "stream",
     "text": [
      "[*********************100%%**********************]  1 of 1 completed\n"
     ]
    },
    {
     "name": "stdout",
     "output_type": "stream",
     "text": [
      "Obtendo cotações para TOTS3.SA...\n"
     ]
    },
    {
     "name": "stderr",
     "output_type": "stream",
     "text": [
      "[*********************100%%**********************]  1 of 1 completed\n"
     ]
    },
    {
     "name": "stdout",
     "output_type": "stream",
     "text": [
      "Obtendo cotações para TPIS3.SA...\n"
     ]
    },
    {
     "name": "stderr",
     "output_type": "stream",
     "text": [
      "[*********************100%%**********************]  1 of 1 completed\n"
     ]
    },
    {
     "name": "stdout",
     "output_type": "stream",
     "text": [
      "Obtendo cotações para TRAD3.SA...\n"
     ]
    },
    {
     "name": "stderr",
     "output_type": "stream",
     "text": [
      "[*********************100%%**********************]  1 of 1 completed\n"
     ]
    },
    {
     "name": "stdout",
     "output_type": "stream",
     "text": [
      "Obtendo cotações para TRIS3.SA...\n"
     ]
    },
    {
     "name": "stderr",
     "output_type": "stream",
     "text": [
      "[*********************100%%**********************]  1 of 1 completed\n"
     ]
    },
    {
     "name": "stdout",
     "output_type": "stream",
     "text": [
      "Obtendo cotações para TRPL3.SA...\n"
     ]
    },
    {
     "name": "stderr",
     "output_type": "stream",
     "text": [
      "[*********************100%%**********************]  1 of 1 completed\n"
     ]
    },
    {
     "name": "stdout",
     "output_type": "stream",
     "text": [
      "Obtendo cotações para TRPL4.SA...\n"
     ]
    },
    {
     "name": "stderr",
     "output_type": "stream",
     "text": [
      "[*********************100%%**********************]  1 of 1 completed\n"
     ]
    },
    {
     "name": "stdout",
     "output_type": "stream",
     "text": [
      "Obtendo cotações para TTEN3.SA...\n"
     ]
    },
    {
     "name": "stderr",
     "output_type": "stream",
     "text": [
      "[*********************100%%**********************]  1 of 1 completed\n"
     ]
    },
    {
     "name": "stdout",
     "output_type": "stream",
     "text": [
      "Obtendo cotações para TUPY3.SA...\n"
     ]
    },
    {
     "name": "stderr",
     "output_type": "stream",
     "text": [
      "[*********************100%%**********************]  1 of 1 completed\n"
     ]
    },
    {
     "name": "stdout",
     "output_type": "stream",
     "text": [
      "Obtendo cotações para TXRX3.SA...\n"
     ]
    },
    {
     "name": "stderr",
     "output_type": "stream",
     "text": [
      "[*********************100%%**********************]  1 of 1 completed\n"
     ]
    },
    {
     "name": "stdout",
     "output_type": "stream",
     "text": [
      "Obtendo cotações para TXRX4.SA...\n"
     ]
    },
    {
     "name": "stderr",
     "output_type": "stream",
     "text": [
      "[*********************100%%**********************]  1 of 1 completed\n"
     ]
    },
    {
     "name": "stdout",
     "output_type": "stream",
     "text": [
      "Obtendo cotações para UCAS3.SA...\n"
     ]
    },
    {
     "name": "stderr",
     "output_type": "stream",
     "text": [
      "[*********************100%%**********************]  1 of 1 completed\n"
     ]
    },
    {
     "name": "stdout",
     "output_type": "stream",
     "text": [
      "Obtendo cotações para UGPA3.SA...\n"
     ]
    },
    {
     "name": "stderr",
     "output_type": "stream",
     "text": [
      "[*********************100%%**********************]  1 of 1 completed\n"
     ]
    },
    {
     "name": "stdout",
     "output_type": "stream",
     "text": [
      "Obtendo cotações para UNIP3.SA...\n"
     ]
    },
    {
     "name": "stderr",
     "output_type": "stream",
     "text": [
      "[*********************100%%**********************]  1 of 1 completed\n"
     ]
    },
    {
     "name": "stdout",
     "output_type": "stream",
     "text": [
      "Obtendo cotações para UNIP5.SA...\n"
     ]
    },
    {
     "name": "stderr",
     "output_type": "stream",
     "text": [
      "[*********************100%%**********************]  1 of 1 completed\n"
     ]
    },
    {
     "name": "stdout",
     "output_type": "stream",
     "text": [
      "Obtendo cotações para UNIP6.SA...\n"
     ]
    },
    {
     "name": "stderr",
     "output_type": "stream",
     "text": [
      "[*********************100%%**********************]  1 of 1 completed\n"
     ]
    },
    {
     "name": "stdout",
     "output_type": "stream",
     "text": [
      "Obtendo cotações para USIM3.SA...\n"
     ]
    },
    {
     "name": "stderr",
     "output_type": "stream",
     "text": [
      "[*********************100%%**********************]  1 of 1 completed\n"
     ]
    },
    {
     "name": "stdout",
     "output_type": "stream",
     "text": [
      "Obtendo cotações para USIM5.SA...\n"
     ]
    },
    {
     "name": "stderr",
     "output_type": "stream",
     "text": [
      "[*********************100%%**********************]  1 of 1 completed\n"
     ]
    },
    {
     "name": "stdout",
     "output_type": "stream",
     "text": [
      "Obtendo cotações para USIM6.SA...\n"
     ]
    },
    {
     "name": "stderr",
     "output_type": "stream",
     "text": [
      "[*********************100%%**********************]  1 of 1 completed\n"
     ]
    },
    {
     "name": "stdout",
     "output_type": "stream",
     "text": [
      "Obtendo cotações para VALE3.SA...\n"
     ]
    },
    {
     "name": "stderr",
     "output_type": "stream",
     "text": [
      "[*********************100%%**********************]  1 of 1 completed\n"
     ]
    },
    {
     "name": "stdout",
     "output_type": "stream",
     "text": [
      "Obtendo cotações para VALE5.SA...\n"
     ]
    },
    {
     "name": "stderr",
     "output_type": "stream",
     "text": [
      "[*********************100%%**********************]  1 of 1 completed\n"
     ]
    },
    {
     "name": "stdout",
     "output_type": "stream",
     "text": [
      "Obtendo cotações para VAMO3.SA...\n"
     ]
    },
    {
     "name": "stderr",
     "output_type": "stream",
     "text": [
      "[*********************100%%**********************]  1 of 1 completed\n"
     ]
    },
    {
     "name": "stdout",
     "output_type": "stream",
     "text": [
      "Obtendo cotações para VBBR3.SA...\n"
     ]
    },
    {
     "name": "stderr",
     "output_type": "stream",
     "text": [
      "[*********************100%%**********************]  1 of 1 completed\n"
     ]
    },
    {
     "name": "stdout",
     "output_type": "stream",
     "text": [
      "Obtendo cotações para VITT3.SA...\n"
     ]
    },
    {
     "name": "stderr",
     "output_type": "stream",
     "text": [
      "[*********************100%%**********************]  1 of 1 completed\n"
     ]
    },
    {
     "name": "stdout",
     "output_type": "stream",
     "text": [
      "Obtendo cotações para VIVA3.SA...\n"
     ]
    },
    {
     "name": "stderr",
     "output_type": "stream",
     "text": [
      "[*********************100%%**********************]  1 of 1 completed\n"
     ]
    },
    {
     "name": "stdout",
     "output_type": "stream",
     "text": [
      "Obtendo cotações para VIVR3.SA...\n"
     ]
    },
    {
     "name": "stderr",
     "output_type": "stream",
     "text": [
      "[*********************100%%**********************]  1 of 1 completed\n"
     ]
    },
    {
     "name": "stdout",
     "output_type": "stream",
     "text": [
      "Obtendo cotações para VIVT3.SA...\n"
     ]
    },
    {
     "name": "stderr",
     "output_type": "stream",
     "text": [
      "[*********************100%%**********************]  1 of 1 completed\n"
     ]
    },
    {
     "name": "stdout",
     "output_type": "stream",
     "text": [
      "Obtendo cotações para VLID3.SA...\n"
     ]
    },
    {
     "name": "stderr",
     "output_type": "stream",
     "text": [
      "[*********************100%%**********************]  1 of 1 completed\n"
     ]
    },
    {
     "name": "stdout",
     "output_type": "stream",
     "text": [
      "Obtendo cotações para VSPT3.SA...\n"
     ]
    },
    {
     "name": "stderr",
     "output_type": "stream",
     "text": [
      "[*********************100%%**********************]  1 of 1 completed\n"
     ]
    },
    {
     "name": "stdout",
     "output_type": "stream",
     "text": [
      "Obtendo cotações para VSTE3.SA...\n"
     ]
    },
    {
     "name": "stderr",
     "output_type": "stream",
     "text": [
      "[*********************100%%**********************]  1 of 1 completed\n"
     ]
    },
    {
     "name": "stdout",
     "output_type": "stream",
     "text": [
      "Obtendo cotações para VTRU3.SA...\n"
     ]
    },
    {
     "name": "stderr",
     "output_type": "stream",
     "text": [
      "[*********************100%%**********************]  1 of 1 completed\n"
     ]
    },
    {
     "name": "stdout",
     "output_type": "stream",
     "text": [
      "Obtendo cotações para VULC3.SA...\n"
     ]
    },
    {
     "name": "stderr",
     "output_type": "stream",
     "text": [
      "[*********************100%%**********************]  1 of 1 completed\n"
     ]
    },
    {
     "name": "stdout",
     "output_type": "stream",
     "text": [
      "Obtendo cotações para VVAR11.SA...\n"
     ]
    },
    {
     "name": "stderr",
     "output_type": "stream",
     "text": [
      "[*********************100%%**********************]  1 of 1 completed\n"
     ]
    },
    {
     "name": "stdout",
     "output_type": "stream",
     "text": [
      "Obtendo cotações para VVAR4.SA...\n"
     ]
    },
    {
     "name": "stderr",
     "output_type": "stream",
     "text": [
      "[*********************100%%**********************]  1 of 1 completed\n"
     ]
    },
    {
     "name": "stdout",
     "output_type": "stream",
     "text": [
      "Obtendo cotações para VVEO3.SA...\n"
     ]
    },
    {
     "name": "stderr",
     "output_type": "stream",
     "text": [
      "[*********************100%%**********************]  1 of 1 completed\n"
     ]
    },
    {
     "name": "stdout",
     "output_type": "stream",
     "text": [
      "Obtendo cotações para WEGE3.SA...\n"
     ]
    },
    {
     "name": "stderr",
     "output_type": "stream",
     "text": [
      "[*********************100%%**********************]  1 of 1 completed\n"
     ]
    },
    {
     "name": "stdout",
     "output_type": "stream",
     "text": [
      "Obtendo cotações para WEST3.SA...\n"
     ]
    },
    {
     "name": "stderr",
     "output_type": "stream",
     "text": [
      "[*********************100%%**********************]  1 of 1 completed\n"
     ]
    },
    {
     "name": "stdout",
     "output_type": "stream",
     "text": [
      "Obtendo cotações para WHRL3.SA...\n"
     ]
    },
    {
     "name": "stderr",
     "output_type": "stream",
     "text": [
      "[*********************100%%**********************]  1 of 1 completed\n"
     ]
    },
    {
     "name": "stdout",
     "output_type": "stream",
     "text": [
      "Obtendo cotações para WHRL4.SA...\n"
     ]
    },
    {
     "name": "stderr",
     "output_type": "stream",
     "text": [
      "[*********************100%%**********************]  1 of 1 completed\n"
     ]
    },
    {
     "name": "stdout",
     "output_type": "stream",
     "text": [
      "Obtendo cotações para WIZC3.SA...\n"
     ]
    },
    {
     "name": "stderr",
     "output_type": "stream",
     "text": [
      "[*********************100%%**********************]  1 of 1 completed\n"
     ]
    },
    {
     "name": "stdout",
     "output_type": "stream",
     "text": [
      "Obtendo cotações para WLMM3.SA...\n"
     ]
    },
    {
     "name": "stderr",
     "output_type": "stream",
     "text": [
      "[*********************100%%**********************]  1 of 1 completed\n"
     ]
    },
    {
     "name": "stdout",
     "output_type": "stream",
     "text": [
      "Obtendo cotações para WLMM4.SA...\n"
     ]
    },
    {
     "name": "stderr",
     "output_type": "stream",
     "text": [
      "[*********************100%%**********************]  1 of 1 completed\n"
     ]
    },
    {
     "name": "stdout",
     "output_type": "stream",
     "text": [
      "Obtendo cotações para YDUQ3.SA...\n"
     ]
    },
    {
     "name": "stderr",
     "output_type": "stream",
     "text": [
      "[*********************100%%**********************]  1 of 1 completed\n"
     ]
    },
    {
     "name": "stdout",
     "output_type": "stream",
     "text": [
      "Obtendo cotações para ZAMP3.SA...\n"
     ]
    },
    {
     "name": "stderr",
     "output_type": "stream",
     "text": [
      "[*********************100%%**********************]  1 of 1 completed"
     ]
    },
    {
     "name": "stdout",
     "output_type": "stream",
     "text": [
      "\n",
      "TOTAL DE COTAÇÕES OBTIDAS: 479\n",
      "\n",
      "COTAÇÕES OBTIDAS PARA OS SEGUINTES TICKERS: dict_keys(['AALR3', 'ABCB4', 'ABEV3', 'AERI3', 'AESB3', 'AFLT3', 'AGRO3', 'AGXY3', 'AHEB3', 'AHEB5', 'AHEB6', 'ALLD3', 'ALOS3', 'ALPA3', 'ALPA4', 'ALPK3', 'ALUP11', 'ALUP3', 'ALUP4', 'AMAR3', 'AMBP3', 'AMER3', 'ANIM3', 'APER3', 'APTI4', 'ARML3', 'ASAI3', 'ATMP3', 'ATOM3', 'AURA33', 'AURE3', 'AVLL3', 'AZEV3', 'AZEV4', 'AZUL4', 'AZZA3', 'B3SA3', 'BAHI3', 'BALM3', 'BALM4', 'BAUH4', 'BAZA3', 'BBAS3', 'BBDC3', 'BBDC4', 'BDLL3', 'BDLL4', 'BEEF3', 'BEES3', 'BEES4', 'BGIP3', 'BGIP4', 'BHIA3', 'BIOM3', 'BLAU3', 'BMEB3', 'BMEB4', 'BMGB4', 'BMIN3', 'BMIN4', 'BMKS3', 'BMOB3', 'BNBR3', 'BOBR3', 'BOBR4', 'BPAC11', 'BPAC3', 'BPAC5', 'BPAN4', 'BPAR3', 'BRAP3', 'BRAP4', 'BRBI11', 'BRFS3', 'BRGE11', 'BRGE12', 'BRGE3', 'BRGE5', 'BRGE6', 'BRGE7', 'BRGE8', 'BRIT3', 'BRIV3', 'BRIV4', 'BRKM3', 'BRKM5', 'BRKM6', 'BRPR3', 'BRSR3', 'BRSR5', 'BRSR6', 'BSLI3', 'BSLI4', 'CALI3', 'CAMB3', 'CAML3', 'CASH3', 'CASN3', 'CBAV3', 'CBEE3', 'CBMA3', 'CBMA4', 'CCRO3', 'CEAB3', 'CEBR3', 'CEBR5', 'CEBR6', 'CEDO3', 'CEDO4', 'CEEB3', 'CEEB5', 'CEED3', 'CEED4', 'CEGR3', 'CGAS3', 'CGAS5', 'CGRA3', 'CGRA4', 'CIEL3', 'CLSA3', 'CLSC3', 'CLSC4', 'CMIG3', 'CMIG4', 'CMIN3', 'COCE3', 'COCE5', 'COCE6', 'COGN3', 'CORR3', 'CORR4', 'CPFE3', 'CPLE3', 'CPLE5', 'CPLE6', 'CRFB3', 'CRIV3', 'CRIV4', 'CRPG3', 'CRPG5', 'CRPG6', 'CSAN3', 'CSED3', 'CSMG3', 'CSNA3', 'CSRN3', 'CSRN5', 'CSRN6', 'CSUD3', 'CTKA3', 'CTKA4', 'CTNM3', 'CTNM4', 'CTSA3', 'CTSA4', 'CURY3', 'CVCB3', 'CXSE3', 'CYRE3', 'DASA3', 'DESK3', 'DEXP3', 'DEXP4', 'DIRR3', 'DMFN3', 'DMVF3', 'DOHL3', 'DOHL4', 'DOTZ3', 'DTCY3', 'DXCO3', 'EALT3', 'EALT4', 'ECOR3', 'EGIE3', 'EKTR3', 'EKTR4', 'ELET3', 'ELET5', 'ELET6', 'ELMD3', 'ELPL4', 'EMAE4', 'EMBR3', 'ENAT3', 'ENEV3', 'ENGI11', 'ENGI3', 'ENGI4', 'ENJU3', 'ENMT3', 'ENMT4', 'EPAR3', 'EQMA3B', 'EQPA3', 'EQPA5', 'EQPA6', 'EQPA7', 'EQTL3', 'ESPA3', 'ESTR3', 'ESTR4', 'ETER3', 'EUCA3', 'EUCA4', 'EVEN3', 'EZTC3', 'FESA3', 'FESA4', 'FHER3', 'FIEI3', 'FIGE3', 'FIGE4', 'FIQE3', 'FLRY3', 'FRAS3', 'FRIO3', 'GEPA3', 'GEPA4', 'GFSA3', 'GGBR3', 'GGBR4', 'GGPS3', 'GMAT3', 'GOAU3', 'GOAU4', 'GOLL4', 'GPAR3', 'GPIV33', 'GRND3', 'GSHP3', 'GUAR3', 'HAGA3', 'HAGA4', 'HAPV3', 'HBOR3', 'HBRE3', 'HBSA3', 'HBTS5', 'HETA3', 'HETA4', 'HOOT4', 'HYPE3', 'IFCM3', 'IGTI11', 'IGTI3', 'INEP3', 'INEP4', 'INTB3', 'ITSA3', 'ITSA4', 'ITUB3', 'ITUB4', 'JALL3', 'JBSS3', 'JFEN3', 'JHSF3', 'JOPA3', 'JOPA4', 'JSLG3', 'KEPL3', 'KLBN11', 'KLBN3', 'KLBN4', 'KROT11', 'KRSA3', 'LAND3', 'LAVV3', 'LEVE3', 'LIGT3', 'LIPR3', 'LJQQ3', 'LOGG3', 'LOGN3', 'LPSB3', 'LREN3', 'LUPA3', 'LUXM3', 'LUXM4', 'LVTC3', 'LWSA3', 'MAPT3', 'MAPT4', 'MATD3', 'MBLY3', 'MDIA3', 'MDNE3', 'MEAL3', 'MELK3', 'MERC3', 'MERC4', 'MGEL3', 'MGEL4', 'MGLU3', 'MILS3', 'MLAS3', 'MMAQ3', 'MMAQ4', 'MNDL3', 'MNPR3', 'MOAR3', 'MOVI3', 'MRFG3', 'MRSA3B', 'MRSA5B', 'MRSA6B', 'MRVE3', 'MSPA3', 'MSPA4', 'MTRE3', 'MTSA4', 'MULT3', 'MWET3', 'MWET4', 'MYPK3', 'NEOE3', 'NEXP3', 'NGRD3', 'NINJ3', 'NORD3', 'NTCO3', 'NUTR3', 'ODER4', 'ODPV3', 'OFSA3', 'OIBR3', 'OIBR4', 'ONCO3', 'OPCT3', 'ORVR3', 'OSXB3', 'PATI3', 'PATI4', 'PCAR3', 'PDGR3', 'PDTC3', 'PEAB3', 'PEAB4', 'PETR3', 'PETR4', 'PETZ3', 'PFRM3', 'PGMN3', 'PINE3', 'PINE4', 'PLAS3', 'PLPL3', 'PMAM3', 'PNVL3', 'POMO3', 'POMO4', 'PORT3', 'POSI3', 'PRIO3', 'PRNR3', 'PSSA3', 'PTBL3', 'PTNT3', 'PTNT4', 'QUAL3', 'RADL3', 'RAIL3', 'RAIZ4', 'RANI3', 'RAPT3', 'RAPT4', 'RCSL3', 'RCSL4', 'RDNI3', 'RDOR3', 'RECV3', 'REDE3', 'RENT3', 'RNEW11', 'RNEW3', 'RNEW4', 'ROMI3', 'RPAD3', 'RPAD5', 'RPAD6', 'RPMG3', 'RRRP3', 'RSID3', 'RSUL4', 'SANB11', 'SANB3', 'SANB4', 'SAPR11', 'SAPR3', 'SAPR4', 'SBFG3', 'SBSP3', 'SCAR3', 'SCLO3', 'SCLO4', 'SEER3', 'SEQL3', 'SHOW3', 'SHUL4', 'SIMH3', 'SJOS3', 'SJOS4', 'SLCE3', 'SLED3', 'SLED4', 'SMFT3', 'SMTO3', 'SNSY5', 'SOJA3', 'SOMA3', 'SOND3', 'SOND5', 'SOND6', 'SRNA3', 'STBP3', 'SULT3', 'SULT4', 'SUZB3', 'SYNE3', 'TAEE11', 'TAEE3', 'TAEE4', 'TASA3', 'TASA4', 'TCSA3', 'TECN3', 'TEKA3', 'TEKA4', 'TELB3', 'TELB4', 'TEND3', 'TENE5', 'TFCO4', 'TGMA3', 'TIMS3', 'TKNO4', 'TOTS3', 'TPIS3', 'TRAD3', 'TRIS3', 'TRPL3', 'TRPL4', 'TTEN3', 'TUPY3', 'TXRX3', 'TXRX4', 'UCAS3', 'UGPA3', 'UNIP3', 'UNIP5', 'UNIP6', 'USIM3', 'USIM5', 'USIM6', 'VALE3', 'VALE5', 'VAMO3', 'VBBR3', 'VITT3', 'VIVA3', 'VIVR3', 'VIVT3', 'VLID3', 'VSPT3', 'VSTE3', 'VTRU3', 'VULC3', 'VVAR11', 'VVAR4', 'VVEO3', 'WEGE3', 'WEST3', 'WHRL3', 'WHRL4', 'WIZC3', 'WLMM3', 'WLMM4', 'YDUQ3', 'ZAMP3'])\n",
      "COTAÇÕES NÃO ENCONTRADAS PARA OS SEGUINTES TICKERS: []\n"
     ]
    },
    {
     "name": "stderr",
     "output_type": "stream",
     "text": [
      "\n"
     ]
    }
   ],
   "source": [
    "# Dicionário para armazenar as cotações\n",
    "dicionario_de_cotacoes = {}\n",
    "tickers_falhados = []\n",
    "keys_list = list(dicionario_de_balancos.keys())\n",
    "\n",
    "# Itera sobre as chaves do dicionário de balanços\n",
    "for papel in keys_list:\n",
    "    # Adiciona \".SA\" ao nome do papel para buscar na B3\n",
    "    papel_com_sufixo = papel + \".SA\"\n",
    "    \n",
    "    try:\n",
    "        print(f\"Obtendo cotações para {papel_com_sufixo}...\")\n",
    "        \n",
    "        # Obtém os dados de mercado usando o Yahoo Finance\n",
    "        cotacao = yf.download(papel_com_sufixo)\n",
    "        \n",
    "        if not cotacao.empty:\n",
    "            # Seleciona as colunas desejadas e organiza o DataFrame\n",
    "            cotacao_filtrada = cotacao[['Open', 'High', 'Low', 'Close', 'Adj Close']]\n",
    "            cotacao_filtrada.columns = ['Abertura', 'Máxima', 'Baixa', 'Fechamento', 'Fechamento Ajustado']\n",
    "            \n",
    "            # Transpõe o DataFrame para que as colunas virem linhas e as datas sejam colunas\n",
    "            cotacao_transposta = cotacao_filtrada.transpose()\n",
    "            \n",
    "            # Adiciona o DataFrame transposto ao dicionário de cotações\n",
    "            dicionario_de_cotacoes[papel] = cotacao_transposta\n",
    "        else:\n",
    "            print(f\"Cotações não encontradas para {papel_com_sufixo}\")\n",
    "            tickers_falhados.append(papel_com_sufixo)\n",
    "\n",
    "    except Exception as e:\n",
    "        print(f\"Erro ao baixar cotações para {papel_com_sufixo}: {e}\")\n",
    "        tickers_falhados.append(papel_com_sufixo)\n",
    "\n",
    "# Exibe o resultado\n",
    "print(\"\\nTOTAL DE COTAÇÕES OBTIDAS:\", len(dicionario_de_cotacoes.keys()))\n",
    "print(\"\\nCOTAÇÕES OBTIDAS PARA OS SEGUINTES TICKERS:\", dicionario_de_cotacoes.keys())\n",
    "print(\"COTAÇÕES NÃO ENCONTRADAS PARA OS SEGUINTES TICKERS:\", tickers_falhados)"
   ]
  },
  {
   "cell_type": "code",
   "execution_count": 33,
   "metadata": {},
   "outputs": [
    {
     "data": {
      "text/html": [
       "<div>\n",
       "<style scoped>\n",
       "    .dataframe tbody tr th:only-of-type {\n",
       "        vertical-align: middle;\n",
       "    }\n",
       "\n",
       "    .dataframe tbody tr th {\n",
       "        vertical-align: top;\n",
       "    }\n",
       "\n",
       "    .dataframe thead th {\n",
       "        text-align: right;\n",
       "    }\n",
       "</style>\n",
       "<table border=\"1\" class=\"dataframe\">\n",
       "  <thead>\n",
       "    <tr style=\"text-align: right;\">\n",
       "      <th>Date</th>\n",
       "      <th>2016-10-28</th>\n",
       "      <th>2016-10-31</th>\n",
       "      <th>2016-11-01</th>\n",
       "      <th>2016-11-03</th>\n",
       "      <th>2016-11-04</th>\n",
       "      <th>2016-11-07</th>\n",
       "      <th>2016-11-08</th>\n",
       "      <th>2016-11-09</th>\n",
       "      <th>2016-11-10</th>\n",
       "      <th>2016-11-11</th>\n",
       "      <th>...</th>\n",
       "      <th>2024-09-09</th>\n",
       "      <th>2024-09-10</th>\n",
       "      <th>2024-09-11</th>\n",
       "      <th>2024-09-12</th>\n",
       "      <th>2024-09-13</th>\n",
       "      <th>2024-09-16</th>\n",
       "      <th>2024-09-17</th>\n",
       "      <th>2024-09-18</th>\n",
       "      <th>2024-09-19</th>\n",
       "      <th>2024-09-20</th>\n",
       "    </tr>\n",
       "  </thead>\n",
       "  <tbody>\n",
       "    <tr>\n",
       "      <th>Abertura</th>\n",
       "      <td>19.299999</td>\n",
       "      <td>19.190001</td>\n",
       "      <td>18.059999</td>\n",
       "      <td>18.000000</td>\n",
       "      <td>17.950001</td>\n",
       "      <td>17.98000</td>\n",
       "      <td>17.379999</td>\n",
       "      <td>17.000000</td>\n",
       "      <td>16.940001</td>\n",
       "      <td>15.810000</td>\n",
       "      <td>...</td>\n",
       "      <td>15.31</td>\n",
       "      <td>15.39</td>\n",
       "      <td>15.59</td>\n",
       "      <td>15.830000</td>\n",
       "      <td>15.660000</td>\n",
       "      <td>16.120001</td>\n",
       "      <td>16.200001</td>\n",
       "      <td>15.64</td>\n",
       "      <td>15.29</td>\n",
       "      <td>14.83</td>\n",
       "    </tr>\n",
       "    <tr>\n",
       "      <th>Máxima</th>\n",
       "      <td>19.760000</td>\n",
       "      <td>19.200001</td>\n",
       "      <td>18.379999</td>\n",
       "      <td>18.240000</td>\n",
       "      <td>18.120001</td>\n",
       "      <td>18.00000</td>\n",
       "      <td>17.790001</td>\n",
       "      <td>17.000000</td>\n",
       "      <td>16.940001</td>\n",
       "      <td>15.810000</td>\n",
       "      <td>...</td>\n",
       "      <td>15.83</td>\n",
       "      <td>15.58</td>\n",
       "      <td>15.83</td>\n",
       "      <td>16.200001</td>\n",
       "      <td>16.200001</td>\n",
       "      <td>16.180000</td>\n",
       "      <td>16.200001</td>\n",
       "      <td>15.64</td>\n",
       "      <td>15.49</td>\n",
       "      <td>15.44</td>\n",
       "    </tr>\n",
       "    <tr>\n",
       "      <th>Baixa</th>\n",
       "      <td>18.920000</td>\n",
       "      <td>17.510000</td>\n",
       "      <td>17.160000</td>\n",
       "      <td>17.309999</td>\n",
       "      <td>17.709999</td>\n",
       "      <td>17.41000</td>\n",
       "      <td>17.110001</td>\n",
       "      <td>15.700000</td>\n",
       "      <td>15.180000</td>\n",
       "      <td>14.530000</td>\n",
       "      <td>...</td>\n",
       "      <td>15.00</td>\n",
       "      <td>15.10</td>\n",
       "      <td>15.41</td>\n",
       "      <td>15.650000</td>\n",
       "      <td>15.660000</td>\n",
       "      <td>16.000000</td>\n",
       "      <td>15.670000</td>\n",
       "      <td>14.57</td>\n",
       "      <td>14.51</td>\n",
       "      <td>14.55</td>\n",
       "    </tr>\n",
       "    <tr>\n",
       "      <th>Fechamento</th>\n",
       "      <td>19.200001</td>\n",
       "      <td>18.059999</td>\n",
       "      <td>17.900000</td>\n",
       "      <td>17.990000</td>\n",
       "      <td>17.750000</td>\n",
       "      <td>17.65000</td>\n",
       "      <td>17.490000</td>\n",
       "      <td>16.549999</td>\n",
       "      <td>15.980000</td>\n",
       "      <td>15.250000</td>\n",
       "      <td>...</td>\n",
       "      <td>15.60</td>\n",
       "      <td>15.58</td>\n",
       "      <td>15.83</td>\n",
       "      <td>15.650000</td>\n",
       "      <td>16.129999</td>\n",
       "      <td>16.170000</td>\n",
       "      <td>15.740000</td>\n",
       "      <td>15.30</td>\n",
       "      <td>15.00</td>\n",
       "      <td>15.44</td>\n",
       "    </tr>\n",
       "    <tr>\n",
       "      <th>Fechamento Ajustado</th>\n",
       "      <td>19.007032</td>\n",
       "      <td>17.878489</td>\n",
       "      <td>17.720097</td>\n",
       "      <td>17.809191</td>\n",
       "      <td>17.571606</td>\n",
       "      <td>17.47261</td>\n",
       "      <td>17.314217</td>\n",
       "      <td>16.383665</td>\n",
       "      <td>15.819393</td>\n",
       "      <td>15.096731</td>\n",
       "      <td>...</td>\n",
       "      <td>15.60</td>\n",
       "      <td>15.58</td>\n",
       "      <td>15.83</td>\n",
       "      <td>15.650000</td>\n",
       "      <td>16.129999</td>\n",
       "      <td>16.170000</td>\n",
       "      <td>15.740000</td>\n",
       "      <td>15.30</td>\n",
       "      <td>15.00</td>\n",
       "      <td>15.44</td>\n",
       "    </tr>\n",
       "  </tbody>\n",
       "</table>\n",
       "<p>5 rows × 1968 columns</p>\n",
       "</div>"
      ],
      "text/plain": [
       "Date                 2016-10-28  2016-10-31  2016-11-01  2016-11-03  \\\n",
       "Abertura              19.299999   19.190001   18.059999   18.000000   \n",
       "Máxima                19.760000   19.200001   18.379999   18.240000   \n",
       "Baixa                 18.920000   17.510000   17.160000   17.309999   \n",
       "Fechamento            19.200001   18.059999   17.900000   17.990000   \n",
       "Fechamento Ajustado   19.007032   17.878489   17.720097   17.809191   \n",
       "\n",
       "Date                 2016-11-04  2016-11-07  2016-11-08  2016-11-09  \\\n",
       "Abertura              17.950001    17.98000   17.379999   17.000000   \n",
       "Máxima                18.120001    18.00000   17.790001   17.000000   \n",
       "Baixa                 17.709999    17.41000   17.110001   15.700000   \n",
       "Fechamento            17.750000    17.65000   17.490000   16.549999   \n",
       "Fechamento Ajustado   17.571606    17.47261   17.314217   16.383665   \n",
       "\n",
       "Date                 2016-11-10  2016-11-11  ...  2024-09-09  2024-09-10  \\\n",
       "Abertura              16.940001   15.810000  ...       15.31       15.39   \n",
       "Máxima                16.940001   15.810000  ...       15.83       15.58   \n",
       "Baixa                 15.180000   14.530000  ...       15.00       15.10   \n",
       "Fechamento            15.980000   15.250000  ...       15.60       15.58   \n",
       "Fechamento Ajustado   15.819393   15.096731  ...       15.60       15.58   \n",
       "\n",
       "Date                 2024-09-11  2024-09-12  2024-09-13  2024-09-16  \\\n",
       "Abertura                  15.59   15.830000   15.660000   16.120001   \n",
       "Máxima                    15.83   16.200001   16.200001   16.180000   \n",
       "Baixa                     15.41   15.650000   15.660000   16.000000   \n",
       "Fechamento                15.83   15.650000   16.129999   16.170000   \n",
       "Fechamento Ajustado       15.83   15.650000   16.129999   16.170000   \n",
       "\n",
       "Date                 2024-09-17  2024-09-18  2024-09-19  2024-09-20  \n",
       "Abertura              16.200001       15.64       15.29       14.83  \n",
       "Máxima                16.200001       15.64       15.49       15.44  \n",
       "Baixa                 15.670000       14.57       14.51       14.55  \n",
       "Fechamento            15.740000       15.30       15.00       15.44  \n",
       "Fechamento Ajustado   15.740000       15.30       15.00       15.44  \n",
       "\n",
       "[5 rows x 1968 columns]"
      ]
     },
     "execution_count": 33,
     "metadata": {},
     "output_type": "execute_result"
    }
   ],
   "source": [
    "dicionario_de_cotacoes[\"AALR3\"]"
   ]
  },
  {
   "cell_type": "code",
   "execution_count": 39,
   "metadata": {},
   "outputs": [
    {
     "name": "stdout",
     "output_type": "stream",
     "text": [
      "Dicionários atualizados!\n",
      "Total de empresas restantes nos balanços: 479\n",
      "Total de empresas restantes nas cotações: 479\n"
     ]
    }
   ],
   "source": [
    "# Obtém as chaves de ambos os dicionários\n",
    "chaves_balancos = set(dicionario_de_balancos.keys())\n",
    "chaves_cotacoes = set(dicionario_de_cotacoes.keys())\n",
    "\n",
    "# Encontra as chaves comuns\n",
    "chaves_comuns = chaves_balancos.intersection(chaves_cotacoes)\n",
    "\n",
    "# Remove as entradas dos dicionários que não estão nas chaves comuns\n",
    "for chave in list(dicionario_de_balancos.keys()):\n",
    "    if chave not in chaves_comuns:\n",
    "        del dicionario_de_balancos[chave]\n",
    "\n",
    "for chave in list(dicionario_de_cotacoes.keys()):\n",
    "    if chave not in chaves_comuns:\n",
    "        del dicionario_de_cotacoes[chave]\n",
    "\n",
    "print(\"Dicionários atualizados!\")\n",
    "print(f\"Total de empresas restantes nos balanços: {len(dicionario_de_balancos.keys())}\")\n",
    "print(f\"Total de empresas restantes nas cotações: {len(dicionario_de_cotacoes.keys())}\")"
   ]
  },
  {
   "cell_type": "code",
   "execution_count": 44,
   "metadata": {},
   "outputs": [
    {
     "name": "stdout",
     "output_type": "stream",
     "text": [
      "Processando empresa AALR3...\n",
      "Processando empresa ABCB4...\n",
      "Processando empresa ABEV3...\n",
      "Processando empresa AERI3...\n",
      "Processando empresa AESB3...\n",
      "Processando empresa AFLT3...\n",
      "Processando empresa AGRO3...\n",
      "Processando empresa AGXY3...\n",
      "Processando empresa AHEB3...\n",
      "Processando empresa AHEB5...\n",
      "Processando empresa AHEB6...\n",
      "Processando empresa ALLD3...\n",
      "Processando empresa ALOS3...\n",
      "Processando empresa ALPA3...\n",
      "Processando empresa ALPA4...\n",
      "Processando empresa ALPK3...\n",
      "Processando empresa ALUP11...\n",
      "Processando empresa ALUP3...\n",
      "Processando empresa ALUP4...\n",
      "Processando empresa AMAR3...\n",
      "Processando empresa AMBP3...\n",
      "Processando empresa AMER3...\n",
      "Processando empresa ANIM3...\n",
      "Processando empresa APER3...\n",
      "Processando empresa APTI4...\n",
      "Erro ao obter número de ações para APTI4\n",
      "Processando empresa ARML3...\n",
      "Processando empresa ASAI3...\n",
      "Processando empresa ATMP3...\n",
      "Processando empresa ATOM3...\n",
      "Processando empresa AURA33...\n",
      "Processando empresa AURE3...\n",
      "Processando empresa AVLL3...\n",
      "Processando empresa AZEV3...\n",
      "Processando empresa AZEV4...\n",
      "Processando empresa AZUL4...\n",
      "Processando empresa AZZA3...\n",
      "Processando empresa B3SA3...\n",
      "Processando empresa BAHI3...\n",
      "Processando empresa BALM3...\n",
      "Processando empresa BALM4...\n",
      "Processando empresa BAUH4...\n",
      "Processando empresa BAZA3...\n",
      "Processando empresa BBAS3...\n",
      "Processando empresa BBDC3...\n",
      "Processando empresa BBDC4...\n",
      "Processando empresa BDLL3...\n",
      "Processando empresa BDLL4...\n",
      "Processando empresa BEEF3...\n",
      "Processando empresa BEES3...\n",
      "Processando empresa BEES4...\n",
      "Processando empresa BGIP3...\n",
      "Processando empresa BGIP4...\n",
      "Processando empresa BHIA3...\n",
      "Processando empresa BIOM3...\n",
      "Processando empresa BLAU3...\n",
      "Processando empresa BMEB3...\n",
      "Processando empresa BMEB4...\n",
      "Processando empresa BMGB4...\n",
      "Processando empresa BMIN3...\n",
      "Processando empresa BMIN4...\n",
      "Processando empresa BMKS3...\n",
      "Processando empresa BMOB3...\n",
      "Processando empresa BNBR3...\n",
      "Processando empresa BOBR3...\n",
      "Erro ao obter número de ações para BOBR3\n",
      "Processando empresa BOBR4...\n",
      "Processando empresa BPAC11...\n",
      "Processando empresa BPAC3...\n",
      "Processando empresa BPAC5...\n",
      "Processando empresa BPAN4...\n",
      "Processando empresa BPAR3...\n",
      "Erro ao obter número de ações para BPAR3\n",
      "Processando empresa BRAP3...\n",
      "Processando empresa BRAP4...\n",
      "Processando empresa BRBI11...\n",
      "Erro ao obter número de ações para BRBI11\n",
      "Processando empresa BRFS3...\n",
      "Processando empresa BRGE11...\n",
      "Erro ao obter número de ações para BRGE11\n",
      "Processando empresa BRGE12...\n",
      "Erro ao obter número de ações para BRGE12\n",
      "Processando empresa BRGE3...\n",
      "Erro ao obter número de ações para BRGE3\n",
      "Processando empresa BRGE5...\n",
      "Erro ao obter número de ações para BRGE5\n",
      "Processando empresa BRGE6...\n",
      "Erro ao obter número de ações para BRGE6\n",
      "Processando empresa BRGE7...\n",
      "Erro ao obter número de ações para BRGE7\n",
      "Processando empresa BRGE8...\n",
      "Erro ao obter número de ações para BRGE8\n",
      "Processando empresa BRIT3...\n",
      "Processando empresa BRIV3...\n",
      "Erro ao obter número de ações para BRIV3\n",
      "Processando empresa BRIV4...\n",
      "Erro ao obter número de ações para BRIV4\n",
      "Processando empresa BRKM3...\n",
      "Processando empresa BRKM5...\n",
      "Processando empresa BRKM6...\n",
      "Processando empresa BRPR3...\n",
      "Erro ao obter número de ações para BRPR3\n",
      "Processando empresa BRSR3...\n",
      "Processando empresa BRSR5...\n",
      "Processando empresa BRSR6...\n",
      "Processando empresa BSLI3...\n",
      "Processando empresa BSLI4...\n",
      "Processando empresa CALI3...\n",
      "Processando empresa CAMB3...\n",
      "Processando empresa CAML3...\n",
      "Processando empresa CASH3...\n",
      "Processando empresa CASN3...\n",
      "Erro ao obter número de ações para CASN3\n",
      "Processando empresa CBAV3...\n",
      "Processando empresa CBEE3...\n",
      "Processando empresa CBMA3...\n",
      "Erro ao obter número de ações para CBMA3\n",
      "Processando empresa CBMA4...\n",
      "Erro ao obter número de ações para CBMA4\n",
      "Processando empresa CCRO3...\n",
      "Processando empresa CEAB3...\n",
      "Processando empresa CEBR3...\n",
      "Processando empresa CEBR5...\n",
      "Processando empresa CEBR6...\n",
      "Processando empresa CEDO3...\n",
      "Processando empresa CEDO4...\n",
      "Processando empresa CEEB3...\n",
      "Processando empresa CEEB5...\n",
      "Processando empresa CEED3...\n",
      "Processando empresa CEED4...\n",
      "Erro ao obter número de ações para CEED4\n",
      "Processando empresa CEGR3...\n",
      "Processando empresa CGAS3...\n",
      "Processando empresa CGAS5...\n",
      "Processando empresa CGRA3...\n",
      "Processando empresa CGRA4...\n",
      "Processando empresa CIEL3...\n",
      "Processando empresa CLSA3...\n",
      "Processando empresa CLSC3...\n",
      "Processando empresa CLSC4...\n",
      "Processando empresa CMIG3...\n",
      "Processando empresa CMIG4...\n",
      "Processando empresa CMIN3...\n",
      "Processando empresa COCE3...\n",
      "Processando empresa COCE5...\n",
      "Processando empresa COCE6...\n",
      "Erro ao obter número de ações para COCE6\n",
      "Processando empresa COGN3...\n",
      "Processando empresa CORR3...\n",
      "Erro ao obter número de ações para CORR3\n",
      "Processando empresa CORR4...\n",
      "Erro ao obter número de ações para CORR4\n",
      "Processando empresa CPFE3...\n",
      "Processando empresa CPLE3...\n",
      "Processando empresa CPLE5...\n",
      "Processando empresa CPLE6...\n",
      "Processando empresa CRFB3...\n",
      "Processando empresa CRIV3...\n",
      "Erro ao obter número de ações para CRIV3\n",
      "Processando empresa CRIV4...\n",
      "Erro ao obter número de ações para CRIV4\n",
      "Processando empresa CRPG3...\n",
      "Erro ao obter número de ações para CRPG3\n",
      "Processando empresa CRPG5...\n",
      "Processando empresa CRPG6...\n",
      "Processando empresa CSAN3...\n",
      "Processando empresa CSED3...\n",
      "Processando empresa CSMG3...\n",
      "Processando empresa CSNA3...\n",
      "Processando empresa CSRN3...\n",
      "Processando empresa CSRN5...\n",
      "Processando empresa CSRN6...\n",
      "Processando empresa CSUD3...\n",
      "Processando empresa CTKA3...\n",
      "Processando empresa CTKA4...\n",
      "Processando empresa CTNM3...\n",
      "Processando empresa CTNM4...\n",
      "Processando empresa CTSA3...\n",
      "Processando empresa CTSA4...\n",
      "Processando empresa CURY3...\n",
      "Processando empresa CVCB3...\n",
      "Processando empresa CXSE3...\n",
      "Processando empresa CYRE3...\n",
      "Processando empresa DASA3...\n",
      "Processando empresa DESK3...\n",
      "Processando empresa DEXP3...\n",
      "Processando empresa DEXP4...\n",
      "Processando empresa DIRR3...\n",
      "Processando empresa DMFN3...\n",
      "Processando empresa DMVF3...\n",
      "Processando empresa DOHL3...\n",
      "Processando empresa DOHL4...\n",
      "Processando empresa DOTZ3...\n",
      "Processando empresa DTCY3...\n",
      "Processando empresa DXCO3...\n",
      "Processando empresa EALT3...\n",
      "Processando empresa EALT4...\n",
      "Processando empresa ECOR3...\n",
      "Processando empresa EGIE3...\n",
      "Processando empresa EKTR3...\n",
      "Processando empresa EKTR4...\n",
      "Processando empresa ELET3...\n",
      "Processando empresa ELET5...\n",
      "Processando empresa ELET6...\n",
      "Processando empresa ELMD3...\n",
      "Processando empresa ELPL4...\n",
      "Erro ao obter número de ações para ELPL4\n",
      "Processando empresa EMAE4...\n",
      "Processando empresa EMBR3...\n",
      "Processando empresa ENAT3...\n",
      "Processando empresa ENEV3...\n",
      "Processando empresa ENGI11...\n",
      "Processando empresa ENGI3...\n",
      "Processando empresa ENGI4...\n",
      "Processando empresa ENJU3...\n",
      "Processando empresa ENMT3...\n",
      "Processando empresa ENMT4...\n",
      "Processando empresa EPAR3...\n",
      "Processando empresa EQMA3B...\n",
      "Processando empresa EQPA3...\n",
      "Processando empresa EQPA5...\n",
      "Processando empresa EQPA6...\n",
      "Processando empresa EQPA7...\n",
      "Processando empresa EQTL3...\n",
      "Processando empresa ESPA3...\n",
      "Processando empresa ESTR3...\n",
      "Erro ao obter número de ações para ESTR3\n",
      "Processando empresa ESTR4...\n",
      "Processando empresa ETER3...\n",
      "Processando empresa EUCA3...\n",
      "Processando empresa EUCA4...\n",
      "Processando empresa EVEN3...\n",
      "Processando empresa EZTC3...\n",
      "Processando empresa FESA3...\n",
      "Processando empresa FESA4...\n",
      "Processando empresa FHER3...\n",
      "Processando empresa FIEI3...\n",
      "Processando empresa FIGE3...\n",
      "Erro ao obter número de ações para FIGE3\n",
      "Processando empresa FIGE4...\n",
      "Erro ao obter número de ações para FIGE4\n",
      "Processando empresa FIQE3...\n",
      "Processando empresa FLRY3...\n",
      "Processando empresa FRAS3...\n",
      "Processando empresa FRIO3...\n",
      "Processando empresa GEPA3...\n",
      "Processando empresa GEPA4...\n",
      "Processando empresa GFSA3...\n",
      "Processando empresa GGBR3...\n",
      "Processando empresa GGBR4...\n",
      "Processando empresa GGPS3...\n",
      "Processando empresa GMAT3...\n",
      "Processando empresa GOAU3...\n",
      "Processando empresa GOAU4...\n",
      "Processando empresa GOLL4...\n",
      "Processando empresa GPAR3...\n",
      "Erro ao obter número de ações para GPAR3\n",
      "Processando empresa GPIV33...\n",
      "Processando empresa GRND3...\n",
      "Processando empresa GSHP3...\n",
      "Processando empresa GUAR3...\n",
      "Processando empresa HAGA3...\n",
      "Processando empresa HAGA4...\n",
      "Processando empresa HAPV3...\n",
      "Processando empresa HBOR3...\n",
      "Processando empresa HBRE3...\n",
      "Processando empresa HBSA3...\n",
      "Processando empresa HBTS5...\n",
      "Processando empresa HETA3...\n",
      "Erro ao obter número de ações para HETA3\n",
      "Processando empresa HETA4...\n",
      "Processando empresa HOOT4...\n",
      "Processando empresa HYPE3...\n",
      "Processando empresa IFCM3...\n",
      "Processando empresa IGTI11...\n",
      "Erro ao obter número de ações para IGTI11\n",
      "Processando empresa IGTI3...\n",
      "Processando empresa INEP3...\n",
      "Processando empresa INEP4...\n",
      "Processando empresa INTB3...\n",
      "Processando empresa ITSA3...\n",
      "Processando empresa ITSA4...\n",
      "Processando empresa ITUB3...\n",
      "Processando empresa ITUB4...\n",
      "Processando empresa JALL3...\n",
      "Processando empresa JBSS3...\n",
      "Processando empresa JFEN3...\n",
      "Processando empresa JHSF3...\n",
      "Processando empresa JOPA3...\n",
      "Processando empresa JOPA4...\n",
      "Erro ao obter número de ações para JOPA4\n",
      "Processando empresa JSLG3...\n",
      "Processando empresa KEPL3...\n",
      "Processando empresa KLBN11...\n",
      "Processando empresa KLBN3...\n",
      "Processando empresa KLBN4...\n",
      "Processando empresa KROT11...\n",
      "Erro ao obter número de ações para KROT11\n",
      "Processando empresa KRSA3...\n",
      "Processando empresa LAND3...\n",
      "Processando empresa LAVV3...\n",
      "Processando empresa LEVE3...\n",
      "Processando empresa LIGT3...\n",
      "Processando empresa LIPR3...\n",
      "Processando empresa LJQQ3...\n",
      "Processando empresa LOGG3...\n",
      "Processando empresa LOGN3...\n",
      "Processando empresa LPSB3...\n",
      "Processando empresa LREN3...\n",
      "Processando empresa LUPA3...\n",
      "Processando empresa LUXM3...\n",
      "Erro ao obter número de ações para LUXM3\n",
      "Processando empresa LUXM4...\n",
      "Processando empresa LVTC3...\n",
      "Processando empresa LWSA3...\n",
      "Processando empresa MAPT3...\n",
      "Processando empresa MAPT4...\n",
      "Processando empresa MATD3...\n",
      "Processando empresa MBLY3...\n",
      "Processando empresa MDIA3...\n",
      "Processando empresa MDNE3...\n",
      "Processando empresa MEAL3...\n",
      "Processando empresa MELK3...\n",
      "Processando empresa MERC3...\n",
      "Erro ao obter número de ações para MERC3\n",
      "Processando empresa MERC4...\n",
      "Processando empresa MGEL3...\n",
      "Erro ao obter número de ações para MGEL3\n",
      "Processando empresa MGEL4...\n",
      "Processando empresa MGLU3...\n",
      "Processando empresa MILS3...\n",
      "Processando empresa MLAS3...\n",
      "Processando empresa MMAQ3...\n",
      "Erro ao obter número de ações para MMAQ3\n",
      "Processando empresa MMAQ4...\n",
      "Erro ao obter número de ações para MMAQ4\n",
      "Processando empresa MNDL3...\n",
      "Processando empresa MNPR3...\n",
      "Processando empresa MOAR3...\n",
      "Processando empresa MOVI3...\n",
      "Processando empresa MRFG3...\n",
      "Processando empresa MRSA3B...\n",
      "Processando empresa MRSA5B...\n",
      "Processando empresa MRSA6B...\n",
      "Processando empresa MRVE3...\n",
      "Processando empresa MSPA3...\n",
      "Processando empresa MSPA4...\n",
      "Processando empresa MTRE3...\n",
      "Processando empresa MTSA4...\n",
      "Processando empresa MULT3...\n",
      "Processando empresa MWET3...\n",
      "Processando empresa MWET4...\n",
      "Processando empresa MYPK3...\n",
      "Processando empresa NEOE3...\n",
      "Processando empresa NEXP3...\n",
      "Processando empresa NGRD3...\n",
      "Processando empresa NINJ3...\n",
      "Processando empresa NORD3...\n",
      "Processando empresa NTCO3...\n",
      "Processando empresa NUTR3...\n",
      "Processando empresa ODER4...\n",
      "Erro ao obter número de ações para ODER4\n",
      "Processando empresa ODPV3...\n",
      "Processando empresa OFSA3...\n",
      "Processando empresa OIBR3...\n",
      "Processando empresa OIBR4...\n",
      "Processando empresa ONCO3...\n",
      "Processando empresa OPCT3...\n",
      "Processando empresa ORVR3...\n",
      "Processando empresa OSXB3...\n",
      "Processando empresa PATI3...\n",
      "Processando empresa PATI4...\n",
      "Processando empresa PCAR3...\n",
      "Processando empresa PDGR3...\n",
      "Processando empresa PDTC3...\n",
      "Processando empresa PEAB3...\n",
      "Processando empresa PEAB4...\n",
      "Processando empresa PETR3...\n",
      "Processando empresa PETR4...\n",
      "Processando empresa PETZ3...\n",
      "Processando empresa PFRM3...\n",
      "Processando empresa PGMN3...\n",
      "Processando empresa PINE3...\n",
      "Processando empresa PINE4...\n",
      "Processando empresa PLAS3...\n",
      "Processando empresa PLPL3...\n",
      "Processando empresa PMAM3...\n",
      "Processando empresa PNVL3...\n",
      "Processando empresa POMO3...\n",
      "Processando empresa POMO4...\n",
      "Processando empresa PORT3...\n",
      "Processando empresa POSI3...\n",
      "Processando empresa PRIO3...\n",
      "Processando empresa PRNR3...\n",
      "Processando empresa PSSA3...\n",
      "Processando empresa PTBL3...\n",
      "Processando empresa PTNT3...\n",
      "Processando empresa PTNT4...\n",
      "Processando empresa QUAL3...\n",
      "Processando empresa RADL3...\n",
      "Processando empresa RAIL3...\n",
      "Processando empresa RAIZ4...\n",
      "Processando empresa RANI3...\n",
      "Processando empresa RAPT3...\n",
      "Processando empresa RAPT4...\n",
      "Processando empresa RCSL3...\n",
      "Processando empresa RCSL4...\n",
      "Processando empresa RDNI3...\n",
      "Processando empresa RDOR3...\n",
      "Processando empresa RECV3...\n",
      "Processando empresa REDE3...\n",
      "Processando empresa RENT3...\n",
      "Processando empresa RNEW11...\n",
      "Erro ao obter número de ações para RNEW11\n",
      "Processando empresa RNEW3...\n",
      "Processando empresa RNEW4...\n",
      "Processando empresa ROMI3...\n",
      "Processando empresa RPAD3...\n",
      "Processando empresa RPAD5...\n",
      "Processando empresa RPAD6...\n",
      "Processando empresa RPMG3...\n",
      "Processando empresa RRRP3...\n",
      "Processando empresa RSID3...\n",
      "Processando empresa RSUL4...\n",
      "Processando empresa SANB11...\n",
      "Processando empresa SANB3...\n",
      "Processando empresa SANB4...\n",
      "Processando empresa SAPR11...\n",
      "Processando empresa SAPR3...\n",
      "Processando empresa SAPR4...\n",
      "Processando empresa SBFG3...\n",
      "Processando empresa SBSP3...\n",
      "Processando empresa SCAR3...\n",
      "Processando empresa SCLO3...\n",
      "Erro ao obter número de ações para SCLO3\n",
      "Processando empresa SCLO4...\n",
      "Erro ao obter número de ações para SCLO4\n",
      "Processando empresa SEER3...\n",
      "Processando empresa SEQL3...\n",
      "Processando empresa SHOW3...\n",
      "Processando empresa SHUL4...\n",
      "Processando empresa SIMH3...\n",
      "Processando empresa SJOS3...\n",
      "Erro ao obter número de ações para SJOS3\n",
      "Processando empresa SJOS4...\n",
      "Erro ao obter número de ações para SJOS4\n",
      "Processando empresa SLCE3...\n",
      "Processando empresa SLED3...\n",
      "Erro ao obter número de ações para SLED3\n",
      "Processando empresa SLED4...\n",
      "Erro ao obter número de ações para SLED4\n",
      "Processando empresa SMFT3...\n",
      "Processando empresa SMTO3...\n",
      "Processando empresa SNSY5...\n",
      "Processando empresa SOJA3...\n",
      "Processando empresa SOMA3...\n",
      "Processando empresa SOND3...\n",
      "Erro ao obter número de ações para SOND3\n",
      "Processando empresa SOND5...\n",
      "Processando empresa SOND6...\n",
      "Erro ao obter número de ações para SOND6\n",
      "Processando empresa SRNA3...\n",
      "Processando empresa STBP3...\n",
      "Processando empresa SULT3...\n",
      "Erro ao obter número de ações para SULT3\n",
      "Processando empresa SULT4...\n",
      "Erro ao obter número de ações para SULT4\n",
      "Processando empresa SUZB3...\n",
      "Processando empresa SYNE3...\n",
      "Processando empresa TAEE11...\n",
      "Processando empresa TAEE3...\n",
      "Processando empresa TAEE4...\n",
      "Processando empresa TASA3...\n",
      "Processando empresa TASA4...\n",
      "Processando empresa TCSA3...\n",
      "Processando empresa TECN3...\n",
      "Processando empresa TEKA3...\n",
      "Processando empresa TEKA4...\n",
      "Processando empresa TELB3...\n",
      "Processando empresa TELB4...\n",
      "Processando empresa TEND3...\n",
      "Processando empresa TENE5...\n",
      "Erro ao obter número de ações para TENE5\n",
      "Processando empresa TFCO4...\n",
      "Processando empresa TGMA3...\n",
      "Processando empresa TIMS3...\n",
      "Processando empresa TKNO4...\n",
      "Processando empresa TOTS3...\n",
      "Processando empresa TPIS3...\n",
      "Processando empresa TRAD3...\n",
      "Processando empresa TRIS3...\n",
      "Processando empresa TRPL3...\n",
      "Processando empresa TRPL4...\n",
      "Processando empresa TTEN3...\n",
      "Processando empresa TUPY3...\n",
      "Processando empresa TXRX3...\n",
      "Processando empresa TXRX4...\n",
      "Processando empresa UCAS3...\n",
      "Processando empresa UGPA3...\n",
      "Processando empresa UNIP3...\n",
      "Processando empresa UNIP5...\n",
      "Processando empresa UNIP6...\n",
      "Processando empresa USIM3...\n",
      "Processando empresa USIM5...\n",
      "Processando empresa USIM6...\n",
      "Processando empresa VALE3...\n",
      "Processando empresa VALE5...\n",
      "Erro ao obter número de ações para VALE5\n",
      "Processando empresa VAMO3...\n",
      "Processando empresa VBBR3...\n",
      "Processando empresa VITT3...\n",
      "Processando empresa VIVA3...\n",
      "Processando empresa VIVR3...\n",
      "Processando empresa VIVT3...\n",
      "Processando empresa VLID3...\n",
      "Processando empresa VSPT3...\n",
      "Erro ao obter número de ações para VSPT3\n",
      "Processando empresa VSTE3...\n",
      "Erro ao obter número de ações para VSTE3\n",
      "Processando empresa VTRU3...\n",
      "Processando empresa VULC3...\n",
      "Processando empresa VVAR11...\n",
      "Erro ao obter número de ações para VVAR11\n",
      "Processando empresa VVAR4...\n",
      "Erro ao obter número de ações para VVAR4\n",
      "Processando empresa VVEO3...\n",
      "Processando empresa WEGE3...\n",
      "Processando empresa WEST3...\n",
      "Processando empresa WHRL3...\n",
      "Processando empresa WHRL4...\n",
      "Processando empresa WIZC3...\n",
      "Processando empresa WLMM3...\n",
      "Processando empresa WLMM4...\n",
      "Processando empresa YDUQ3...\n",
      "Processando empresa ZAMP3...\n",
      "TOTAL DE EMPRESAS:  21336\n",
      "TOTAL DE EMPRESAS NO DICIONÁRIO DE GRAHAM: 423\n",
      "Empresas que apresentaram erro: ['APTI4', 'BOBR3', 'BPAR3', 'BRBI11', 'BRGE11', 'BRGE12', 'BRGE3', 'BRGE5', 'BRGE6', 'BRGE7', 'BRGE8', 'BRIV3', 'BRIV4', 'BRPR3', 'CASN3', 'CBMA3', 'CBMA4', 'CEED4', 'COCE6', 'CORR3', 'CORR4', 'CRIV3', 'CRIV4', 'CRPG3', 'ELPL4', 'ESTR3', 'FIGE3', 'FIGE4', 'GPAR3', 'HETA3', 'IGTI11', 'JOPA4', 'KROT11', 'LUXM3', 'MERC3', 'MGEL3', 'MMAQ3', 'MMAQ4', 'ODER4', 'RNEW11', 'SCLO3', 'SCLO4', 'SJOS3', 'SJOS4', 'SLED3', 'SLED4', 'SOND3', 'SOND6', 'SULT3', 'SULT4', 'TENE5', 'VALE5', 'VSPT3', 'VSTE3', 'VVAR11', 'VVAR4']\n"
     ]
    }
   ],
   "source": [
    "import os\n",
    "import pandas as pd\n",
    "import math\n",
    "import yfinance as yf\n",
    "\n",
    "# Função para calcular o valor de Graham\n",
    "def calcular_graham(lpa, vpa):\n",
    "    return math.sqrt(22.5 * lpa * vpa) if lpa > 0 and vpa > 0 else None\n",
    "\n",
    "\n",
    "# Função para pegar o número de ações do Yahoo Finance\n",
    "def obter_numero_acoes(papel):\n",
    "    ticker = yf.Ticker(f\"{papel}.SA\")\n",
    "    numero_acoes = ticker.info.get(\"sharesOutstanding\", None)  # Número de ações\n",
    "    return numero_acoes\n",
    "\n",
    "\n",
    "# Transformar as chaves do dicionário em uma lista\n",
    "lista_empresas = list(dicionario_de_balancos.keys())\n",
    "\n",
    "# Dicionário para armazenar os DataFrames de Graham\n",
    "dicionario_de_graham = {}\n",
    "contador_de_empresas = 0\n",
    "\n",
    "# Lista para armazenar empresas com erro\n",
    "empresas_com_erro = []\n",
    "\n",
    "# Percorre a lista de empresas no dicionário\n",
    "for empresa in lista_empresas:\n",
    "    arquivo = f\"{empresa}.xlsx\"  # Formato esperado dos arquivos na pasta\n",
    "    caminho_arquivo = os.path.join(BALANCOS_DEFINITIVO_FOLDER, arquivo)\n",
    "\n",
    "    # Verifica se o arquivo existe\n",
    "    if os.path.exists(caminho_arquivo):\n",
    "        try:\n",
    "            # Carrega o DataFrame a partir do arquivo Excel\n",
    "            balanco = pd.read_excel(\n",
    "                caminho_arquivo, sheet_name=0, engine=\"openpyxl\", header=None\n",
    "            )\n",
    "\n",
    "            # Na célula [0, 0] está o nome da empresa (mesmo que já saibamos da lista)\n",
    "            nome = balanco.iloc[0, 0]\n",
    "            print(f\"Processando empresa {nome}...\")\n",
    "\n",
    "            # Pega a 1ª linha e torna um cabeçalho\n",
    "            balanco.columns = balanco.iloc[0]\n",
    "            balanco = balanco[1:]\n",
    "\n",
    "            # Define a 1ª coluna (nome da empresa) como índice\n",
    "            balanco = balanco.set_index(balanco.columns[0])\n",
    "\n",
    "            # Pega o número de ações da empresa\n",
    "            numero_acoes = obter_numero_acoes(nome)\n",
    "\n",
    "            if numero_acoes:\n",
    "                # Inicializa dicionários para armazenar LPA, VPA e Graham\n",
    "                lpa_dict = {}\n",
    "                vpa_dict = {}\n",
    "                graham_dict = {}\n",
    "\n",
    "                # Itera sobre as colunas de datas\n",
    "                for coluna in balanco.columns[1:]:\n",
    "                    try:\n",
    "                        # Pega o Patrimônio Líquido e o Lucro Líquido para a data\n",
    "                        patrimonio_liquido = (\n",
    "                            balanco.loc[\"Patrimônio Líquido\", coluna] * 1000\n",
    "                        )\n",
    "                        lucro_liquido = (\n",
    "                            balanco.loc[\"Lucro/Prejuízo do Período\", coluna] * 1000\n",
    "                        )\n",
    "\n",
    "                        # Calcula o LPA e o VPA\n",
    "                        lpa = lucro_liquido / numero_acoes\n",
    "                        vpa = patrimonio_liquido / numero_acoes\n",
    "\n",
    "                        # Calcula o valor de Graham\n",
    "                        valor_graham = calcular_graham(lpa, vpa)\n",
    "\n",
    "                        # Armazena LPA, VPA e Graham em seus respectivos dicionários\n",
    "                        lpa_dict[coluna] = lpa\n",
    "                        vpa_dict[coluna] = vpa\n",
    "                        graham_dict[coluna] = valor_graham\n",
    "\n",
    "                        contador_de_empresas += 1\n",
    "\n",
    "                    except Exception as e:\n",
    "                        print(f\"Erro ao calcular Graham para {nome} na data {coluna}: {e}\")\n",
    "                        empresas_com_erro.append(nome)\n",
    "\n",
    "                # Cria o DataFrame com LPA, VPA e Graham como índice e datas como colunas\n",
    "                df_graham = pd.DataFrame(\n",
    "                    {\"LPA\": lpa_dict, \"VPA\": vpa_dict, \"Valor de Graham\": graham_dict}\n",
    "                ).T  # Transpõe o DataFrame para que as datas sejam colunas\n",
    "\n",
    "                # Adiciona o DataFrame ao dicionário principal\n",
    "                dicionario_de_graham[nome] = df_graham\n",
    "\n",
    "            else:\n",
    "                print(f\"Erro ao obter número de ações para {nome}\")\n",
    "                empresas_com_erro.append(nome)\n",
    "\n",
    "        except Exception as e:\n",
    "            print(f\"Erro ao processar a empresa {empresa}: {e}\")\n",
    "            empresas_com_erro.append(nome)\n",
    "\n",
    "    else:\n",
    "        print(f\"Arquivo {arquivo} não encontrado.\")\n",
    "        empresas_com_erro.append(empresa)\n",
    "\n",
    "# Exibe o total de empresas processadas\n",
    "print(\"TOTAL DE EMPRESAS: \", contador_de_empresas)\n",
    "print(f\"TOTAL DE EMPRESAS NO DICIONÁRIO DE GRAHAM: {len(dicionario_de_graham.keys())}\")\n",
    "\n",
    "# Exibe a lista de empresas que deram erro\n",
    "if empresas_com_erro:\n",
    "    print(\"Empresas que apresentaram erro:\", empresas_com_erro)\n",
    "else:\n",
    "    print(\"Nenhuma empresa apresentou erro.\")"
   ]
  },
  {
   "cell_type": "code",
   "execution_count": 46,
   "metadata": {},
   "outputs": [
    {
     "data": {
      "text/html": [
       "<div>\n",
       "<style scoped>\n",
       "    .dataframe tbody tr th:only-of-type {\n",
       "        vertical-align: middle;\n",
       "    }\n",
       "\n",
       "    .dataframe tbody tr th {\n",
       "        vertical-align: top;\n",
       "    }\n",
       "\n",
       "    .dataframe thead th {\n",
       "        text-align: right;\n",
       "    }\n",
       "</style>\n",
       "<table border=\"1\" class=\"dataframe\">\n",
       "  <thead>\n",
       "    <tr style=\"text-align: right;\">\n",
       "      <th></th>\n",
       "      <th>30/09/2009</th>\n",
       "      <th>31/12/2009</th>\n",
       "      <th>31/03/2010</th>\n",
       "      <th>30/06/2010</th>\n",
       "      <th>30/09/2010</th>\n",
       "      <th>31/12/2010</th>\n",
       "      <th>31/03/2011</th>\n",
       "      <th>30/06/2011</th>\n",
       "      <th>30/09/2011</th>\n",
       "      <th>31/12/2011</th>\n",
       "      <th>...</th>\n",
       "      <th>31/12/2021</th>\n",
       "      <th>31/03/2022</th>\n",
       "      <th>30/06/2022</th>\n",
       "      <th>30/09/2022</th>\n",
       "      <th>31/12/2022</th>\n",
       "      <th>31/03/2023</th>\n",
       "      <th>30/06/2023</th>\n",
       "      <th>30/09/2023</th>\n",
       "      <th>31/12/2023</th>\n",
       "      <th>31/03/2024</th>\n",
       "    </tr>\n",
       "  </thead>\n",
       "  <tbody>\n",
       "    <tr>\n",
       "      <th>LPA</th>\n",
       "      <td>1.492495</td>\n",
       "      <td>1.418576</td>\n",
       "      <td>1.522995</td>\n",
       "      <td>1.572836</td>\n",
       "      <td>1.946507</td>\n",
       "      <td>2.016885</td>\n",
       "      <td>2.016885</td>\n",
       "      <td>2.009169</td>\n",
       "      <td>1.163301</td>\n",
       "      <td>0.927068</td>\n",
       "      <td>...</td>\n",
       "      <td>8.181584</td>\n",
       "      <td>9.975214</td>\n",
       "      <td>8.463417</td>\n",
       "      <td>7.957589</td>\n",
       "      <td>7.005600</td>\n",
       "      <td>5.284495</td>\n",
       "      <td>4.888461</td>\n",
       "      <td>5.699623</td>\n",
       "      <td>4.351419</td>\n",
       "      <td>-0.478289</td>\n",
       "    </tr>\n",
       "    <tr>\n",
       "      <th>VPA</th>\n",
       "      <td>28.530560</td>\n",
       "      <td>29.278361</td>\n",
       "      <td>31.267619</td>\n",
       "      <td>32.493187</td>\n",
       "      <td>54.596712</td>\n",
       "      <td>56.323363</td>\n",
       "      <td>57.795203</td>\n",
       "      <td>59.251186</td>\n",
       "      <td>60.296482</td>\n",
       "      <td>60.559789</td>\n",
       "      <td>...</td>\n",
       "      <td>71.115210</td>\n",
       "      <td>79.719821</td>\n",
       "      <td>75.377767</td>\n",
       "      <td>68.392177</td>\n",
       "      <td>66.573761</td>\n",
       "      <td>73.824289</td>\n",
       "      <td>68.058936</td>\n",
       "      <td>70.872487</td>\n",
       "      <td>69.850549</td>\n",
       "      <td>74.843659</td>\n",
       "    </tr>\n",
       "    <tr>\n",
       "      <th>Valor de Graham</th>\n",
       "      <td>30.953005</td>\n",
       "      <td>30.569684</td>\n",
       "      <td>32.733153</td>\n",
       "      <td>33.910107</td>\n",
       "      <td>48.899283</td>\n",
       "      <td>50.556398</td>\n",
       "      <td>51.212707</td>\n",
       "      <td>51.754485</td>\n",
       "      <td>39.726775</td>\n",
       "      <td>35.541783</td>\n",
       "      <td>...</td>\n",
       "      <td>114.417174</td>\n",
       "      <td>133.762852</td>\n",
       "      <td>119.807984</td>\n",
       "      <td>110.658611</td>\n",
       "      <td>102.439036</td>\n",
       "      <td>93.689870</td>\n",
       "      <td>86.520674</td>\n",
       "      <td>95.335174</td>\n",
       "      <td>82.697352</td>\n",
       "      <td>NaN</td>\n",
       "    </tr>\n",
       "  </tbody>\n",
       "</table>\n",
       "<p>3 rows × 59 columns</p>\n",
       "</div>"
      ],
      "text/plain": [
       "                 30/09/2009  31/12/2009  31/03/2010  30/06/2010  30/09/2010  \\\n",
       "LPA                1.492495    1.418576    1.522995    1.572836    1.946507   \n",
       "VPA               28.530560   29.278361   31.267619   32.493187   54.596712   \n",
       "Valor de Graham   30.953005   30.569684   32.733153   33.910107   48.899283   \n",
       "\n",
       "                 31/12/2010  31/03/2011  30/06/2011  30/09/2011  31/12/2011  \\\n",
       "LPA                2.016885    2.016885    2.009169    1.163301    0.927068   \n",
       "VPA               56.323363   57.795203   59.251186   60.296482   60.559789   \n",
       "Valor de Graham   50.556398   51.212707   51.754485   39.726775   35.541783   \n",
       "\n",
       "                 ...  31/12/2021  31/03/2022  30/06/2022  30/09/2022  \\\n",
       "LPA              ...    8.181584    9.975214    8.463417    7.957589   \n",
       "VPA              ...   71.115210   79.719821   75.377767   68.392177   \n",
       "Valor de Graham  ...  114.417174  133.762852  119.807984  110.658611   \n",
       "\n",
       "                 31/12/2022  31/03/2023  30/06/2023  30/09/2023  31/12/2023  \\\n",
       "LPA                7.005600    5.284495    4.888461    5.699623    4.351419   \n",
       "VPA               66.573761   73.824289   68.058936   70.872487   69.850549   \n",
       "Valor de Graham  102.439036   93.689870   86.520674   95.335174   82.697352   \n",
       "\n",
       "                 31/03/2024  \n",
       "LPA               -0.478289  \n",
       "VPA               74.843659  \n",
       "Valor de Graham         NaN  \n",
       "\n",
       "[3 rows x 59 columns]"
      ]
     },
     "metadata": {},
     "output_type": "display_data"
    }
   ],
   "source": [
    "display(dicionario_de_graham[\"PETR4\"])"
   ]
  }
 ],
 "metadata": {
  "kernelspec": {
   "display_name": "venv",
   "language": "python",
   "name": "python3"
  },
  "language_info": {
   "codemirror_mode": {
    "name": "ipython",
    "version": 3
   },
   "file_extension": ".py",
   "mimetype": "text/x-python",
   "name": "python",
   "nbconvert_exporter": "python",
   "pygments_lexer": "ipython3",
   "version": "3.11.9"
  }
 },
 "nbformat": 4,
 "nbformat_minor": 2
}
