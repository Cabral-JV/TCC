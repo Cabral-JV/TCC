{
 "cells": [
  {
   "cell_type": "markdown",
   "metadata": {},
   "source": [
    "# *Resultados Fundamentais - Extração de Dados Financeiros e de Empresas*\n",
    "*Este script extrai dados financeiros de uma tabela na página de resultados do site \"[Fundamentus](https://www.fundamentus.com.br)\" e informações sobre papeis e empresas de outra tabela na página de detalhes do mesmo site.*"
   ]
  },
  {
   "cell_type": "markdown",
   "metadata": {},
   "source": [
    "## *Instalação das Bibliotecas Necessárias*"
   ]
  },
  {
   "cell_type": "code",
   "execution_count": 29,
   "metadata": {},
   "outputs": [
    {
     "name": "stdout",
     "output_type": "stream",
     "text": [
      "Requirement already satisfied: selenium in c:\\users\\jvcca\\onedrive\\desktop\\projects\\tcc\\fundamentus_scraper\\venv\\lib\\site-packages (4.16.0)\n",
      "Requirement already satisfied: urllib3<3,>=1.26 in c:\\users\\jvcca\\onedrive\\desktop\\projects\\tcc\\fundamentus_scraper\\venv\\lib\\site-packages (from urllib3[socks]<3,>=1.26->selenium) (2.2.1)\n",
      "Requirement already satisfied: trio~=0.17 in c:\\users\\jvcca\\onedrive\\desktop\\projects\\tcc\\fundamentus_scraper\\venv\\lib\\site-packages (from selenium) (0.24.0)\n",
      "Requirement already satisfied: trio-websocket~=0.9 in c:\\users\\jvcca\\onedrive\\desktop\\projects\\tcc\\fundamentus_scraper\\venv\\lib\\site-packages (from selenium) (0.11.1)\n",
      "Requirement already satisfied: certifi>=2021.10.8 in c:\\users\\jvcca\\onedrive\\desktop\\projects\\tcc\\fundamentus_scraper\\venv\\lib\\site-packages (from selenium) (2024.2.2)\n",
      "Requirement already satisfied: attrs>=20.1.0 in c:\\users\\jvcca\\onedrive\\desktop\\projects\\tcc\\fundamentus_scraper\\venv\\lib\\site-packages (from trio~=0.17->selenium) (23.2.0)\n",
      "Requirement already satisfied: sortedcontainers in c:\\users\\jvcca\\onedrive\\desktop\\projects\\tcc\\fundamentus_scraper\\venv\\lib\\site-packages (from trio~=0.17->selenium) (2.4.0)\n",
      "Requirement already satisfied: idna in c:\\users\\jvcca\\onedrive\\desktop\\projects\\tcc\\fundamentus_scraper\\venv\\lib\\site-packages (from trio~=0.17->selenium) (3.6)\n",
      "Requirement already satisfied: outcome in c:\\users\\jvcca\\onedrive\\desktop\\projects\\tcc\\fundamentus_scraper\\venv\\lib\\site-packages (from trio~=0.17->selenium) (1.3.0.post0)\n",
      "Requirement already satisfied: sniffio>=1.3.0 in c:\\users\\jvcca\\onedrive\\desktop\\projects\\tcc\\fundamentus_scraper\\venv\\lib\\site-packages (from trio~=0.17->selenium) (1.3.1)\n",
      "Requirement already satisfied: cffi>=1.14 in c:\\users\\jvcca\\onedrive\\desktop\\projects\\tcc\\fundamentus_scraper\\venv\\lib\\site-packages (from trio~=0.17->selenium) (1.16.0)\n",
      "Requirement already satisfied: wsproto>=0.14 in c:\\users\\jvcca\\onedrive\\desktop\\projects\\tcc\\fundamentus_scraper\\venv\\lib\\site-packages (from trio-websocket~=0.9->selenium) (1.2.0)\n",
      "Requirement already satisfied: pysocks!=1.5.7,<2.0,>=1.5.6 in c:\\users\\jvcca\\onedrive\\desktop\\projects\\tcc\\fundamentus_scraper\\venv\\lib\\site-packages (from urllib3[socks]<3,>=1.26->selenium) (1.7.1)\n",
      "Requirement already satisfied: pycparser in c:\\users\\jvcca\\onedrive\\desktop\\projects\\tcc\\fundamentus_scraper\\venv\\lib\\site-packages (from cffi>=1.14->trio~=0.17->selenium) (2.21)\n",
      "Requirement already satisfied: h11<1,>=0.9.0 in c:\\users\\jvcca\\onedrive\\desktop\\projects\\tcc\\fundamentus_scraper\\venv\\lib\\site-packages (from wsproto>=0.14->trio-websocket~=0.9->selenium) (0.14.0)\n",
      "Note: you may need to restart the kernel to use updated packages.\n"
     ]
    },
    {
     "name": "stderr",
     "output_type": "stream",
     "text": [
      "\n",
      "[notice] A new release of pip is available: 24.0 -> 24.1.2\n",
      "[notice] To update, run: python.exe -m pip install --upgrade pip\n"
     ]
    },
    {
     "name": "stdout",
     "output_type": "stream",
     "text": [
      "Requirement already satisfied: webdriver-manager in c:\\users\\jvcca\\onedrive\\desktop\\projects\\tcc\\fundamentus_scraper\\venv\\lib\\site-packages (4.0.1)\n",
      "Requirement already satisfied: requests in c:\\users\\jvcca\\onedrive\\desktop\\projects\\tcc\\fundamentus_scraper\\venv\\lib\\site-packages (from webdriver-manager) (2.31.0)\n",
      "Requirement already satisfied: python-dotenv in c:\\users\\jvcca\\onedrive\\desktop\\projects\\tcc\\fundamentus_scraper\\venv\\lib\\site-packages (from webdriver-manager) (1.0.1)\n",
      "Requirement already satisfied: packaging in c:\\users\\jvcca\\onedrive\\desktop\\projects\\tcc\\fundamentus_scraper\\venv\\lib\\site-packages (from webdriver-manager) (24.0)\n",
      "Requirement already satisfied: charset-normalizer<4,>=2 in c:\\users\\jvcca\\onedrive\\desktop\\projects\\tcc\\fundamentus_scraper\\venv\\lib\\site-packages (from requests->webdriver-manager) (3.3.2)\n",
      "Requirement already satisfied: idna<4,>=2.5 in c:\\users\\jvcca\\onedrive\\desktop\\projects\\tcc\\fundamentus_scraper\\venv\\lib\\site-packages (from requests->webdriver-manager) (3.6)\n",
      "Requirement already satisfied: urllib3<3,>=1.21.1 in c:\\users\\jvcca\\onedrive\\desktop\\projects\\tcc\\fundamentus_scraper\\venv\\lib\\site-packages (from requests->webdriver-manager) (2.2.1)\n",
      "Requirement already satisfied: certifi>=2017.4.17 in c:\\users\\jvcca\\onedrive\\desktop\\projects\\tcc\\fundamentus_scraper\\venv\\lib\\site-packages (from requests->webdriver-manager) (2024.2.2)\n",
      "Note: you may need to restart the kernel to use updated packages.\n"
     ]
    },
    {
     "name": "stderr",
     "output_type": "stream",
     "text": [
      "\n",
      "[notice] A new release of pip is available: 24.0 -> 24.1.2\n",
      "[notice] To update, run: python.exe -m pip install --upgrade pip\n"
     ]
    },
    {
     "name": "stdout",
     "output_type": "stream",
     "text": [
      "Requirement already satisfied: pandas in c:\\users\\jvcca\\onedrive\\desktop\\projects\\tcc\\fundamentus_scraper\\venv\\lib\\site-packages (2.2.2)\n",
      "Requirement already satisfied: numpy>=1.23.2 in c:\\users\\jvcca\\onedrive\\desktop\\projects\\tcc\\fundamentus_scraper\\venv\\lib\\site-packages (from pandas) (1.26.4)\n",
      "Requirement already satisfied: python-dateutil>=2.8.2 in c:\\users\\jvcca\\onedrive\\desktop\\projects\\tcc\\fundamentus_scraper\\venv\\lib\\site-packages (from pandas) (2.9.0.post0)\n",
      "Requirement already satisfied: pytz>=2020.1 in c:\\users\\jvcca\\onedrive\\desktop\\projects\\tcc\\fundamentus_scraper\\venv\\lib\\site-packages (from pandas) (2024.1)\n",
      "Requirement already satisfied: tzdata>=2022.7 in c:\\users\\jvcca\\onedrive\\desktop\\projects\\tcc\\fundamentus_scraper\\venv\\lib\\site-packages (from pandas) (2024.1)\n",
      "Requirement already satisfied: six>=1.5 in c:\\users\\jvcca\\onedrive\\desktop\\projects\\tcc\\fundamentus_scraper\\venv\\lib\\site-packages (from python-dateutil>=2.8.2->pandas) (1.16.0)\n",
      "Note: you may need to restart the kernel to use updated packages.\n"
     ]
    },
    {
     "name": "stderr",
     "output_type": "stream",
     "text": [
      "\n",
      "[notice] A new release of pip is available: 24.0 -> 24.1.2\n",
      "[notice] To update, run: python.exe -m pip install --upgrade pip\n"
     ]
    },
    {
     "name": "stdout",
     "output_type": "stream",
     "text": [
      "Requirement already satisfied: lxml in c:\\users\\jvcca\\onedrive\\desktop\\projects\\tcc\\fundamentus_scraper\\venv\\lib\\site-packages (5.2.1)\n",
      "Note: you may need to restart the kernel to use updated packages.\n"
     ]
    },
    {
     "name": "stderr",
     "output_type": "stream",
     "text": [
      "\n",
      "[notice] A new release of pip is available: 24.0 -> 24.1.2\n",
      "[notice] To update, run: python.exe -m pip install --upgrade pip\n"
     ]
    }
   ],
   "source": [
    "%pip install selenium\n",
    "%pip install webdriver-manager\n",
    "%pip install pandas\n",
    "%pip install lxml"
   ]
  },
  {
   "cell_type": "markdown",
   "metadata": {},
   "source": [
    "## *Importação das Bibliotecas Necessárias*"
   ]
  },
  {
   "cell_type": "code",
   "execution_count": 5,
   "metadata": {},
   "outputs": [],
   "source": [
    "import os\n",
    "import zipfile\n",
    "import pandas as pd\n",
    "import logging\n",
    "from selenium import webdriver\n",
    "from selenium.webdriver.common.by import By\n",
    "from selenium.webdriver.support.ui import WebDriverWait\n",
    "from selenium.webdriver.support import expected_conditions as EC\n",
    "from selenium.common.exceptions import (\n",
    "    NoSuchElementException,\n",
    "    TimeoutException,\n",
    ")\n",
    "from selenium.webdriver.chrome.service import Service\n",
    "from webdriver_manager.chrome import ChromeDriverManager\n",
    "import logging\n",
    "from io import StringIO"
   ]
  },
  {
   "cell_type": "markdown",
   "metadata": {},
   "source": [
    "### Configuração de Logs"
   ]
  },
  {
   "cell_type": "code",
   "execution_count": 2,
   "metadata": {},
   "outputs": [],
   "source": [
    "logging.basicConfig(\n",
    "    level=logging.INFO, format=\"%(asctime)s - %(levelname)s - %(message)s\"\n",
    ")"
   ]
  },
  {
   "cell_type": "markdown",
   "metadata": {},
   "source": [
    "##  *Configuração e Inicialização do WebDriver do Selenium*"
   ]
  },
  {
   "cell_type": "code",
   "execution_count": 3,
   "metadata": {},
   "outputs": [
    {
     "name": "stderr",
     "output_type": "stream",
     "text": [
      "2024-07-29 20:13:04,106 - INFO - ====== WebDriver manager ======\n",
      "2024-07-29 20:13:09,211 - INFO - Get LATEST chromedriver version for google-chrome\n",
      "2024-07-29 20:13:10,221 - INFO - Get LATEST chromedriver version for google-chrome\n",
      "2024-07-29 20:13:11,149 - INFO - Get LATEST chromedriver version for google-chrome\n",
      "2024-07-29 20:13:13,606 - INFO - WebDriver version 126.0.6478.182 selected\n",
      "2024-07-29 20:13:13,623 - INFO - Modern chrome version https://storage.googleapis.com/chrome-for-testing-public/126.0.6478.182/win32/chromedriver-win32.zip\n",
      "2024-07-29 20:13:13,624 - INFO - About to download new driver from https://storage.googleapis.com/chrome-for-testing-public/126.0.6478.182/win32/chromedriver-win32.zip\n",
      "2024-07-29 20:13:14,769 - INFO - Driver downloading response is 200\n",
      "2024-07-29 20:13:15,322 - INFO - Get LATEST chromedriver version for google-chrome\n",
      "2024-07-29 20:13:16,972 - INFO - Driver has been saved in cache [C:\\Users\\jvcca\\.wdm\\drivers\\chromedriver\\win64\\126.0.6478.182]\n"
     ]
    }
   ],
   "source": [
    "# Configuração e Inicialização do WebDriver do Selenium em Modo Headless\n",
    "def configurar_driver_headless():\n",
    "    options = webdriver.ChromeOptions()\n",
    "    options.add_argument(\"--headless\")\n",
    "    options.add_argument(\"--disable-gpu\")\n",
    "    options.add_argument(\"--window-size=1920,1080\")\n",
    "    driver = webdriver.Chrome(\n",
    "        service=Service(ChromeDriverManager().install()), options=options\n",
    "    )\n",
    "    return driver\n",
    "\n",
    "driver = configurar_driver_headless()"
   ]
  },
  {
   "cell_type": "markdown",
   "metadata": {},
   "source": [
    "## *URLs das Páginas a Serem Acessadas*"
   ]
  },
  {
   "cell_type": "code",
   "execution_count": 4,
   "metadata": {},
   "outputs": [],
   "source": [
    "url_pagina1 = \"https://www.fundamentus.com.br/resultado.php\"\n",
    "url_pagina2 = \"https://www.fundamentus.com.br/detalhes.php\""
   ]
  },
  {
   "cell_type": "markdown",
   "metadata": {},
   "source": [
    "## *Localização e Extração das Tabelas* "
   ]
  },
  {
   "cell_type": "code",
   "execution_count": 5,
   "metadata": {},
   "outputs": [],
   "source": [
    "def obter_tabela_html(driver, url, xpath):\n",
    "    driver.get(url)\n",
    "    WebDriverWait(driver, 10).until(\n",
    "        EC.presence_of_element_located((By.XPATH, xpath))\n",
    "    )\n",
    "    elemento = driver.find_element(\"xpath\", xpath)\n",
    "    return elemento.get_attribute(\"outerHTML\")\n",
    "\n",
    "html_tabela = obter_tabela_html(driver, url_pagina1, \"/html/body/div[1]/div[2]/table\")\n",
    "html_tabela_2 = obter_tabela_html(driver, url_pagina2, \"/html/body/div[1]/div[2]/div[1]/div/table\")"
   ]
  },
  {
   "cell_type": "markdown",
   "metadata": {},
   "source": [
    "## Conversão em DataFrame Pandas"
   ]
  },
  {
   "cell_type": "code",
   "execution_count": 6,
   "metadata": {},
   "outputs": [],
   "source": [
    "df_financas = pd.read_html(StringIO(html_tabela), decimal=\",\", thousands=\".\")[0]\n",
    "df_empresas = pd.read_html(StringIO(html_tabela_2))[0]\n",
    "\n",
    "# Extraindo o Papel e o Nome da Empresa, e Removendo a Coluna de Razão Social\n",
    "df_empresas.columns = [\"Papel\", \"Nome\", \"Razão Social\"]\n",
    "df_empresas.drop(columns=[\"Razão Social\"], inplace=True)"
   ]
  },
  {
   "cell_type": "markdown",
   "metadata": {},
   "source": [
    "## Exibindo os DataFrames"
   ]
  },
  {
   "cell_type": "code",
   "execution_count": 7,
   "metadata": {},
   "outputs": [
    {
     "name": "stdout",
     "output_type": "stream",
     "text": [
      "Tabela com os dados financeiros:\n"
     ]
    },
    {
     "data": {
      "text/html": [
       "<div>\n",
       "<style scoped>\n",
       "    .dataframe tbody tr th:only-of-type {\n",
       "        vertical-align: middle;\n",
       "    }\n",
       "\n",
       "    .dataframe tbody tr th {\n",
       "        vertical-align: top;\n",
       "    }\n",
       "\n",
       "    .dataframe thead th {\n",
       "        text-align: right;\n",
       "    }\n",
       "</style>\n",
       "<table border=\"1\" class=\"dataframe\">\n",
       "  <thead>\n",
       "    <tr style=\"text-align: right;\">\n",
       "      <th></th>\n",
       "      <th>Papel</th>\n",
       "      <th>Cotação</th>\n",
       "      <th>P/L</th>\n",
       "      <th>P/VP</th>\n",
       "      <th>PSR</th>\n",
       "      <th>Div.Yield</th>\n",
       "      <th>P/Ativo</th>\n",
       "      <th>P/Cap.Giro</th>\n",
       "      <th>P/EBIT</th>\n",
       "      <th>P/Ativ Circ.Liq</th>\n",
       "      <th>...</th>\n",
       "      <th>EV/EBITDA</th>\n",
       "      <th>Mrg Ebit</th>\n",
       "      <th>Mrg. Líq.</th>\n",
       "      <th>Liq. Corr.</th>\n",
       "      <th>ROIC</th>\n",
       "      <th>ROE</th>\n",
       "      <th>Liq.2meses</th>\n",
       "      <th>Patrim. Líq</th>\n",
       "      <th>Dív.Brut/ Patrim.</th>\n",
       "      <th>Cresc. Rec.5a</th>\n",
       "    </tr>\n",
       "  </thead>\n",
       "  <tbody>\n",
       "    <tr>\n",
       "      <th>0</th>\n",
       "      <td>POPR4</td>\n",
       "      <td>10.17</td>\n",
       "      <td>0.00</td>\n",
       "      <td>0.00</td>\n",
       "      <td>0.000</td>\n",
       "      <td>0,00%</td>\n",
       "      <td>0.000</td>\n",
       "      <td>0.00</td>\n",
       "      <td>0.00</td>\n",
       "      <td>0.00</td>\n",
       "      <td>...</td>\n",
       "      <td>0.00</td>\n",
       "      <td>8,66%</td>\n",
       "      <td>5,65%</td>\n",
       "      <td>1.08</td>\n",
       "      <td>15,25%</td>\n",
       "      <td>19,93%</td>\n",
       "      <td>0.0</td>\n",
       "      <td>5.458030e+08</td>\n",
       "      <td>0.82</td>\n",
       "      <td>30,93%</td>\n",
       "    </tr>\n",
       "    <tr>\n",
       "      <th>1</th>\n",
       "      <td>PORP4</td>\n",
       "      <td>2.40</td>\n",
       "      <td>0.00</td>\n",
       "      <td>0.00</td>\n",
       "      <td>0.000</td>\n",
       "      <td>0,00%</td>\n",
       "      <td>0.000</td>\n",
       "      <td>0.00</td>\n",
       "      <td>0.00</td>\n",
       "      <td>0.00</td>\n",
       "      <td>...</td>\n",
       "      <td>0.00</td>\n",
       "      <td>0,00%</td>\n",
       "      <td>0,00%</td>\n",
       "      <td>0.00</td>\n",
       "      <td>0,00%</td>\n",
       "      <td>-2,08%</td>\n",
       "      <td>0.0</td>\n",
       "      <td>2.239900e+07</td>\n",
       "      <td>0.00</td>\n",
       "      <td>13,66%</td>\n",
       "    </tr>\n",
       "    <tr>\n",
       "      <th>2</th>\n",
       "      <td>CSTB4</td>\n",
       "      <td>147.69</td>\n",
       "      <td>0.00</td>\n",
       "      <td>0.00</td>\n",
       "      <td>0.000</td>\n",
       "      <td>0,00%</td>\n",
       "      <td>0.000</td>\n",
       "      <td>0.00</td>\n",
       "      <td>0.00</td>\n",
       "      <td>0.00</td>\n",
       "      <td>...</td>\n",
       "      <td>0.00</td>\n",
       "      <td>40,85%</td>\n",
       "      <td>28,98%</td>\n",
       "      <td>2.60</td>\n",
       "      <td>22,40%</td>\n",
       "      <td>20,11%</td>\n",
       "      <td>0.0</td>\n",
       "      <td>8.420670e+09</td>\n",
       "      <td>0.14</td>\n",
       "      <td>31,91%</td>\n",
       "    </tr>\n",
       "    <tr>\n",
       "      <th>3</th>\n",
       "      <td>MNSA4</td>\n",
       "      <td>0.47</td>\n",
       "      <td>0.00</td>\n",
       "      <td>0.00</td>\n",
       "      <td>0.000</td>\n",
       "      <td>0,00%</td>\n",
       "      <td>0.000</td>\n",
       "      <td>0.00</td>\n",
       "      <td>0.00</td>\n",
       "      <td>0.00</td>\n",
       "      <td>...</td>\n",
       "      <td>0.00</td>\n",
       "      <td>-208,15%</td>\n",
       "      <td>-362,66%</td>\n",
       "      <td>3.63</td>\n",
       "      <td>-13,50%</td>\n",
       "      <td>145,70%</td>\n",
       "      <td>0.0</td>\n",
       "      <td>-9.105000e+06</td>\n",
       "      <td>-6.52</td>\n",
       "      <td>-41,11%</td>\n",
       "    </tr>\n",
       "    <tr>\n",
       "      <th>4</th>\n",
       "      <td>CLAN3</td>\n",
       "      <td>0.00</td>\n",
       "      <td>0.00</td>\n",
       "      <td>0.00</td>\n",
       "      <td>0.000</td>\n",
       "      <td>0,00%</td>\n",
       "      <td>0.000</td>\n",
       "      <td>0.00</td>\n",
       "      <td>0.00</td>\n",
       "      <td>0.00</td>\n",
       "      <td>...</td>\n",
       "      <td>0.00</td>\n",
       "      <td>0,00%</td>\n",
       "      <td>0,00%</td>\n",
       "      <td>0.00</td>\n",
       "      <td>0,00%</td>\n",
       "      <td>-1,05%</td>\n",
       "      <td>0.0</td>\n",
       "      <td>1.012240e+09</td>\n",
       "      <td>0.00</td>\n",
       "      <td>-63,96%</td>\n",
       "    </tr>\n",
       "    <tr>\n",
       "      <th>...</th>\n",
       "      <td>...</td>\n",
       "      <td>...</td>\n",
       "      <td>...</td>\n",
       "      <td>...</td>\n",
       "      <td>...</td>\n",
       "      <td>...</td>\n",
       "      <td>...</td>\n",
       "      <td>...</td>\n",
       "      <td>...</td>\n",
       "      <td>...</td>\n",
       "      <td>...</td>\n",
       "      <td>...</td>\n",
       "      <td>...</td>\n",
       "      <td>...</td>\n",
       "      <td>...</td>\n",
       "      <td>...</td>\n",
       "      <td>...</td>\n",
       "      <td>...</td>\n",
       "      <td>...</td>\n",
       "      <td>...</td>\n",
       "      <td>...</td>\n",
       "    </tr>\n",
       "    <tr>\n",
       "      <th>982</th>\n",
       "      <td>CSNA3</td>\n",
       "      <td>11.92</td>\n",
       "      <td>854.94</td>\n",
       "      <td>0.91</td>\n",
       "      <td>0.361</td>\n",
       "      <td>12,24%</td>\n",
       "      <td>0.172</td>\n",
       "      <td>2.15</td>\n",
       "      <td>2.62</td>\n",
       "      <td>-0.40</td>\n",
       "      <td>...</td>\n",
       "      <td>4.82</td>\n",
       "      <td>13,77%</td>\n",
       "      <td>1,70%</td>\n",
       "      <td>1.29</td>\n",
       "      <td>8,82%</td>\n",
       "      <td>0,11%</td>\n",
       "      <td>83197300.0</td>\n",
       "      <td>1.729740e+10</td>\n",
       "      <td>2.68</td>\n",
       "      <td>14,14%</td>\n",
       "    </tr>\n",
       "    <tr>\n",
       "      <th>983</th>\n",
       "      <td>UBBR11</td>\n",
       "      <td>14.75</td>\n",
       "      <td>1201.81</td>\n",
       "      <td>3.91</td>\n",
       "      <td>0.000</td>\n",
       "      <td>0,00%</td>\n",
       "      <td>0.000</td>\n",
       "      <td>0.00</td>\n",
       "      <td>0.00</td>\n",
       "      <td>0.00</td>\n",
       "      <td>...</td>\n",
       "      <td>0.00</td>\n",
       "      <td>0,00%</td>\n",
       "      <td>0,00%</td>\n",
       "      <td>0.00</td>\n",
       "      <td>0,00%</td>\n",
       "      <td>0,33%</td>\n",
       "      <td>0.0</td>\n",
       "      <td>1.031720e+10</td>\n",
       "      <td>0.00</td>\n",
       "      <td>10,58%</td>\n",
       "    </tr>\n",
       "    <tr>\n",
       "      <th>984</th>\n",
       "      <td>UBBR3</td>\n",
       "      <td>18.00</td>\n",
       "      <td>1466.61</td>\n",
       "      <td>4.77</td>\n",
       "      <td>0.000</td>\n",
       "      <td>0,00%</td>\n",
       "      <td>0.000</td>\n",
       "      <td>0.00</td>\n",
       "      <td>0.00</td>\n",
       "      <td>0.00</td>\n",
       "      <td>...</td>\n",
       "      <td>0.00</td>\n",
       "      <td>0,00%</td>\n",
       "      <td>0,00%</td>\n",
       "      <td>0.00</td>\n",
       "      <td>0,00%</td>\n",
       "      <td>0,33%</td>\n",
       "      <td>0.0</td>\n",
       "      <td>1.031720e+10</td>\n",
       "      <td>0.00</td>\n",
       "      <td>10,58%</td>\n",
       "    </tr>\n",
       "    <tr>\n",
       "      <th>985</th>\n",
       "      <td>CEPE3</td>\n",
       "      <td>128.00</td>\n",
       "      <td>1910.07</td>\n",
       "      <td>5.88</td>\n",
       "      <td>1.143</td>\n",
       "      <td>0,00%</td>\n",
       "      <td>0.691</td>\n",
       "      <td>37.60</td>\n",
       "      <td>8.14</td>\n",
       "      <td>-1.10</td>\n",
       "      <td>...</td>\n",
       "      <td>10.86</td>\n",
       "      <td>14,04%</td>\n",
       "      <td>0,06%</td>\n",
       "      <td>1.08</td>\n",
       "      <td>9,34%</td>\n",
       "      <td>0,31%</td>\n",
       "      <td>0.0</td>\n",
       "      <td>1.624000e+09</td>\n",
       "      <td>5.20</td>\n",
       "      <td>1,81%</td>\n",
       "    </tr>\n",
       "    <tr>\n",
       "      <th>986</th>\n",
       "      <td>GUAR4</td>\n",
       "      <td>151.00</td>\n",
       "      <td>3087.67</td>\n",
       "      <td>14.75</td>\n",
       "      <td>8.411</td>\n",
       "      <td>0,00%</td>\n",
       "      <td>5.531</td>\n",
       "      <td>21.75</td>\n",
       "      <td>165.04</td>\n",
       "      <td>1042.44</td>\n",
       "      <td>...</td>\n",
       "      <td>69.78</td>\n",
       "      <td>5,10%</td>\n",
       "      <td>0,27%</td>\n",
       "      <td>1.68</td>\n",
       "      <td>4,44%</td>\n",
       "      <td>0,48%</td>\n",
       "      <td>0.0</td>\n",
       "      <td>5.108920e+09</td>\n",
       "      <td>0.62</td>\n",
       "      <td>6,74%</td>\n",
       "    </tr>\n",
       "  </tbody>\n",
       "</table>\n",
       "<p>987 rows × 21 columns</p>\n",
       "</div>"
      ],
      "text/plain": [
       "      Papel  Cotação      P/L   P/VP    PSR Div.Yield  P/Ativo  P/Cap.Giro  \\\n",
       "0     POPR4    10.17     0.00   0.00  0.000     0,00%    0.000        0.00   \n",
       "1     PORP4     2.40     0.00   0.00  0.000     0,00%    0.000        0.00   \n",
       "2     CSTB4   147.69     0.00   0.00  0.000     0,00%    0.000        0.00   \n",
       "3     MNSA4     0.47     0.00   0.00  0.000     0,00%    0.000        0.00   \n",
       "4     CLAN3     0.00     0.00   0.00  0.000     0,00%    0.000        0.00   \n",
       "..      ...      ...      ...    ...    ...       ...      ...         ...   \n",
       "982   CSNA3    11.92   854.94   0.91  0.361    12,24%    0.172        2.15   \n",
       "983  UBBR11    14.75  1201.81   3.91  0.000     0,00%    0.000        0.00   \n",
       "984   UBBR3    18.00  1466.61   4.77  0.000     0,00%    0.000        0.00   \n",
       "985   CEPE3   128.00  1910.07   5.88  1.143     0,00%    0.691       37.60   \n",
       "986   GUAR4   151.00  3087.67  14.75  8.411     0,00%    5.531       21.75   \n",
       "\n",
       "     P/EBIT  P/Ativ Circ.Liq  ...  EV/EBITDA  Mrg Ebit Mrg. Líq. Liq. Corr.  \\\n",
       "0      0.00             0.00  ...       0.00     8,66%     5,65%       1.08   \n",
       "1      0.00             0.00  ...       0.00     0,00%     0,00%       0.00   \n",
       "2      0.00             0.00  ...       0.00    40,85%    28,98%       2.60   \n",
       "3      0.00             0.00  ...       0.00  -208,15%  -362,66%       3.63   \n",
       "4      0.00             0.00  ...       0.00     0,00%     0,00%       0.00   \n",
       "..      ...              ...  ...        ...       ...       ...        ...   \n",
       "982    2.62            -0.40  ...       4.82    13,77%     1,70%       1.29   \n",
       "983    0.00             0.00  ...       0.00     0,00%     0,00%       0.00   \n",
       "984    0.00             0.00  ...       0.00     0,00%     0,00%       0.00   \n",
       "985    8.14            -1.10  ...      10.86    14,04%     0,06%       1.08   \n",
       "986  165.04          1042.44  ...      69.78     5,10%     0,27%       1.68   \n",
       "\n",
       "        ROIC      ROE  Liq.2meses   Patrim. Líq  Dív.Brut/ Patrim.  \\\n",
       "0     15,25%   19,93%         0.0  5.458030e+08               0.82   \n",
       "1      0,00%   -2,08%         0.0  2.239900e+07               0.00   \n",
       "2     22,40%   20,11%         0.0  8.420670e+09               0.14   \n",
       "3    -13,50%  145,70%         0.0 -9.105000e+06              -6.52   \n",
       "4      0,00%   -1,05%         0.0  1.012240e+09               0.00   \n",
       "..       ...      ...         ...           ...                ...   \n",
       "982    8,82%    0,11%  83197300.0  1.729740e+10               2.68   \n",
       "983    0,00%    0,33%         0.0  1.031720e+10               0.00   \n",
       "984    0,00%    0,33%         0.0  1.031720e+10               0.00   \n",
       "985    9,34%    0,31%         0.0  1.624000e+09               5.20   \n",
       "986    4,44%    0,48%         0.0  5.108920e+09               0.62   \n",
       "\n",
       "     Cresc. Rec.5a  \n",
       "0           30,93%  \n",
       "1           13,66%  \n",
       "2           31,91%  \n",
       "3          -41,11%  \n",
       "4          -63,96%  \n",
       "..             ...  \n",
       "982         14,14%  \n",
       "983         10,58%  \n",
       "984         10,58%  \n",
       "985          1,81%  \n",
       "986          6,74%  \n",
       "\n",
       "[987 rows x 21 columns]"
      ]
     },
     "metadata": {},
     "output_type": "display_data"
    }
   ],
   "source": [
    "#Tabela com os dados financeiros\n",
    "print(\"Tabela com os dados financeiros:\")\n",
    "display(df_financas)"
   ]
  },
  {
   "cell_type": "code",
   "execution_count": 8,
   "metadata": {},
   "outputs": [
    {
     "name": "stdout",
     "output_type": "stream",
     "text": [
      "\n",
      "Tabela com os papeis e seus nomes:\n"
     ]
    },
    {
     "data": {
      "text/html": [
       "<div>\n",
       "<style scoped>\n",
       "    .dataframe tbody tr th:only-of-type {\n",
       "        vertical-align: middle;\n",
       "    }\n",
       "\n",
       "    .dataframe tbody tr th {\n",
       "        vertical-align: top;\n",
       "    }\n",
       "\n",
       "    .dataframe thead th {\n",
       "        text-align: right;\n",
       "    }\n",
       "</style>\n",
       "<table border=\"1\" class=\"dataframe\">\n",
       "  <thead>\n",
       "    <tr style=\"text-align: right;\">\n",
       "      <th></th>\n",
       "      <th>Papel</th>\n",
       "      <th>Nome</th>\n",
       "    </tr>\n",
       "  </thead>\n",
       "  <tbody>\n",
       "    <tr>\n",
       "      <th>0</th>\n",
       "      <td>AALR3</td>\n",
       "      <td>ALLIAR</td>\n",
       "    </tr>\n",
       "    <tr>\n",
       "      <th>1</th>\n",
       "      <td>ABCB3</td>\n",
       "      <td>ABC Brasil</td>\n",
       "    </tr>\n",
       "    <tr>\n",
       "      <th>2</th>\n",
       "      <td>ABCB4</td>\n",
       "      <td>ABC Brasil</td>\n",
       "    </tr>\n",
       "    <tr>\n",
       "      <th>3</th>\n",
       "      <td>ABEV3</td>\n",
       "      <td>AMBEV S/A</td>\n",
       "    </tr>\n",
       "    <tr>\n",
       "      <th>4</th>\n",
       "      <td>ABRE3</td>\n",
       "      <td>SOMOS EDUCA</td>\n",
       "    </tr>\n",
       "    <tr>\n",
       "      <th>...</th>\n",
       "      <td>...</td>\n",
       "      <td>...</td>\n",
       "    </tr>\n",
       "    <tr>\n",
       "      <th>1029</th>\n",
       "      <td>WMBY3</td>\n",
       "      <td>WEMBLEY SOCIEDADE ANÔNIMA</td>\n",
       "    </tr>\n",
       "    <tr>\n",
       "      <th>1030</th>\n",
       "      <td>WSON33</td>\n",
       "      <td>Wilson Sons</td>\n",
       "    </tr>\n",
       "    <tr>\n",
       "      <th>1031</th>\n",
       "      <td>YBRA4</td>\n",
       "      <td>OPPORTUNITY ALEF S/A</td>\n",
       "    </tr>\n",
       "    <tr>\n",
       "      <th>1032</th>\n",
       "      <td>YDUQ3</td>\n",
       "      <td>YDUQS PART</td>\n",
       "    </tr>\n",
       "    <tr>\n",
       "      <th>1033</th>\n",
       "      <td>ZAMP3</td>\n",
       "      <td>ZAMP S.A.</td>\n",
       "    </tr>\n",
       "  </tbody>\n",
       "</table>\n",
       "<p>1034 rows × 2 columns</p>\n",
       "</div>"
      ],
      "text/plain": [
       "       Papel                       Nome\n",
       "0      AALR3                     ALLIAR\n",
       "1      ABCB3                 ABC Brasil\n",
       "2      ABCB4                 ABC Brasil\n",
       "3      ABEV3                  AMBEV S/A\n",
       "4      ABRE3                SOMOS EDUCA\n",
       "...      ...                        ...\n",
       "1029   WMBY3  WEMBLEY SOCIEDADE ANÔNIMA\n",
       "1030  WSON33                Wilson Sons\n",
       "1031   YBRA4       OPPORTUNITY ALEF S/A\n",
       "1032   YDUQ3                 YDUQS PART\n",
       "1033   ZAMP3                  ZAMP S.A.\n",
       "\n",
       "[1034 rows x 2 columns]"
      ]
     },
     "metadata": {},
     "output_type": "display_data"
    }
   ],
   "source": [
    "#Tabela com as empresas e seus papeis\n",
    "print(\"\\nTabela com os papeis e seus nomes:\")\n",
    "display(df_empresas)"
   ]
  },
  {
   "cell_type": "markdown",
   "metadata": {},
   "source": [
    "## Fechando o Driver Selenium"
   ]
  },
  {
   "cell_type": "code",
   "execution_count": 9,
   "metadata": {},
   "outputs": [],
   "source": [
    "# Fechar o WebDriver do Selenium após concluir a extração e exibição dos dados\n",
    "driver.quit()"
   ]
  },
  {
   "cell_type": "markdown",
   "metadata": {},
   "source": [
    "## Balanços"
   ]
  },
  {
   "cell_type": "markdown",
   "metadata": {},
   "source": [
    "###  *Configuração e Inicialização do WebDriver do Selenium*"
   ]
  },
  {
   "cell_type": "code",
   "execution_count": 6,
   "metadata": {},
   "outputs": [],
   "source": [
    "# Configuração das pastas\n",
    "DOWNLOADS_FOLDER = \"downloads\"\n",
    "BALANCOS_FOLDER = \"balancos\"\n",
    "SEM_BALANCOS_LISTA = \"sem_balancos.txt\"\n",
    "\n",
    "def criar_pasta_se_nao_existir(caminho_pasta):\n",
    "    if not os.path.exists(caminho_pasta):\n",
    "        os.makedirs(caminho_pasta)\n",
    "\n",
    "criar_pasta_se_nao_existir(DOWNLOADS_FOLDER)\n",
    "criar_pasta_se_nao_existir(BALANCOS_FOLDER)"
   ]
  },
  {
   "cell_type": "code",
   "execution_count": 29,
   "metadata": {},
   "outputs": [
    {
     "name": "stderr",
     "output_type": "stream",
     "text": [
      "2024-07-29 20:44:11,876 - INFO - ====== WebDriver manager ======\n",
      "2024-07-29 20:44:18,594 - INFO - Get LATEST chromedriver version for google-chrome\n",
      "2024-07-29 20:44:19,436 - INFO - Get LATEST chromedriver version for google-chrome\n",
      "2024-07-29 20:44:20,483 - INFO - Driver [C:\\Users\\jvcca\\.wdm\\drivers\\chromedriver\\win64\\126.0.6478.182\\chromedriver-win32/chromedriver.exe] found in cache\n"
     ]
    }
   ],
   "source": [
    "# Configuração e Inicialização do WebDriver do Selenium\n",
    "def configurar_driver():\n",
    "    options = webdriver.ChromeOptions()\n",
    "    prefs = {\n",
    "        \"download.default_directory\": os.path.join(os.getcwd(), DOWNLOADS_FOLDER),\n",
    "        \"download.prompt_for_download\": False,\n",
    "        \"download.directory_upgrade\": True,\n",
    "        \"safebrowsing.enabled\": True,\n",
    "    }\n",
    "    options.add_experimental_option(\"prefs\", prefs)\n",
    "    driver = webdriver.Chrome(\n",
    "        service=Service(ChromeDriverManager().install()), options=options\n",
    "    )\n",
    "    return driver\n",
    "\n",
    "driver = configurar_driver()"
   ]
  },
  {
   "cell_type": "markdown",
   "metadata": {},
   "source": [
    "### Função para Baixar e Renomear Arquivo"
   ]
  },
  {
   "cell_type": "markdown",
   "metadata": {},
   "source": [
    "#### DataFrame de teste"
   ]
  },
  {
   "cell_type": "code",
   "execution_count": null,
   "metadata": {},
   "outputs": [],
   "source": [
    "dados_empresas = {\n",
    "    'Papel': [\n",
    "        'AALR3', 'ABCB3', 'ABCB4', 'ABEV3', 'ABRE3', 'ABYA3',\n",
    "        'ACES3', 'ACES4', 'ADHM3', 'AEDU11', 'AEDU3', 'AELP3',\n",
    "        'AERI3', 'AESB3', 'AESL3', 'AESL4', 'AFLT3', 'AFLU3',\n",
    "        'AFLU5', 'AGEI3'\n",
    "    ]\n",
    "}\n",
    "\n",
    "df_empresas = pd.DataFrame(dados_empresas)\n",
    "display(df_empresas)"
   ]
  },
  {
   "cell_type": "markdown",
   "metadata": {},
   "source": [
    "#### Baixa e renomeia arquivos para todos os papéis na lista fornecida e registra erros."
   ]
  },
  {
   "cell_type": "code",
   "execution_count": 31,
   "metadata": {},
   "outputs": [],
   "source": [
    "def baixar_e_renomear_arquivo(df_empresas, driver):\n",
    "    sem_balanco = set()  # Usar um conjunto para evitar duplicatas\n",
    "\n",
    "    for papel in df_empresas['Papel']:\n",
    "        arquivo_destino = os.path.join(DOWNLOADS_FOLDER, f\"{papel}.zip\")\n",
    "        \n",
    "        if os.path.isfile(arquivo_destino):\n",
    "            logging.info(f\"Arquivo {arquivo_destino} já existe. Pulando o papel {papel}.\")\n",
    "            continue\n",
    "\n",
    "        url_papeis = f'https://www.fundamentus.com.br/balancos.php?papel={papel}&interface=mobile'\n",
    "        driver.get(url_papeis)\n",
    "        \n",
    "        try:\n",
    "            botao_download = WebDriverWait(driver, 10).until(\n",
    "                EC.visibility_of_element_located((By.CSS_SELECTOR, \"a.bt-baixar\"))\n",
    "            )\n",
    "            botao_download.click()\n",
    "            \n",
    "            WebDriverWait(driver, 30).until(\n",
    "                lambda driver: any(f.startswith(\"bal_\") for f in os.listdir(DOWNLOADS_FOLDER))\n",
    "            )\n",
    "            \n",
    "            arquivos_iniciais = {f for f in os.listdir(DOWNLOADS_FOLDER)}\n",
    "            novo_arquivo = next((f for f in os.listdir(DOWNLOADS_FOLDER) if f.startswith(\"bal_\")), None)\n",
    "            \n",
    "            if novo_arquivo:\n",
    "                caminho_arquivo = os.path.join(DOWNLOADS_FOLDER, novo_arquivo)\n",
    "                try:\n",
    "                    os.rename(caminho_arquivo, arquivo_destino)\n",
    "                    logging.info(f\"Arquivo {arquivo_destino} baixado e renomeado com sucesso!\")\n",
    "                except Exception as e:\n",
    "                    logging.error(f\"Erro ao renomear arquivo {novo_arquivo} para {papel}: {e}\")\n",
    "            else:\n",
    "                logging.error(f\"Erro ao encontrar o arquivo baixado para {papel}\")\n",
    "        \n",
    "        except (NoSuchElementException, TimeoutException):\n",
    "            logging.error(f\"Botão de download não encontrado para {papel}.\")\n",
    "            sem_balanco.add(papel)  # Adicionar ao conjunto\n",
    "            continue\n",
    "        except Exception as e:\n",
    "            logging.error(f\"Erro inesperado para {papel}: {e}\")\n",
    "            continue\n",
    "\n",
    "    with open(SEM_BALANCOS_LISTA, 'w') as f:\n",
    "        for papel in sorted(sem_balanco):\n",
    "            f.write(f\"{papel}\\n\")"
   ]
  },
  {
   "cell_type": "markdown",
   "metadata": {},
   "source": [
    "#### Chamando a função para baixar e renomear os arquivos"
   ]
  },
  {
   "cell_type": "code",
   "execution_count": 33,
   "metadata": {},
   "outputs": [
    {
     "name": "stderr",
     "output_type": "stream",
     "text": [
      "2024-07-29 20:45:44,612 - INFO - Arquivo downloads\\AALR3.zip baixado e renomeado com sucesso!\n",
      "2024-07-29 20:45:49,806 - INFO - Arquivo downloads\\ABCB3.zip baixado e renomeado com sucesso!\n",
      "2024-07-29 20:45:54,311 - INFO - Arquivo downloads\\ABCB4.zip baixado e renomeado com sucesso!\n",
      "2024-07-29 20:46:00,630 - INFO - Arquivo downloads\\ABEV3.zip baixado e renomeado com sucesso!\n",
      "2024-07-29 20:46:12,610 - ERROR - Botão de download não encontrado para ABRE3.\n",
      "2024-07-29 20:46:19,408 - INFO - Arquivo downloads\\ABYA3.zip baixado e renomeado com sucesso!\n",
      "2024-07-29 20:46:23,945 - INFO - Arquivo downloads\\ACES3.zip baixado e renomeado com sucesso!\n",
      "2024-07-29 20:46:29,203 - INFO - Arquivo downloads\\ACES4.zip baixado e renomeado com sucesso!\n",
      "2024-07-29 20:46:32,869 - INFO - Arquivo downloads\\ADHM3.zip baixado e renomeado com sucesso!\n",
      "2024-07-29 20:46:38,807 - INFO - Arquivo downloads\\AEDU11.zip baixado e renomeado com sucesso!\n",
      "2024-07-29 20:46:43,274 - INFO - Arquivo downloads\\AEDU3.zip baixado e renomeado com sucesso!\n",
      "2024-07-29 20:46:46,779 - INFO - Arquivo downloads\\AELP3.zip baixado e renomeado com sucesso!\n",
      "2024-07-29 20:46:51,403 - INFO - Arquivo downloads\\AERI3.zip baixado e renomeado com sucesso!\n",
      "2024-07-29 20:46:56,287 - INFO - Arquivo downloads\\AESB3.zip baixado e renomeado com sucesso!\n",
      "2024-07-29 20:47:01,948 - INFO - Arquivo downloads\\AESL3.zip baixado e renomeado com sucesso!\n",
      "2024-07-29 20:47:06,634 - INFO - Arquivo downloads\\AESL4.zip baixado e renomeado com sucesso!\n",
      "2024-07-29 20:47:13,481 - INFO - Arquivo downloads\\AFLT3.zip baixado e renomeado com sucesso!\n",
      "2024-07-29 20:47:16,790 - INFO - Arquivo downloads\\AFLU3.zip baixado e renomeado com sucesso!\n",
      "2024-07-29 20:47:22,037 - INFO - Arquivo downloads\\AFLU5.zip baixado e renomeado com sucesso!\n",
      "2024-07-29 20:47:26,931 - INFO - Arquivo downloads\\AGEI3.zip baixado e renomeado com sucesso!\n"
     ]
    }
   ],
   "source": [
    "baixar_e_renomear_arquivo(df_empresas, driver)"
   ]
  },
  {
   "cell_type": "code",
   "execution_count": 34,
   "metadata": {},
   "outputs": [],
   "source": [
    "# Fechar o WebDriver do Selenium após concluir a extração e exibição dos dados\n",
    "driver.quit()"
   ]
  },
  {
   "cell_type": "markdown",
   "metadata": {},
   "source": [
    "### Função para Extrair e Renomear Arquivo"
   ]
  },
  {
   "cell_type": "code",
   "execution_count": 17,
   "metadata": {},
   "outputs": [
    {
     "name": "stdout",
     "output_type": "stream",
     "text": [
      "Arquivo balancos\\AALR3.xls extraído e renomeado com sucesso!\n",
      "Arquivo balancos\\ABCB3.xls extraído e renomeado com sucesso!\n",
      "Arquivo balancos\\ABCB4.xls extraído e renomeado com sucesso!\n",
      "Arquivo balancos\\ABEV3.xls extraído e renomeado com sucesso!\n",
      "Arquivo balancos\\ABYA3.xls extraído e renomeado com sucesso!\n",
      "Arquivo balancos\\ACES3.xls extraído e renomeado com sucesso!\n",
      "Arquivo balancos\\ACES4.xls extraído e renomeado com sucesso!\n",
      "Arquivo balancos\\ADHM3.xls extraído e renomeado com sucesso!\n",
      "Arquivo balancos\\AEDU11.xls extraído e renomeado com sucesso!\n",
      "Arquivo balancos\\AEDU3.xls extraído e renomeado com sucesso!\n",
      "Arquivo balancos\\AELP3.xls extraído e renomeado com sucesso!\n",
      "Arquivo balancos\\AERI3.xls extraído e renomeado com sucesso!\n",
      "Arquivo balancos\\AESB3.xls extraído e renomeado com sucesso!\n",
      "Arquivo balancos\\AESL3.xls extraído e renomeado com sucesso!\n",
      "Arquivo balancos\\AESL4.xls extraído e renomeado com sucesso!\n",
      "Arquivo balancos\\AFLT3.xls extraído e renomeado com sucesso!\n",
      "Arquivo balancos\\AFLU3.xls extraído e renomeado com sucesso!\n",
      "Arquivo balancos\\AFLU5.xls extraído e renomeado com sucesso!\n",
      "Arquivo balancos\\AGEI3.xls extraído e renomeado com sucesso!\n"
     ]
    }
   ],
   "source": [
    "def extrair_e_renomear_arquivo(df_empresas, download_path, balancos_path, sem_balancos_lista):\n",
    "    # Ler lista de papéis sem balanço\n",
    "    sem_balanco = []\n",
    "    if os.path.exists(sem_balancos_lista):\n",
    "        with open(sem_balancos_lista, 'r') as f:\n",
    "            sem_balanco = [linha.strip() for linha in f.readlines()]\n",
    "\n",
    "    # Filtrar papéis que possuem balanços\n",
    "    df_empresas_filtrado = df_empresas[~df_empresas['Papel'].isin(sem_balanco)]\n",
    "\n",
    "    # Criar um dicionário para mapear nomes de arquivos para papéis\n",
    "    papel_map = {f\"{row['Papel']}.zip\": row['Papel'] for _, row in df_empresas_filtrado.iterrows()}\n",
    "\n",
    "    # Iterar sobre todos os arquivos na pasta de downloads\n",
    "    for nome_arquivo in os.listdir(download_path):\n",
    "        caminho_arquivo_zip = os.path.join(download_path, nome_arquivo)\n",
    "\n",
    "        if nome_arquivo.endswith(\".zip\") and nome_arquivo in papel_map:\n",
    "            nome_papel = papel_map[nome_arquivo]\n",
    "            try:\n",
    "                with zipfile.ZipFile(caminho_arquivo_zip, \"r\") as zip_ref:\n",
    "                    zip_ref.extractall(balancos_path)\n",
    "\n",
    "                caminho_arquivo_xls = os.path.join(balancos_path, \"balanco.xls\")\n",
    "                novo_nome_arquivo = os.path.join(balancos_path, f\"{nome_papel}.xls\")\n",
    "\n",
    "                # Renomeia o arquivo se ainda não foi renomeado\n",
    "                if os.path.exists(caminho_arquivo_xls):\n",
    "                    os.rename(caminho_arquivo_xls, novo_nome_arquivo)\n",
    "                    print(f\"Arquivo {novo_nome_arquivo} extraído e renomeado com sucesso!\")\n",
    "                else:\n",
    "                    print(f\"Arquivo balanco.xls não encontrado em {balancos_path}\")\n",
    "\n",
    "            except zipfile.BadZipFile:\n",
    "                print(f'O arquivo \"{caminho_arquivo_zip}\" não é um arquivo zip válido.')\n",
    "            except Exception as e:\n",
    "                logging.error(f\"Erro ao extrair e renomear arquivo para {nome_papel}: {e}\")"
   ]
  },
  {
   "cell_type": "markdown",
   "metadata": {},
   "source": [
    "#### Chamando a função para extraír e renomear os arquivos"
   ]
  },
  {
   "cell_type": "code",
   "execution_count": 11,
   "metadata": {},
   "outputs": [],
   "source": [
    "# chamada da função com o DataFrame de papéis\n",
    "extrair_e_renomear_arquivo(df_empresas, DOWNLOADS_FOLDER, BALANCOS_FOLDER, SEM_BALANCOS_LISTA)"
   ]
  },
  {
   "cell_type": "markdown",
   "metadata": {},
   "source": [
    "### Exibindo os resultados"
   ]
  },
  {
   "cell_type": "markdown",
   "metadata": {},
   "source": [
    "#### Comparação entre dataframes"
   ]
  },
  {
   "cell_type": "code",
   "execution_count": 19,
   "metadata": {},
   "outputs": [
    {
     "ename": "NameError",
     "evalue": "name 'df_financas' is not defined",
     "output_type": "error",
     "traceback": [
      "\u001b[1;31m---------------------------------------------------------------------------\u001b[0m",
      "\u001b[1;31mNameError\u001b[0m                                 Traceback (most recent call last)",
      "Cell \u001b[1;32mIn[19], line 11\u001b[0m\n\u001b[0;32m      9\u001b[0m \u001b[38;5;66;03m# Obter as listas de papéis dos DataFrames e do arquivo 'sem_balancos'\u001b[39;00m\n\u001b[0;32m     10\u001b[0m df_empresas_papeis \u001b[38;5;241m=\u001b[39m \u001b[38;5;28mset\u001b[39m(df_empresas[\u001b[38;5;124m'\u001b[39m\u001b[38;5;124mPapel\u001b[39m\u001b[38;5;124m'\u001b[39m])\n\u001b[1;32m---> 11\u001b[0m df_financas_papeis \u001b[38;5;241m=\u001b[39m \u001b[38;5;28mset\u001b[39m(\u001b[43mdf_financas\u001b[49m[\u001b[38;5;124m'\u001b[39m\u001b[38;5;124mPapel\u001b[39m\u001b[38;5;124m'\u001b[39m])\n\u001b[0;32m     13\u001b[0m \u001b[38;5;66;03m# Papéis faltando em cada um dos conjuntos\u001b[39;00m\n\u001b[0;32m     14\u001b[0m faltando_empresas \u001b[38;5;241m=\u001b[39m df_financas_papeis \u001b[38;5;241m-\u001b[39m df_empresas_papeis\n",
      "\u001b[1;31mNameError\u001b[0m: name 'df_financas' is not defined"
     ]
    }
   ],
   "source": [
    "# Ler papéis do arquivo sem_balanco\n",
    "sem_balanco_papeis = set()\n",
    "if os.path.exists(SEM_BALANCOS_LISTA):\n",
    "    with open(SEM_BALANCOS_LISTA, 'r') as f:\n",
    "        sem_balanco_papeis = set(line.strip() for line in f.readlines())\n",
    "else:\n",
    "    print(f\"O arquivo {SEM_BALANCOS_LISTA} não foi encontrado.\")\n",
    "\n",
    "# Obter as listas de papéis dos DataFrames e do arquivo 'sem_balancos'\n",
    "df_empresas_papeis = set(df_empresas['Papel'])\n",
    "df_financas_papeis = set(df_financas['Papel'])\n",
    "\n",
    "# Papéis faltando em cada um dos conjuntos\n",
    "faltando_empresas = df_financas_papeis - df_empresas_papeis\n",
    "faltando_financas = df_empresas_papeis - df_financas_papeis\n",
    "faltando_sem_balanco = (df_empresas_papeis | df_financas_papeis) - sem_balanco_papeis\n",
    "\n",
    "# Papéis sobrando em cada um dos conjuntos\n",
    "sobrando_empresas = df_empresas_papeis - df_financas_papeis\n",
    "sobrando_financas = df_financas_papeis - df_empresas_papeis\n",
    "sobrando_sem_balanco = sem_balanco_papeis - (df_empresas_papeis | df_financas_papeis)\n",
    "\n",
    "# Papéis presentes em 'df_empresas' e 'df_financas', mas não em 'sem_balanco'\n",
    "presentes_empresas_financas_nao_balanco = (df_empresas_papeis & df_financas_papeis) - sem_balanco_papeis\n",
    "\n",
    "# Resultados\n",
    "print(\"Papéis faltando em 'df_empresas':\", faltando_empresas)\n",
    "print(\"Papéis faltando em 'df_financas':\", faltando_financas)\n",
    "\n",
    "\n",
    "print(\"\\nPapéis sobrando em 'df_empresas':\", sobrando_empresas)\n",
    "print(\"Papéis sobrando em 'df_financas':\", sobrando_financas)\n",
    "\n",
    "\n",
    "print(\"\\nPapéis presentes em 'df_empresas' e 'df_financas', mas não em 'sem_balanco':\", presentes_empresas_financas_nao_balanco)\n",
    "\n"
   ]
  }
 ],
 "metadata": {
  "kernelspec": {
   "display_name": "venv",
   "language": "python",
   "name": "python3"
  },
  "language_info": {
   "codemirror_mode": {
    "name": "ipython",
    "version": 3
   },
   "file_extension": ".py",
   "mimetype": "text/x-python",
   "name": "python",
   "nbconvert_exporter": "python",
   "pygments_lexer": "ipython3",
   "version": "3.11.9"
  }
 },
 "nbformat": 4,
 "nbformat_minor": 2
}
